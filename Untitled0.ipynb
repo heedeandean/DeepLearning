{
  "nbformat": 4,
  "nbformat_minor": 0,
  "metadata": {
    "colab": {
      "name": "Untitled0.ipynb",
      "provenance": [],
      "collapsed_sections": [],
      "authorship_tag": "ABX9TyOXOMgCayOqwYY0cQ47G/yi",
      "include_colab_link": true
    },
    "kernelspec": {
      "name": "python3",
      "display_name": "Python 3"
    }
  },
  "cells": [
    {
      "cell_type": "markdown",
      "metadata": {
        "id": "view-in-github",
        "colab_type": "text"
      },
      "source": [
        "<a href=\"https://colab.research.google.com/github/heedeandean/DeepLearning/blob/master/Untitled0.ipynb\" target=\"_parent\"><img src=\"https://colab.research.google.com/assets/colab-badge.svg\" alt=\"Open In Colab\"/></a>"
      ]
    },
    {
      "cell_type": "code",
      "metadata": {
        "id": "sU3Ln82-Xtex",
        "colab_type": "code",
        "colab": {
          "base_uri": "https://localhost:8080/",
          "height": 35
        },
        "outputId": "51dc3bff-86b2-410b-a670-6f1642167f36"
      },
      "source": [
        "from sklearn.datasets import load_breast_cancer\n",
        "from sklearn.model_selection import train_test_split\n",
        "import numpy as np\n",
        "\n",
        "cancer = load_breast_cancer()\n",
        "x = cancer.data\n",
        "y = cancer.target\n",
        "x_train_all, x_test, y_train_all, y_test = train_test_split(x, y, stratify=y, test_size=0.2, random_state=42)\n",
        "x_train, x_val, y_train, y_val = train_test_split(x_train_all, y_train_all, stratify=y_train_all, test_size=0.2, random_state=42)\n",
        "\n",
        "print(len(x_train), len(x_val))"
      ],
      "execution_count": 31,
      "outputs": [
        {
          "output_type": "stream",
          "text": [
            "364 91\n"
          ],
          "name": "stdout"
        }
      ]
    },
    {
      "cell_type": "code",
      "metadata": {
        "id": "zd-Dl-j3dLxm",
        "colab_type": "code",
        "colab": {
          "base_uri": "https://localhost:8080/",
          "height": 35
        },
        "outputId": "70d9cb8c-9763-473e-914f-deb666dc056f"
      },
      "source": [
        "from sklearn.linear_model import SGDClassifier\n",
        "sgd = SGDClassifier(loss='log', random_state=42)\n",
        "sgd.fit(x_train, y_train)\n",
        "sgd.score(x_val, y_val)"
      ],
      "execution_count": 32,
      "outputs": [
        {
          "output_type": "execute_result",
          "data": {
            "text/plain": [
              "0.6923076923076923"
            ]
          },
          "metadata": {
            "tags": []
          },
          "execution_count": 32
        }
      ]
    },
    {
      "cell_type": "code",
      "metadata": {
        "id": "39RWqB8HdcKW",
        "colab_type": "code",
        "colab": {
          "base_uri": "https://localhost:8080/",
          "height": 297
        },
        "outputId": "6def9f67-c83b-46a7-8722-8bb0e6f43948"
      },
      "source": [
        "import matplotlib.pyplot as plt\n",
        "print(cancer.feature_names[[2,3]])\n",
        "plt.boxplot(x_train[:, 2:4])\n",
        "plt.xlabel('feature')\n",
        "plt.ylabel('value')\n",
        "plt.show()"
      ],
      "execution_count": 33,
      "outputs": [
        {
          "output_type": "stream",
          "text": [
            "['mean perimeter' 'mean area']\n"
          ],
          "name": "stdout"
        },
        {
          "output_type": "display_data",
          "data": {
            "image/png": "[encoded data removed]",
            "text/plain": [
              "<Figure size 432x288 with 1 Axes>"
            ]
          },
          "metadata": {
            "tags": [],
            "needs_background": "light"
          }
        }
      ]
    },
    {
      "cell_type": "code",
      "metadata": {
        "id": "JqHN6O2PBdEa",
        "colab_type": "code",
        "colab": {}
      },
      "source": [
        "class SingleLayer:\n",
        "\n",
        "  def __init__(self, learning_rate=0.1):\n",
        "    self.w = None\n",
        "    self.b = None\n",
        "    self.losses = []\n",
        "    self.val_losses = []\n",
        "    self.w_history = []\n",
        "    self.lr = learning_rate\n",
        "\n",
        "  def forpass(self, x):\n",
        "    z = np.sum(x * self.w) + self.b\n",
        "    return z\n",
        "\n",
        "  def backprop(self, x, err):\n",
        "    w_grad = x * err\n",
        "    b_grad = 1 * err\n",
        "    return w_grad, b_grad\n",
        "\n",
        "  def activation(self, z):\n",
        "    a = 1 / (1 + np.exp(-z))      # 시그모이드 계산\n",
        "    return a\n",
        "  \n",
        "  def update_val_loss(self, x_val, y_val):\n",
        "    if x_val is None:\n",
        "      return\n",
        "    val_loss = 0\n",
        "    for i in range(len(x_val)):\n",
        "      z = self.forpass(x_val[i])\n",
        "      a = self.activation(z)\n",
        "      a = np.clip(a, 1e-10, 1-1e-10)\n",
        "      val_loss += -(y_val[i]*np.log(a)+(1-y_val[i])*np.log(1-a))\n",
        "    self.val_losses.append(val_loss/len(y_val))\n",
        "\n",
        "  def fit(self, x, y, epochs=100, x_val=None, y_val=None):\n",
        "    self.w = np.ones(x.shape[1]) # 가중치 초기화\n",
        "    self.b = 0                   # 절편 초기화\n",
        "    self.w_history.append(self.w.copy()) # 가중치 기록\n",
        "    np.random.seed(42)\n",
        "    for i in range(epochs):\n",
        "      loss = 0\n",
        "      indexes = np.random.permutation(np.arange(len(x))) # 인데스 섞기\n",
        "      for i in indexes:\n",
        "        z = self.forpass(x[i])   # 정방향 계산\n",
        "        a = self.activation(z)   # 활성화 함수 적용\n",
        "        err = -(y[i] - a)        # 오차 계산\n",
        "        w_grad, b_grad = self.backprop(x[i], err) # 역방향 계산\n",
        "        self.w -= self.lr * w_grad\n",
        "        self.b -= b_grad\n",
        "        self.w_history.append(self.w.copy()) # 가중치 기록\n",
        "        a = np.clip(a, 1e-10, 1-1e-10)\n",
        "        loss += -(y[i]*np.log(a)+(1-y[i])*np.log(1-a))\n",
        "      self.losses.append(loss/len(y))\n",
        "      self.update_val_loss(x_val, y_val)\n",
        "\n",
        "  def predict(self, x):\n",
        "    z = [self.forpass(x_i) for x_i in x] # 정방향 계산\n",
        "    return np.array(z) > 0               # 계단 함수\n",
        "\n",
        "  def score(self, x, y):\n",
        "    return np.mean(self.predict(x) == y)"
      ],
      "execution_count": 34,
      "outputs": []
    },
    {
      "cell_type": "code",
      "metadata": {
        "id": "Kp2mY76LF8WX",
        "colab_type": "code",
        "colab": {
          "base_uri": "https://localhost:8080/",
          "height": 53
        },
        "outputId": "1c6efc87-1e26-438c-9116-6184b38d6274"
      },
      "source": [
        "layer1 = SingleLayer()\n",
        "layer1.fit(x_train, y_train)\n",
        "layer1.score(x_val, y_val)"
      ],
      "execution_count": 35,
      "outputs": [
        {
          "output_type": "stream",
          "text": [
            "/usr/local/lib/python3.6/dist-packages/ipykernel_launcher.py:21: RuntimeWarning: overflow encountered in exp\n"
          ],
          "name": "stderr"
        },
        {
          "output_type": "execute_result",
          "data": {
            "text/plain": [
              "0.9120879120879121"
            ]
          },
          "metadata": {
            "tags": []
          },
          "execution_count": 35
        }
      ]
    },
    {
      "cell_type": "code",
      "metadata": {
        "id": "LcjQZ1snGGKO",
        "colab_type": "code",
        "colab": {
          "base_uri": "https://localhost:8080/",
          "height": 279
        },
        "outputId": "21363596-f493-4e19-c409-e98de3e2f312"
      },
      "source": [
        "w2 = []\n",
        "w3 = []\n",
        "for w in layer1.w_history:\n",
        "  w2.append(w[2])\n",
        "  w3.append(w[3])\n",
        "plt.plot(w2, w3)\n",
        "plt.plot(w2[-1], w3[-1], 'ro')\n",
        "plt.xlabel('w[2]')\n",
        "plt.ylabel('w[3]')\n",
        "plt.show()"
      ],
      "execution_count": 36,
      "outputs": [
        {
          "output_type": "display_data",
          "data": {
            "image/png": "[encoded data removed]",
            "text/plain": [
              "<Figure size 432x288 with 1 Axes>"
            ]
          },
          "metadata": {
            "tags": [],
            "needs_background": "light"
          }
        }
      ]
    },
    {
      "cell_type": "code",
      "metadata": {
        "id": "szW_ml_fHL7N",
        "colab_type": "code",
        "colab": {}
      },
      "source": [
        "train_mean = np.mean(x_train, axis=0)\n",
        "train_std = np.std(x_train, axis=0)\n",
        "x_train_scaled = (x_train - train_mean) / train_std"
      ],
      "execution_count": 37,
      "outputs": []
    },
    {
      "cell_type": "code",
      "metadata": {
        "id": "r9rGTaX1RCnw",
        "colab_type": "code",
        "colab": {
          "base_uri": "https://localhost:8080/",
          "height": 279
        },
        "outputId": "6f0915f2-cfe8-4d7f-a85e-2254bc0492ee"
      },
      "source": [
        "layer2 = SingleLayer()\n",
        "layer2.fit(x_train_scaled, y_train)\n",
        "w2 = []\n",
        "w3 = []\n",
        "for w in layer2.w_history:\n",
        "  w2.append(w[2])\n",
        "  w3.append(w[3])\n",
        "plt.plot(w2, w3)\n",
        "plt.plot(w2[-1], w3[-1], 'ro')\n",
        "plt.xlabel('w[2]')\n",
        "plt.ylabel('w[3]')\n",
        "plt.show()"
      ],
      "execution_count": 38,
      "outputs": [
        {
          "output_type": "display_data",
          "data": {
            "image/png": "[encoded data removed]",
            "text/plain": [
              "<Figure size 432x288 with 1 Axes>"
            ]
          },
          "metadata": {
            "tags": [],
            "needs_background": "light"
          }
        }
      ]
    },
    {
      "cell_type": "code",
      "metadata": {
        "id": "SfdMiySmQfJi",
        "colab_type": "code",
        "colab": {
          "base_uri": "https://localhost:8080/",
          "height": 35
        },
        "outputId": "da309ca9-4106-496e-a8ce-287472157fe9"
      },
      "source": [
        "layer2.score(x_val, y_val)"
      ],
      "execution_count": 39,
      "outputs": [
        {
          "output_type": "execute_result",
          "data": {
            "text/plain": [
              "0.37362637362637363"
            ]
          },
          "metadata": {
            "tags": []
          },
          "execution_count": 39
        }
      ]
    },
    {
      "cell_type": "code",
      "metadata": {
        "id": "-ROxENabYn1s",
        "colab_type": "code",
        "colab": {
          "base_uri": "https://localhost:8080/",
          "height": 35
        },
        "outputId": "69534021-feed-4abd-b485-6e871b1f4022"
      },
      "source": [
        "val_mean = np.mean(x_val, axis=0)\n",
        "val_std = np.std(x_val, axis=0)\n",
        "x_val_scaled = (x_val - val_mean) / val_std\n",
        "layer2.score(x_val_scaled, y_val)"
      ],
      "execution_count": 40,
      "outputs": [
        {
          "output_type": "execute_result",
          "data": {
            "text/plain": [
              "0.967032967032967"
            ]
          },
          "metadata": {
            "tags": []
          },
          "execution_count": 40
        }
      ]
    },
    {
      "cell_type": "code",
      "metadata": {
        "id": "ctam3nqnY9ob",
        "colab_type": "code",
        "colab": {
          "base_uri": "https://localhost:8080/",
          "height": 279
        },
        "outputId": "c5ee73a0-e3b0-468b-b83f-3fd0ff00550a"
      },
      "source": [
        "plt.plot(x_train[:50, 0], x_train[:50, 1], 'bo')\n",
        "plt.plot(x_val[:50, 0], x_val[:50, 1], 'ro')\n",
        "plt.xlabel('feature 1')\n",
        "plt.ylabel('feature 2')\n",
        "plt.legend(['train set', 'val. set'])\n",
        "plt.show()"
      ],
      "execution_count": 41,
      "outputs": [
        {
          "output_type": "display_data",
          "data": {
            "image/png": "[encoded data removed]",
            "text/plain": [
              "<Figure size 432x288 with 1 Axes>"
            ]
          },
          "metadata": {
            "tags": [],
            "needs_background": "light"
          }
        }
      ]
    },
    {
      "cell_type": "code",
      "metadata": {
        "id": "hk3jhUlkagNN",
        "colab_type": "code",
        "colab": {
          "base_uri": "https://localhost:8080/",
          "height": 279
        },
        "outputId": "a4e2672b-f281-491d-b566-1b32f13429bd"
      },
      "source": [
        "plt.plot(x_train_scaled[:50, 0], x_train_scaled[:50, 1], 'bo')\n",
        "plt.plot(x_val_scaled[:50, 0], x_val_scaled[:50, 1], 'ro')\n",
        "plt.xlabel('feature 1')\n",
        "plt.ylabel('feature 2')\n",
        "plt.legend(['train set', 'val. set'])\n",
        "plt.show()"
      ],
      "execution_count": 42,
      "outputs": [
        {
          "output_type": "display_data",
          "data": {
            "image/png": "[encoded data removed]",
            "text/plain": [
              "<Figure size 432x288 with 1 Axes>"
            ]
          },
          "metadata": {
            "tags": [],
            "needs_background": "light"
          }
        }
      ]
    },
    {
      "cell_type": "code",
      "metadata": {
        "id": "KDNcJQKFa99C",
        "colab_type": "code",
        "colab": {
          "base_uri": "https://localhost:8080/",
          "height": 279
        },
        "outputId": "565a6356-5cbb-4e46-c719-612dc8872fca"
      },
      "source": [
        "x_val_scaled = (x_val - train_mean) / train_std\n",
        "plt.plot(x_train_scaled[:50, 0], x_train_scaled[:50, 1], 'bo')\n",
        "plt.plot(x_val_scaled[:50, 0], x_val_scaled[:50, 1], 'ro')\n",
        "plt.xlabel('feature 1')\n",
        "plt.ylabel('feature 2')\n",
        "plt.legend(['train set', 'val. set'])\n",
        "plt.show()"
      ],
      "execution_count": 43,
      "outputs": [
        {
          "output_type": "display_data",
          "data": {
            "image/png": "[encoded data removed]",
            "text/plain": [
              "<Figure size 432x288 with 1 Axes>"
            ]
          },
          "metadata": {
            "tags": [],
            "needs_background": "light"
          }
        }
      ]
    },
    {
      "cell_type": "code",
      "metadata": {
        "id": "RrQTC6FGdgPd",
        "colab_type": "code",
        "colab": {
          "base_uri": "https://localhost:8080/",
          "height": 35
        },
        "outputId": "f006b13a-9f7b-48b5-fec3-a93e96008d20"
      },
      "source": [
        "layer2.score(x_val_scaled, y_val)"
      ],
      "execution_count": 44,
      "outputs": [
        {
          "output_type": "execute_result",
          "data": {
            "text/plain": [
              "0.967032967032967"
            ]
          },
          "metadata": {
            "tags": []
          },
          "execution_count": 44
        }
      ]
    },
    {
      "cell_type": "code",
      "metadata": {
        "id": "jhLrsENffbbe",
        "colab_type": "code",
        "colab": {}
      },
      "source": [
        "layer3 = SingleLayer()\n",
        "layer3.fit(x_train_scaled, y_train, x_val=x_val_scaled, y_val=y_val)"
      ],
      "execution_count": 45,
      "outputs": []
    },
    {
      "cell_type": "code",
      "metadata": {
        "id": "a6zlq3FJKtQQ",
        "colab_type": "code",
        "colab": {
          "base_uri": "https://localhost:8080/",
          "height": 283
        },
        "outputId": "38261e5c-f254-4ef5-e611-7c0bd7d395af"
      },
      "source": [
        "plt.ylim(0, 0.3)\n",
        "plt.plot(layer3.losses)\n",
        "plt.plot(layer3.val_losses)\n",
        "plt.xlabel('epoch')\n",
        "plt.ylabel('loss')\n",
        "plt.legend(['train_loss', 'val_loss'])\n",
        "plt.show()"
      ],
      "execution_count": 46,
      "outputs": [
        {
          "output_type": "display_data",
          "data": {
            "image/png": "[encoded data removed]",
            "text/plain": [
              "<Figure size 432x288 with 1 Axes>"
            ]
          },
          "metadata": {
            "tags": [],
            "needs_background": "light"
          }
        }
      ]
    },
    {
      "cell_type": "code",
      "metadata": {
        "id": "YFjdxGWnMrBU",
        "colab_type": "code",
        "colab": {}
      },
      "source": [
        ""
      ],
      "execution_count": null,
      "outputs": []
    }
  ]
}