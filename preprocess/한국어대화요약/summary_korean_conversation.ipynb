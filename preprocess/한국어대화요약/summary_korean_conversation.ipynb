{
  "cells": [
    {
      "cell_type": "markdown",
      "metadata": {
        "id": "qVvZUZDBlNhx"
      },
      "source": [
        "# AI_hub 한국어대화요약 데이터 전처리"
      ]
    },
    {
      "cell_type": "code",
      "execution_count": 7,
      "metadata": {
        "id": "rAIpVwY4lNhx"
      },
      "outputs": [],
      "source": [
        "import pandas as pd\n",
        "import json"
      ]
    },
    {
      "cell_type": "code",
      "execution_count": 5,
      "metadata": {
        "id": "V1Tlm5_1lNhx"
      },
      "outputs": [],
      "source": [
        "category = ['개인및관계', '미용과건강', '상거래(쇼핑)', '시사교육', '식음료', '여가생활', '일과직업', '주거와생활', '행사'] \n",
        "file_path = '/content/drive/MyDrive/Colab Notebooks/문장요약프젝/preprocess/한국어대화요약_train/'"
      ]
    },
    {
      "cell_type": "code",
      "execution_count": null,
      "metadata": {
        "colab": {
          "base_uri": "https://localhost:8080/"
        },
        "id": "uIlcOLs9lNhy",
        "outputId": "55c7de7a-fbc9-4a03-e8bf-610e44551bb2"
      },
      "outputs": [
        {
          "output_type": "stream",
          "name": "stdout",
          "text": [
            "file name : 개인및관계.json(71130)\n",
            "file name : 미용과건강.json(17069)\n",
            "file name : 상거래(쇼핑).json(26298)\n",
            "file name : 시사교육.json(13119)\n",
            "file name : 식음료.json(30184)\n",
            "file name : 여가생활.json(35247)\n",
            "file name : 일과직업.json(20428)\n",
            "file name : 주거와생활.json(45179)\n",
            "file name : 행사.json(21338)\n"
          ]
        }
      ],
      "source": [
        "new_df = pd.DataFrame(columns=['text', 'summary'])               \n",
        "for topic in category:\n",
        "    file_name = topic + '.json'\n",
        "    with open(file_path + file_name) as f:     \n",
        "        json_data = json.load(f)\n",
        "        \n",
        "        raw_df = pd.DataFrame(json_data)\n",
        "        raw_df = raw_df['data']\n",
        "\n",
        "        print('file name : {}({})'.format(file_name, len(raw_df)))\n",
        "        \n",
        "        for i in range(len(raw_df)):\n",
        "            temp_df = pd.DataFrame(raw_df[i]['body']['dialogue'])\n",
        "            text = ' '.join(list(temp_df['utterance']))                          \n",
        "            summary = raw_df[i]['body']['summary']         \n",
        "            append_list = [text, summary]                 \n",
        "\n",
        "            new_df = new_df.append(pd.Series(append_list, index=new_df.columns), ignore_index=True)"
      ]
    },
    {
      "cell_type": "code",
      "execution_count": null,
      "metadata": {
        "colab": {
          "base_uri": "https://localhost:8080/",
          "height": 423
        },
        "id": "zSz6NyHQlNhy",
        "outputId": "07c7171d-f7ac-45c5-cc9b-b46562a3ccce"
      },
      "outputs": [
        {
          "output_type": "execute_result",
          "data": {
            "text/plain": [
              "                                                     text  \\\n",
              "0       우리 기간 언제까지나고 물어볼 수 없어 재등록 할 줄 알면 어케? 헉... 어떻게말...   \n",
              "1              아침 헉 잘안먹구 일찍 인나짜나 좀잇으면 점심타임 허어억 그럼 아점 땡겨야대   \n",
              "2       18년도 잘한 일임니다 넘나 레전급여행 개고생이었지만 뿌듯하네욘 저염,, 가을 남해...   \n",
              "3       나왔당 ㅋ 내일은 폭풍야근 예상이지만ㅋㅋ 잉? 늦느줄알고 암것도안했는데ㅜㅜ 애들도 ...   \n",
              "4       카톡 사진 한결같노 ㅇㅏ... 제 유사손주입니다.. .....음.... 아이돌?? ...   \n",
              "...                                                   ...   \n",
              "279987  도착하샸나염 자리잡고 알려주이소 아아 ㅋㅋㅋㅋ나 다이소좀 구경하느랔ㅋㅋㅋㅋㅋ 웅 이...   \n",
              "279988     시간잘봐라 겁나 여러가지다 예약내역 올려바바 그러게 호텔은 언제해여? 표사고 오늘밤   \n",
              "279989  언제 도착요정이십니까 15분뒤 도착이룝! 옥희여 이제 나오묜 될듯! 나나홨오! 나와...   \n",
              "279990  근데 현인가요제 가면 최소20시간은 줄서서 기다려야하는거아님?ㅜ 그정도는아니고,, ...   \n",
              "279991  아?? 그렇구나ㅋㅋㅋㅋㅋㅋㅋㅋ ㅋㅋㅋㅋㅋ어떄 대전 괜찮아? 오! 대전도 좋은거 같아...   \n",
              "\n",
              "                                                  summary  \n",
              "0       아저씨가 재등록에 관하여 물어보면 다음 달은 바빠서 어려울 것 같고 다음에 다시 오...  \n",
              "1       일찍 일어났지만 아침을 원래 잘 챙겨 먹지 않아서 아침 겸 점심(아점)을 먹을 예정이다.  \n",
              "2       18년도의 잘한 일이고 전설급 여행이었다며 뿌듯해하고 가을 남해에 꼭 다시 가자고 한다.  \n",
              "3                         오늘 퇴근이 늦을 줄 알고 가족들이 저녁을 먼저 먹었다.  \n",
              "4            귀여운 중국인을 카톡 프로필 사진으로 설정하고 자신의 유사 손주라고 이야기한다.  \n",
              "...                                                   ...  \n",
              "279987         역 근처에 있는 곳이 리모델링을 하여 더 좋을 거 같아 그쪽으로 가고 있다.  \n",
              "279988                         교통편 및 호텔 예약과 관련한 사항을 확인한다.  \n",
              "279989                    가고 있는 길을 설명해 주고 15분 뒤 도착이라고 한다.  \n",
              "279990           저녁에 하는 현인가요제는 아침부터 12시간은 줄을 서야 들어갈 수 있다.  \n",
              "279991                           대전과 겨울바다를 보러 가는 것을 물어본다.  \n",
              "\n",
              "[279992 rows x 2 columns]"
            ],
            "text/html": [
              "\n",
              "  <div id=\"df-3b23b043-2a93-435b-ac08-fa1f2a7bc6b1\">\n",
              "    <div class=\"colab-df-container\">\n",
              "      <div>\n",
              "<style scoped>\n",
              "    .dataframe tbody tr th:only-of-type {\n",
              "        vertical-align: middle;\n",
              "    }\n",
              "\n",
              "    .dataframe tbody tr th {\n",
              "        vertical-align: top;\n",
              "    }\n",
              "\n",
              "    .dataframe thead th {\n",
              "        text-align: right;\n",
              "    }\n",
              "</style>\n",
              "<table border=\"1\" class=\"dataframe\">\n",
              "  <thead>\n",
              "    <tr style=\"text-align: right;\">\n",
              "      <th></th>\n",
              "      <th>text</th>\n",
              "      <th>summary</th>\n",
              "    </tr>\n",
              "  </thead>\n",
              "  <tbody>\n",
              "    <tr>\n",
              "      <th>0</th>\n",
              "      <td>우리 기간 언제까지나고 물어볼 수 없어 재등록 할 줄 알면 어케? 헉... 어떻게말...</td>\n",
              "      <td>아저씨가 재등록에 관하여 물어보면 다음 달은 바빠서 어려울 것 같고 다음에 다시 오...</td>\n",
              "    </tr>\n",
              "    <tr>\n",
              "      <th>1</th>\n",
              "      <td>아침 헉 잘안먹구 일찍 인나짜나 좀잇으면 점심타임 허어억 그럼 아점 땡겨야대</td>\n",
              "      <td>일찍 일어났지만 아침을 원래 잘 챙겨 먹지 않아서 아침 겸 점심(아점)을 먹을 예정이다.</td>\n",
              "    </tr>\n",
              "    <tr>\n",
              "      <th>2</th>\n",
              "      <td>18년도 잘한 일임니다 넘나 레전급여행 개고생이었지만 뿌듯하네욘 저염,, 가을 남해...</td>\n",
              "      <td>18년도의 잘한 일이고 전설급 여행이었다며 뿌듯해하고 가을 남해에 꼭 다시 가자고 한다.</td>\n",
              "    </tr>\n",
              "    <tr>\n",
              "      <th>3</th>\n",
              "      <td>나왔당 ㅋ 내일은 폭풍야근 예상이지만ㅋㅋ 잉? 늦느줄알고 암것도안했는데ㅜㅜ 애들도 ...</td>\n",
              "      <td>오늘 퇴근이 늦을 줄 알고 가족들이 저녁을 먼저 먹었다.</td>\n",
              "    </tr>\n",
              "    <tr>\n",
              "      <th>4</th>\n",
              "      <td>카톡 사진 한결같노 ㅇㅏ... 제 유사손주입니다.. .....음.... 아이돌?? ...</td>\n",
              "      <td>귀여운 중국인을 카톡 프로필 사진으로 설정하고 자신의 유사 손주라고 이야기한다.</td>\n",
              "    </tr>\n",
              "    <tr>\n",
              "      <th>...</th>\n",
              "      <td>...</td>\n",
              "      <td>...</td>\n",
              "    </tr>\n",
              "    <tr>\n",
              "      <th>279987</th>\n",
              "      <td>도착하샸나염 자리잡고 알려주이소 아아 ㅋㅋㅋㅋ나 다이소좀 구경하느랔ㅋㅋㅋㅋㅋ 웅 이...</td>\n",
              "      <td>역 근처에 있는 곳이 리모델링을 하여 더 좋을 거 같아 그쪽으로 가고 있다.</td>\n",
              "    </tr>\n",
              "    <tr>\n",
              "      <th>279988</th>\n",
              "      <td>시간잘봐라 겁나 여러가지다 예약내역 올려바바 그러게 호텔은 언제해여? 표사고 오늘밤</td>\n",
              "      <td>교통편 및 호텔 예약과 관련한 사항을 확인한다.</td>\n",
              "    </tr>\n",
              "    <tr>\n",
              "      <th>279989</th>\n",
              "      <td>언제 도착요정이십니까 15분뒤 도착이룝! 옥희여 이제 나오묜 될듯! 나나홨오! 나와...</td>\n",
              "      <td>가고 있는 길을 설명해 주고 15분 뒤 도착이라고 한다.</td>\n",
              "    </tr>\n",
              "    <tr>\n",
              "      <th>279990</th>\n",
              "      <td>근데 현인가요제 가면 최소20시간은 줄서서 기다려야하는거아님?ㅜ 그정도는아니고,, ...</td>\n",
              "      <td>저녁에 하는 현인가요제는 아침부터 12시간은 줄을 서야 들어갈 수 있다.</td>\n",
              "    </tr>\n",
              "    <tr>\n",
              "      <th>279991</th>\n",
              "      <td>아?? 그렇구나ㅋㅋㅋㅋㅋㅋㅋㅋ ㅋㅋㅋㅋㅋ어떄 대전 괜찮아? 오! 대전도 좋은거 같아...</td>\n",
              "      <td>대전과 겨울바다를 보러 가는 것을 물어본다.</td>\n",
              "    </tr>\n",
              "  </tbody>\n",
              "</table>\n",
              "<p>279992 rows × 2 columns</p>\n",
              "</div>\n",
              "      <button class=\"colab-df-convert\" onclick=\"convertToInteractive('df-3b23b043-2a93-435b-ac08-fa1f2a7bc6b1')\"\n",
              "              title=\"Convert this dataframe to an interactive table.\"\n",
              "              style=\"display:none;\">\n",
              "        \n",
              "  <svg xmlns=\"http://www.w3.org/2000/svg\" height=\"24px\"viewBox=\"0 0 24 24\"\n",
              "       width=\"24px\">\n",
              "    <path d=\"M0 0h24v24H0V0z\" fill=\"none\"/>\n",
              "    <path d=\"M18.56 5.44l.94 2.06.94-2.06 2.06-.94-2.06-.94-.94-2.06-.94 2.06-2.06.94zm-11 1L8.5 8.5l.94-2.06 2.06-.94-2.06-.94L8.5 2.5l-.94 2.06-2.06.94zm10 10l.94 2.06.94-2.06 2.06-.94-2.06-.94-.94-2.06-.94 2.06-2.06.94z\"/><path d=\"M17.41 7.96l-1.37-1.37c-.4-.4-.92-.59-1.43-.59-.52 0-1.04.2-1.43.59L10.3 9.45l-7.72 7.72c-.78.78-.78 2.05 0 2.83L4 21.41c.39.39.9.59 1.41.59.51 0 1.02-.2 1.41-.59l7.78-7.78 2.81-2.81c.8-.78.8-2.07 0-2.86zM5.41 20L4 18.59l7.72-7.72 1.47 1.35L5.41 20z\"/>\n",
              "  </svg>\n",
              "      </button>\n",
              "      \n",
              "  <style>\n",
              "    .colab-df-container {\n",
              "      display:flex;\n",
              "      flex-wrap:wrap;\n",
              "      gap: 12px;\n",
              "    }\n",
              "\n",
              "    .colab-df-convert {\n",
              "      background-color: #E8F0FE;\n",
              "      border: none;\n",
              "      border-radius: 50%;\n",
              "      cursor: pointer;\n",
              "      display: none;\n",
              "      fill: #1967D2;\n",
              "      height: 32px;\n",
              "      padding: 0 0 0 0;\n",
              "      width: 32px;\n",
              "    }\n",
              "\n",
              "    .colab-df-convert:hover {\n",
              "      background-color: #E2EBFA;\n",
              "      box-shadow: 0px 1px 2px rgba(60, 64, 67, 0.3), 0px 1px 3px 1px rgba(60, 64, 67, 0.15);\n",
              "      fill: #174EA6;\n",
              "    }\n",
              "\n",
              "    [theme=dark] .colab-df-convert {\n",
              "      background-color: #3B4455;\n",
              "      fill: #D2E3FC;\n",
              "    }\n",
              "\n",
              "    [theme=dark] .colab-df-convert:hover {\n",
              "      background-color: #434B5C;\n",
              "      box-shadow: 0px 1px 3px 1px rgba(0, 0, 0, 0.15);\n",
              "      filter: drop-shadow(0px 1px 2px rgba(0, 0, 0, 0.3));\n",
              "      fill: #FFFFFF;\n",
              "    }\n",
              "  </style>\n",
              "\n",
              "      <script>\n",
              "        const buttonEl =\n",
              "          document.querySelector('#df-3b23b043-2a93-435b-ac08-fa1f2a7bc6b1 button.colab-df-convert');\n",
              "        buttonEl.style.display =\n",
              "          google.colab.kernel.accessAllowed ? 'block' : 'none';\n",
              "\n",
              "        async function convertToInteractive(key) {\n",
              "          const element = document.querySelector('#df-3b23b043-2a93-435b-ac08-fa1f2a7bc6b1');\n",
              "          const dataTable =\n",
              "            await google.colab.kernel.invokeFunction('convertToInteractive',\n",
              "                                                     [key], {});\n",
              "          if (!dataTable) return;\n",
              "\n",
              "          const docLinkHtml = 'Like what you see? Visit the ' +\n",
              "            '<a target=\"_blank\" href=https://colab.research.google.com/notebooks/data_table.ipynb>data table notebook</a>'\n",
              "            + ' to learn more about interactive tables.';\n",
              "          element.innerHTML = '';\n",
              "          dataTable['output_type'] = 'display_data';\n",
              "          await google.colab.output.renderOutput(dataTable, element);\n",
              "          const docLink = document.createElement('div');\n",
              "          docLink.innerHTML = docLinkHtml;\n",
              "          element.appendChild(docLink);\n",
              "        }\n",
              "      </script>\n",
              "    </div>\n",
              "  </div>\n",
              "  "
            ]
          },
          "metadata": {},
          "execution_count": 69
        }
      ],
      "source": [
        "new_df"
      ]
    },
    {
      "cell_type": "code",
      "source": [
        "new_df.to_csv(file_path + 'train.csv')"
      ],
      "metadata": {
        "id": "7dSDgH3zPZOs"
      },
      "execution_count": null,
      "outputs": []
    },
    {
      "cell_type": "code",
      "execution_count": 67,
      "metadata": {
        "id": "bX6FwX4clNh0"
      },
      "outputs": [],
      "source": [
        "# 추출한 파일 읽기\n",
        "df = pd.read_csv(file_path + 'train.csv')"
      ]
    },
    {
      "cell_type": "code",
      "source": [
        "# 전처리 전 \n",
        "sample_index = 3\n",
        "print('text :', df['text'][sample_index])\n",
        "print('summary :', df['summary'][sample_index])"
      ],
      "metadata": {
        "colab": {
          "base_uri": "https://localhost:8080/"
        },
        "id": "EXeaIA5sYxfN",
        "outputId": "9019b1cb-be7f-4116-83f2-bd40900dca16"
      },
      "execution_count": 68,
      "outputs": [
        {
          "output_type": "stream",
          "name": "stdout",
          "text": [
            "text : 나왔당 ㅋ 내일은 폭풍야근 예상이지만ㅋㅋ 잉? 늦느줄알고 암것도안했는데ㅜㅜ 애들도 지금 먹고있고 ㅋㅋ 대층 먹지머 암튼얼렁와 내리면 톡해 밥준비하께 떡뽂이 사갈까? 참고로 나도 곤약비빔해먹었어ㅜㅜ 엥...ㅋ 차려주께~~불고기도조금있고 알써...ㅋ 뭐 차리지마\n",
            "summary : 오늘 퇴근이 늦을 줄 알고 가족들이 저녁을 먼저 먹었다.\n"
          ]
        }
      ]
    },
    {
      "cell_type": "code",
      "source": [
        "# 전처리 후 : 한글, 숫자, 띄어쓰기만 남기고 제거\n",
        "import re\n",
        "\n",
        "df['text'] = [re.sub('[^0-9가-힣 ]', '', s) for s in df['text']]\n",
        "print('text :', df['text'][sample_index])\n",
        "print('summary :', df['summary'][sample_index])"
      ],
      "metadata": {
        "colab": {
          "base_uri": "https://localhost:8080/"
        },
        "id": "l-p_4d1Yujzl",
        "outputId": "0e21cd31-6221-4531-b035-0abfab44cbf6"
      },
      "execution_count": 69,
      "outputs": [
        {
          "output_type": "stream",
          "name": "stdout",
          "text": [
            "text : 나왔당  내일은 폭풍야근 예상이지만 잉 늦느줄알고 암것도안했는데 애들도 지금 먹고있고  대층 먹지머 암튼얼렁와 내리면 톡해 밥준비하께 떡뽂이 사갈까 참고로 나도 곤약비빔해먹었어 엥 차려주께불고기도조금있고 알써 뭐 차리지마\n",
            "summary : 오늘 퇴근이 늦을 줄 알고 가족들이 저녁을 먼저 먹었다.\n"
          ]
        }
      ]
    },
    {
      "cell_type": "code",
      "source": [
        "df.to_csv(file_path + 'processed_train.csv')"
      ],
      "metadata": {
        "id": "my-4zXOZ4JYn"
      },
      "execution_count": 64,
      "outputs": []
    }
  ],
  "metadata": {
    "colab": {
      "collapsed_sections": [],
      "name": "summary_korean_conversation.ipynb",
      "provenance": [],
      "toc_visible": true,
      "mount_file_id": "18EnsaXrVMYug2TUphzfbj2x8GiiiYMAd",
      "authorship_tag": "ABX9TyMvVPwSxk/Uh1BuNFrIxaE5"
    },
    "kernelspec": {
      "display_name": "Python 3",
      "name": "python3"
    },
    "language_info": {
      "name": "python"
    }
  },
  "nbformat": 4,
  "nbformat_minor": 0
}