{
  "nbformat": 4,
  "nbformat_minor": 0,
  "metadata": {
    "colab": {
      "name": "stemming_unsupervised_learning.ipynb",
      "provenance": [],
      "collapsed_sections": [],
      "authorship_tag": "ABX9TyOp7DFptorLfQL3J9fcD62d"
    },
    "kernelspec": {
      "name": "python3",
      "display_name": "Python 3"
    },
    "language_info": {
      "name": "python"
    }
  },
  "cells": [
    {
      "cell_type": "markdown",
      "source": [
        "# 비지도 학습(unsupervised learning) 기반 형태소 분석\n",
        "\n",
        "\n",
        "> 데이터의 패턴을 모델 스스로 학습 \n",
        "\n",
        "> 자주 등장하는 단어들을 형태소로 인식\n",
        "\n",
        "\n",
        "\n"
      ],
      "metadata": {
        "id": "po_nkicm5aR1"
      }
    },
    {
      "cell_type": "markdown",
      "source": [
        "### soynlp : 데이터 통계량 기반 단어 점수표로 형태소 분석\n",
        "> ✎ 단어 점수 : 지도 학습과 달리 별도의 학습 과정을 거쳐서 만들어야 함.\n",
        "1. 응집 확률(Cohesion Probability) : 함께 자주 나타나는 경우\n",
        "2. Branching Entropy : 단어 앞뒤로 다양한 조사 or 어미 or 다른 단어가 등장하는 경우. 즉, 앞뒤로 패턴이 다양한 경우\n",
        "> -> 응집 확률, Branching Entropy 둘 다 높을 때 형태소로 취급.\n",
        "\n",
        "\n",
        "\n",
        "\n"
      ],
      "metadata": {
        "id": "oalyyr9QGWF0"
      }
    },
    {
      "cell_type": "code",
      "source": [
        "!pip install soynlp"
      ],
      "metadata": {
        "colab": {
          "base_uri": "https://localhost:8080/"
        },
        "id": "Tizxbr2t5y--",
        "outputId": "5a1acdef-b213-4717-d72a-1070a2243c20"
      },
      "execution_count": 8,
      "outputs": [
        {
          "output_type": "stream",
          "name": "stdout",
          "text": [
            "Looking in indexes: https://pypi.org/simple, https://us-python.pkg.dev/colab-wheels/public/simple/\n",
            "Collecting soynlp\n",
            "  Downloading soynlp-0.0.493-py3-none-any.whl (416 kB)\n",
            "\u001b[K     |████████████████████████████████| 416 kB 8.5 MB/s \n",
            "\u001b[?25hRequirement already satisfied: scikit-learn>=0.20.0 in /usr/local/lib/python3.7/dist-packages (from soynlp) (1.0.2)\n",
            "Requirement already satisfied: numpy>=1.12.1 in /usr/local/lib/python3.7/dist-packages (from soynlp) (1.21.6)\n",
            "Requirement already satisfied: scipy>=1.1.0 in /usr/local/lib/python3.7/dist-packages (from soynlp) (1.7.3)\n",
            "Requirement already satisfied: psutil>=5.0.1 in /usr/local/lib/python3.7/dist-packages (from soynlp) (5.4.8)\n",
            "Requirement already satisfied: joblib>=0.11 in /usr/local/lib/python3.7/dist-packages (from scikit-learn>=0.20.0->soynlp) (1.1.0)\n",
            "Requirement already satisfied: threadpoolctl>=2.0.0 in /usr/local/lib/python3.7/dist-packages (from scikit-learn>=0.20.0->soynlp) (3.1.0)\n",
            "Installing collected packages: soynlp\n",
            "Successfully installed soynlp-0.0.493\n"
          ]
        }
      ]
    },
    {
      "cell_type": "code",
      "source": [
        "from soynlp.word import WordExtractor\n",
        "\n",
        "corpus_fname = './data/processed_ratings.txt' # 네이버 영화 리뷰\n",
        "# corpus_fname = './processed_ratings.txt' # 네이버 영화 평점글\n",
        "model_fname = './soyword.model' # 단어 점수표\n",
        "\n",
        "sentences = [sent.strip() for sent in open(corpus_fname, 'r').readlines()]\n",
        "word_extractor = WordExtractor(min_frequency=100,\n",
        "                               min_cohesion_forward=0.05,\n",
        "                               min_right_branching_entropy=0.0)\n",
        "word_extractor.train(sentences)                     \n",
        "word_extractor.save(model_fname)"
      ],
      "metadata": {
        "colab": {
          "base_uri": "https://localhost:8080/"
        },
        "id": "7HnoLz8G8DIB",
        "outputId": "0102ede8-20d0-438b-9007-563669d060b1"
      },
      "execution_count": 17,
      "outputs": [
        {
          "output_type": "stream",
          "name": "stdout",
          "text": [
            "training was done. used memory 1.184 Gb\n"
          ]
        }
      ]
    },
    {
      "cell_type": "code",
      "source": [
        "import math\n",
        "from soynlp.tokenizer import LTokenizer\n",
        "\n",
        "model_fname = './soyword.model'\n",
        "word_extractor.load(model_fname)\n",
        "\n",
        "scores = word_extractor.word_scores()\n",
        "scores = {key:(scores[key].cohesion_forward * math.exp(scores[key].right_branching_entropy)) for key in scores.keys()}\n",
        "tokenizer = LTokenizer(scores=scores)\n",
        "tokens = tokenizer.tokenize('애비는 종이었다')\n",
        "print(tokens)"
      ],
      "metadata": {
        "colab": {
          "base_uri": "https://localhost:8080/"
        },
        "id": "f22WOOcnAkfD",
        "outputId": "58a66537-535a-4e24-b5aa-52d70b8d880a"
      },
      "execution_count": 19,
      "outputs": [
        {
          "output_type": "stream",
          "name": "stdout",
          "text": [
            "all cohesion probabilities was computed. # words = 6265\n",
            "all branching entropies was computed # words = 124108\n",
            "all accessor variety was computed # words = 124108\n",
            "['애비는', '종이었다']\n"
          ]
        }
      ]
    },
    {
      "cell_type": "markdown",
      "source": [
        "## sentencepiece"
      ],
      "metadata": {
        "id": "RoStA8GiJ6FW"
      }
    },
    {
      "cell_type": "code",
      "source": [
        ""
      ],
      "metadata": {
        "id": "PnxH2puKIYsN"
      },
      "execution_count": null,
      "outputs": []
    }
  ]
}