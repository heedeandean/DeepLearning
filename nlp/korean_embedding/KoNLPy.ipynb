{
  "nbformat": 4,
  "nbformat_minor": 0,
  "metadata": {
    "colab": {
      "name": "KoNLPy.ipynb",
      "provenance": [],
      "collapsed_sections": [],
      "authorship_tag": "ABX9TyMARapdu75o/GFQT+8+bnp0"
    },
    "kernelspec": {
      "name": "python3",
      "display_name": "Python 3"
    },
    "language_info": {
      "name": "python"
    }
  },
  "cells": [
    {
      "cell_type": "code",
      "metadata": {
        "id": "THm4PR08Sw6E"
      },
      "source": [
        "# 자연어 처리(Natural Language Processing) : 자연어를 컴퓨터가 처리\n",
        "\n",
        "# 토크나이징 : 토큰(의미가 있는 가장 작은 정보)단위로 정보를 나누는 작업\n",
        "\n",
        "# * 한국어 9품사\n",
        "#   명사\n",
        "#   대명사 : 명사를 대신할때 (ex. 너, 우리, 무엇, 그것)\n",
        "#   수사 : 숫자 or 순서 (ex. 하나, 둘, 1, 2, 첫째, 둘째)\n",
        "#   동사 \n",
        "#   형용사 : 사물의 성질 or 상태 (ex. 아름답다, 맵다, 희다)\n",
        "#   관형사 : 체언(명사, 대명사, 수사)을 수식 (ex. 이, 그, 저, 새, 헌 , 옛)\n",
        "#   부사 : (ex. 정말, 매우, 벌써)\n",
        "#   조사 : 명사, 부사에 붙어 관계를 맺어줌 (ex. ~이, ~가, ~에서)\n",
        "#   감탄사 : (ex. 꺄, 우아, 아하)"
      ],
      "execution_count": null,
      "outputs": []
    },
    {
      "cell_type": "code",
      "metadata": {
        "colab": {
          "base_uri": "https://localhost:8080/"
        },
        "id": "wfPlYulLXG-v",
        "outputId": "927772ac-d125-4271-b3ac-dd508333ab2d"
      },
      "source": [
        "# KoNLPy(코엔엘파이) : 한국어 자연어 처리 라이브러리 (https://konlpy.org/ko/latest/)\n",
        "# pip install konlpy\n",
        "\n",
        "# 형태소 분석기 1.\n",
        "# Kkma(꼬꼬마) \n",
        "# : + 분석 품질 좋음, 지원하는 품사태그 가장 많음\n",
        "#   - 느림, 사용자 사전 관리 어려움 \n",
        "from konlpy.tag import Kkma\n",
        "\n",
        "kkma = Kkma() # 객체 생성\n",
        "\n",
        "text = '아버지가 방에 들어갑니다.'\n",
        "\n",
        "# 형태소 추출\n",
        "morphs = kkma.morphs(text) \n",
        "print(morphs)"
      ],
      "execution_count": null,
      "outputs": [
        {
          "output_type": "stream",
          "name": "stdout",
          "text": [
            "['아버지', '가', '방', '에', '들어가', 'ㅂ니다', '.']\n"
          ]
        }
      ]
    },
    {
      "cell_type": "code",
      "metadata": {
        "id": "cucaGN6dXzlZ",
        "colab": {
          "base_uri": "https://localhost:8080/"
        },
        "outputId": "e7ce42dc-afac-4e66-ad14-1443b2b90405"
      },
      "source": [
        "# [(형태소, 품사 태그), ...]\n",
        "pos = kkma.pos(text) \n",
        "print(pos)\n",
        "\n",
        "# 품사 태그 (cf. http://kkma.snu.ac.kr/documents/?doc=postag)\n",
        "# NNG : 명사\n",
        "# JKS : 주격 조사\n",
        "# JKM : 부사격 조사\n",
        "# VV : 동사\n",
        "# EFN : 평서형 종결 어미\n",
        "# SF : ./?/!"
      ],
      "execution_count": null,
      "outputs": [
        {
          "output_type": "stream",
          "name": "stdout",
          "text": [
            "[('아버지', 'NNG'), ('가', 'JKS'), ('방', 'NNG'), ('에', 'JKM'), ('들어가', 'VV'), ('ㅂ니다', 'EFN'), ('.', 'SF')]\n"
          ]
        }
      ]
    },
    {
      "cell_type": "code",
      "metadata": {
        "colab": {
          "base_uri": "https://localhost:8080/"
        },
        "id": "ZOgpgfHGZoww",
        "outputId": "881f9948-2b2a-4751-cfc1-73cb4ef94c83"
      },
      "source": [
        "# 명사만 추출\n",
        "nouns = kkma.nouns(text) \n",
        "print(nouns)"
      ],
      "execution_count": null,
      "outputs": [
        {
          "output_type": "stream",
          "name": "stdout",
          "text": [
            "['아버지', '방']\n"
          ]
        }
      ]
    },
    {
      "cell_type": "code",
      "metadata": {
        "colab": {
          "base_uri": "https://localhost:8080/"
        },
        "id": "XVobXXizaDEW",
        "outputId": "17ee2271-66e9-4103-e48c-c5189b786af1"
      },
      "source": [
        "sentences = '오늘 날씨는 어때요? 내일은 덥다던데.'\n",
        "\n",
        "# 문장 분리\n",
        "s = kkma.sentences(sentences) \n",
        "print(s)"
      ],
      "execution_count": null,
      "outputs": [
        {
          "output_type": "stream",
          "name": "stdout",
          "text": [
            "['오늘 날씨는 어 때요?', '내일은 덥다 던데.']\n"
          ]
        }
      ]
    },
    {
      "cell_type": "code",
      "metadata": {
        "id": "DfdjCs4iawlm",
        "colab": {
          "base_uri": "https://localhost:8080/"
        },
        "outputId": "a7c63a2d-eace-4b2c-dba1-31ce0b1988b8"
      },
      "source": [
        "# 형태소 분석기 2. \n",
        "# Komoran(Korean Morphological ANalyzer, 코모란) \n",
        "# : 자바로 개발\n",
        "# : + 오탈자에 강함, 사용자 사전 관리 용이, 적당한 분석 품질과 속도\n",
        "from konlpy.tag import Komoran\n",
        "\n",
        "komoran = Komoran() # 객체 생성\n",
        "\n",
        "# 형태소 추출\n",
        "morphs = komoran.morphs(text)\n",
        "print(morphs)"
      ],
      "execution_count": 19,
      "outputs": [
        {
          "output_type": "stream",
          "name": "stdout",
          "text": [
            "['아버지', '가', '방', '에', '들어가', 'ㅂ니다', '.']\n"
          ]
        }
      ]
    },
    {
      "cell_type": "code",
      "metadata": {
        "colab": {
          "base_uri": "https://localhost:8080/"
        },
        "id": "pG0ZXae0f4wm",
        "outputId": "20ad0b14-f4f2-4676-9170-1213bcae5cdd"
      },
      "source": [
        "# [(형태소, 품사 태그), ...]\n",
        "pos = komoran.pos(text) \n",
        "print(pos)\n",
        "\n",
        "# 품사 태그 (cf. https://docs.komoran.kr/firststep/postypes.html)\n",
        "# JKB : 부사격 조사\n",
        "# EF : 종결 어미"
      ],
      "execution_count": 17,
      "outputs": [
        {
          "output_type": "stream",
          "name": "stdout",
          "text": [
            "[('아버지', 'NNG'), ('가', 'JKS'), ('방', 'NNG'), ('에', 'JKB'), ('들어가', 'VV'), ('ㅂ니다', 'EF'), ('.', 'SF')]\n"
          ]
        }
      ]
    },
    {
      "cell_type": "code",
      "metadata": {
        "colab": {
          "base_uri": "https://localhost:8080/"
        },
        "id": "8h9WwUiPgcwV",
        "outputId": "b9883769-3805-4707-dcb7-d24541433a49"
      },
      "source": [
        "# 명사만 추출\n",
        "nouns = komoran.nouns(text) \n",
        "print(nouns)"
      ],
      "execution_count": 18,
      "outputs": [
        {
          "output_type": "stream",
          "name": "stdout",
          "text": [
            "['아버지', '방']\n"
          ]
        }
      ]
    },
    {
      "cell_type": "code",
      "metadata": {
        "colab": {
          "base_uri": "https://localhost:8080/"
        },
        "id": "7WQ7qv6mghXd",
        "outputId": "3f81cf8c-d00e-42f0-ad46-d7d3336a112a"
      },
      "source": [
        "# 한국어 처리기\n",
        "# Okt(Open-source Korean Text Processor) (https://openkoreantext.org/)\n",
        "# : + 제일 빠름, 정규화\n",
        "#   - 품사 태그 적음, 사용자 사전 관리 어려움, 용언 분석에 일관성 부족\n",
        "from konlpy.tag import Okt\n",
        "\n",
        "okt = Okt() # 객체 생성\n",
        "\n",
        "# 형태소 추출\n",
        "morphs = okt.morphs(text)\n",
        "print(morphs)"
      ],
      "execution_count": 20,
      "outputs": [
        {
          "output_type": "stream",
          "name": "stdout",
          "text": [
            "['아버지', '가', '방', '에', '들어갑니다', '.']\n"
          ]
        }
      ]
    },
    {
      "cell_type": "code",
      "metadata": {
        "colab": {
          "base_uri": "https://localhost:8080/"
        },
        "id": "vWeu-kZYkyf2",
        "outputId": "cb62e7bf-2e16-4196-fd6e-015f0cd589d6"
      },
      "source": [
        "# [(형태소, 품사 태그), ...]\n",
        "pos = okt.pos(text)\n",
        "print(pos)\n",
        "\n",
        "# 품사 태그\n",
        "# Noun : 명사\n",
        "# Verb : 동사\n",
        "# Adjective : 형용사\n",
        "# Josa : 조사\n",
        "# Punctuation : 구두점"
      ],
      "execution_count": 22,
      "outputs": [
        {
          "output_type": "stream",
          "name": "stdout",
          "text": [
            "[('아버지', 'Noun'), ('가', 'Josa'), ('방', 'Noun'), ('에', 'Josa'), ('들어갑니다', 'Verb'), ('.', 'Punctuation')]\n"
          ]
        }
      ]
    },
    {
      "cell_type": "code",
      "metadata": {
        "colab": {
          "base_uri": "https://localhost:8080/"
        },
        "id": "Y1cQSBBXlS_G",
        "outputId": "f08a49f6-21ff-48de-ef41-2e3f094f42d1"
      },
      "source": [
        "# 명사만 추출\n",
        "nouns = okt.nouns(text)\n",
        "print(nouns)"
      ],
      "execution_count": 23,
      "outputs": [
        {
          "output_type": "stream",
          "name": "stdout",
          "text": [
            "['아버지', '방']\n"
          ]
        }
      ]
    },
    {
      "cell_type": "code",
      "metadata": {
        "colab": {
          "base_uri": "https://localhost:8080/"
        },
        "id": "XDxk-b8Dld7k",
        "outputId": "3cf35b70-0391-4e4d-b10d-65683693cb08"
      },
      "source": [
        "text = '오늘 날씨가 좋아욬ㅋㅋ'\n",
        "\n",
        "# 정규화\n",
        "print(okt.normalize(text))"
      ],
      "execution_count": 24,
      "outputs": [
        {
          "output_type": "stream",
          "name": "stdout",
          "text": [
            "오늘 날씨가 좋아요ㅋㅋ\n"
          ]
        }
      ]
    },
    {
      "cell_type": "code",
      "metadata": {
        "colab": {
          "base_uri": "https://localhost:8080/"
        },
        "id": "jWIMJDThlmJ0",
        "outputId": "43c69f16-b993-4dfa-dec9-22e521cad4d5"
      },
      "source": [
        "# 어구 추출\n",
        "print(okt.phrases(text))"
      ],
      "execution_count": 25,
      "outputs": [
        {
          "output_type": "stream",
          "name": "stdout",
          "text": [
            "['오늘', '오늘 날씨', '좋아욬', '날씨']\n"
          ]
        }
      ]
    },
    {
      "cell_type": "code",
      "metadata": {
        "colab": {
          "base_uri": "https://localhost:8080/"
        },
        "id": "ZvJmW-m_lrub",
        "outputId": "5a9926a4-1197-41a2-f070-b32389bf1029"
      },
      "source": [
        "# 사용자 사전 \n",
        "text = '우리 챗봇은 엔엘피를 좋아해.' # '엔엘피'라는 새로운 단어 등장!\n",
        "\n",
        "pos = komoran.pos(text)\n",
        "print(pos)"
      ],
      "execution_count": 27,
      "outputs": [
        {
          "output_type": "stream",
          "name": "stdout",
          "text": [
            "[('우리', 'NP'), ('챗봇은', 'NA'), ('엔', 'NNB'), ('엘', 'NNP'), ('피', 'NNG'), ('를', 'JKO'), ('좋아하', 'VV'), ('아', 'EF'), ('.', 'SF')]\n"
          ]
        }
      ]
    },
    {
      "cell_type": "code",
      "metadata": {
        "colab": {
          "base_uri": "https://localhost:8080/"
        },
        "id": "Zd7gNGPysefb",
        "outputId": "dcee7c3f-acaf-4eec-feb0-a978f8c37808"
      },
      "source": [
        "komoran = Komoran(userdic='./user_dic.tsv')\n",
        "\n",
        "pos = komoran.pos(text)\n",
        "print(pos)"
      ],
      "execution_count": 39,
      "outputs": [
        {
          "output_type": "stream",
          "name": "stdout",
          "text": [
            "[('우리', 'NP'), ('챗봇은', 'NA'), ('엔엘피', 'NNG'), ('를', 'JKO'), ('좋아하', 'VV'), ('아', 'EF'), ('.', 'SF')]\n"
          ]
        }
      ]
    }
  ]
}