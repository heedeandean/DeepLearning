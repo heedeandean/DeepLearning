{
  "nbformat": 4,
  "nbformat_minor": 0,
  "metadata": {
    "colab": {
      "name": "supervised_learning_konlpy.ipynb",
      "provenance": [],
      "collapsed_sections": [],
      "authorship_tag": "ABX9TyOq6yud/kDdeL4Hju1JZrV7"
    },
    "kernelspec": {
      "name": "python3",
      "display_name": "Python 3"
    },
    "language_info": {
      "name": "python"
    }
  },
  "cells": [
    {
      "cell_type": "markdown",
      "source": [
        "# 지도 학습(supervised learning) 기반 형태소 분석\n",
        "\n",
        "> 직접 형태소 경계나 품사 정보를 모델에 가르쳐줘서 학습된 모델\n",
        "\n"
      ],
      "metadata": {
        "id": "mEirRDKN10l4"
      }
    },
    {
      "cell_type": "code",
      "source": [
        "# Mecab(은전한닢) 설치 \n",
        "!apt-get update\n",
        "!apt-get install g++ openjdk-8-jdk \n",
        "!pip3 install konlpy JPype1-py3\n",
        "!bash <(curl -s https://raw.githubusercontent.com/konlpy/konlpy/master/scripts/mecab.sh)"
      ],
      "metadata": {
        "id": "LXnI-joP1xV7"
      },
      "execution_count": null,
      "outputs": []
    },
    {
      "cell_type": "code",
      "source": [
        "from konlpy.tag import Mecab\n",
        "tokenizer = Mecab()\n",
        "tokenizer.morphs('아버지가방에들어가신다')"
      ],
      "metadata": {
        "colab": {
          "base_uri": "https://localhost:8080/"
        },
        "id": "1M5vzUEoxEwC",
        "outputId": "d282dc6c-72b7-40ef-ae9a-5b0b0ab1a162"
      },
      "execution_count": null,
      "outputs": [
        {
          "output_type": "execute_result",
          "data": {
            "text/plain": [
              "['아버지', '가', '방', '에', '들어가', '신다']"
            ]
          },
          "metadata": {},
          "execution_count": 3
        }
      ]
    },
    {
      "cell_type": "code",
      "source": [
        "tokenizer.pos('아버지가방에들어가신다') # 품사 확인"
      ],
      "metadata": {
        "colab": {
          "base_uri": "https://localhost:8080/"
        },
        "id": "-A0pNO6bxc7t",
        "outputId": "e8066204-6dfa-4af8-8afd-dddeb8ccbb58"
      },
      "execution_count": null,
      "outputs": [
        {
          "output_type": "execute_result",
          "data": {
            "text/plain": [
              "[('아버지', 'NNG'),\n",
              " ('가', 'JKS'),\n",
              " ('방', 'NNG'),\n",
              " ('에', 'JKB'),\n",
              " ('들어가', 'VV'),\n",
              " ('신다', 'EP+EC')]"
            ]
          },
          "metadata": {},
          "execution_count": 3
        }
      ]
    },
    {
      "cell_type": "code",
      "source": [
        "# 한국어 형태소 분석기 설치 (Mecab 제외)\n",
        "# 런타임 -> 세션 관리 -> 종료 -> 다시 연결\n",
        "!pip install konlpy"
      ],
      "metadata": {
        "colab": {
          "base_uri": "https://localhost:8080/"
        },
        "id": "bLR_9BQQ2Hwt",
        "outputId": "0cc25666-e01a-4f5b-fcdd-1fc84773e8e6"
      },
      "execution_count": null,
      "outputs": [
        {
          "output_type": "stream",
          "name": "stdout",
          "text": [
            "Looking in indexes: https://pypi.org/simple, https://us-python.pkg.dev/colab-wheels/public/simple/\n",
            "Collecting konlpy\n",
            "  Downloading konlpy-0.6.0-py2.py3-none-any.whl (19.4 MB)\n",
            "\u001b[K     |████████████████████████████████| 19.4 MB 1.3 MB/s \n",
            "\u001b[?25hRequirement already satisfied: lxml>=4.1.0 in /usr/local/lib/python3.7/dist-packages (from konlpy) (4.9.1)\n",
            "Collecting JPype1>=0.7.0\n",
            "  Downloading JPype1-1.4.0-cp37-cp37m-manylinux_2_5_x86_64.manylinux1_x86_64.whl (453 kB)\n",
            "\u001b[K     |████████████████████████████████| 453 kB 14.9 MB/s \n",
            "\u001b[?25hRequirement already satisfied: numpy>=1.6 in /usr/local/lib/python3.7/dist-packages (from konlpy) (1.21.6)\n",
            "Requirement already satisfied: typing-extensions in /usr/local/lib/python3.7/dist-packages (from JPype1>=0.7.0->konlpy) (4.1.1)\n",
            "Installing collected packages: JPype1, konlpy\n",
            "Successfully installed JPype1-1.4.0 konlpy-0.6.0\n"
          ]
        }
      ]
    },
    {
      "cell_type": "code",
      "source": [
        "from konlpy.tag import Okt, Mecab, Hannanum, Kkma, Komoran\n",
        "\n",
        "def get_tokenizer(tokenizer_name):\n",
        "  if tokenizer_name == 'komoran':\n",
        "    tokenizer = Komoran()\n",
        "  elif tokenizer_name == 'okt':\n",
        "    tokenizer = Okt()\n",
        "  elif tokenizer_name == 'hannanum':\n",
        "    tokenizer = Hannanum()\n",
        "  elif tokenizer_name == 'kkma':\n",
        "    tokenizer = Kkma()\n",
        "  else:\n",
        "    tokenizer = Mecab()\n",
        "  return tokenizer\n",
        "\n",
        "tokenizer = get_tokenizer('komoran')\n",
        "# tokenizer = get_tokenizer('okt')\n",
        "# tokenizer = get_tokenizer('hannanum')\n",
        "# tokenizer = get_tokenizer('kkma')\n",
        "\n",
        "tokenizer.morphs('아버지가방에들어가신다')"
      ],
      "metadata": {
        "colab": {
          "base_uri": "https://localhost:8080/"
        },
        "id": "QBM8IF9KxqqW",
        "outputId": "417a5544-de2f-4437-8e82-c29085d81a84"
      },
      "execution_count": null,
      "outputs": [
        {
          "output_type": "execute_result",
          "data": {
            "text/plain": [
              "['아버지', '가방', '에', '들어가', '시', 'ㄴ다']"
            ]
          },
          "metadata": {},
          "execution_count": 7
        }
      ]
    },
    {
      "cell_type": "code",
      "source": [
        "# khaiii(Kakao Hangul Analyzer III) 설치\n",
        "# : CNN(Convolution Neural Network) 사용, C++로 구현, GPU 없어도 됨, 빠름\n",
        "!git clone https://github.com/kakao/khaiii.git\n",
        "!pip install cmake\n",
        "!mkdir build\n",
        "!cd build && cmake /content/khaiii\n",
        "!cd /content/build/ && make all\n",
        "!cd /content/build/ && make resource\n",
        "!cd /content/build && make install\n",
        "!cd /content/build && make package_python\n",
        "!pip install /content/build/package_python"
      ],
      "metadata": {
        "id": "LQfsW9Vrg1W-"
      },
      "execution_count": null,
      "outputs": []
    },
    {
      "cell_type": "code",
      "source": [
        "from khaiii import KhaiiiApi\n",
        "\n",
        "tokenizer = KhaiiiApi()\n",
        "data = tokenizer.analyze('아버지가방에들어가신다')\n",
        "tokens = []\n",
        "for word in data:\n",
        "  tokens.extend([str(m).split('/')[0] for m in word.morphs])\n",
        "print(tokens)"
      ],
      "metadata": {
        "colab": {
          "base_uri": "https://localhost:8080/"
        },
        "id": "hiyi637VzUbe",
        "outputId": "07bf364f-13b2-40df-9c90-13bd2a42ba8c"
      },
      "execution_count": null,
      "outputs": [
        {
          "output_type": "stream",
          "name": "stdout",
          "text": [
            "['아버지', '가', '방', '에', '들어가', '시', 'ㄴ다']\n"
          ]
        }
      ]
    },
    {
      "cell_type": "code",
      "source": [
        "tokens = []\n",
        "for word in data:\n",
        "  tokens.extend([str(m) for m in word.morphs])\n",
        "print(tokens)"
      ],
      "metadata": {
        "colab": {
          "base_uri": "https://localhost:8080/"
        },
        "id": "say8OYhN5TD2",
        "outputId": "c0275880-7ec9-4705-e1ee-57fa2259fd78"
      },
      "execution_count": null,
      "outputs": [
        {
          "output_type": "stream",
          "name": "stdout",
          "text": [
            "['아버지/NNG', '가/JKS', '방/NNG', '에/JKB', '들어가/VV', '시/EP', 'ㄴ다/EC']\n"
          ]
        }
      ]
    }
  ]
}