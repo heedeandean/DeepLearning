{
  "nbformat": 4,
  "nbformat_minor": 0,
  "metadata": {
    "colab": {
      "name": "word_embedding.ipynb",
      "provenance": [],
      "collapsed_sections": [],
      "authorship_tag": "ABX9TyPHjq9yAhsVaZyYypehYJSe"
    },
    "kernelspec": {
      "name": "python3",
      "display_name": "Python 3"
    },
    "language_info": {
      "name": "python"
    }
  },
  "cells": [
    {
      "cell_type": "markdown",
      "metadata": {
        "id": "oE3xYb-_YGVj"
      },
      "source": [
        "#### 단어 임베딩 : 각 단어를 벡터로 표현. \n",
        "####             : - 동음이의어 구분X -> 동일한 벡터값으로 표현.\n",
        "####             : + 문장 임베딩에 비해 학습 방법 간단."
      ]
    },
    {
      "cell_type": "code",
      "metadata": {
        "id": "z0tPSs_HXMnX",
        "colab": {
          "base_uri": "https://localhost:8080/"
        },
        "outputId": "54c2359f-b767-44c2-8051-4c60d2225c0e"
      },
      "source": [
        "# 1. 원-핫 인코딩(one-hot encoding)\n",
        "# -> 원-핫 벡터 = 희소(sparse) 벡터 = 희소 행렬 : 전체 요소 중 단 하나의 값만 1\n",
        "\n",
        "### 과정\n",
        "# pip install konlpy\n",
        "from konlpy.tag import Komoran\n",
        "import numpy as np\n",
        "\n",
        "komoran = Komoran()\n",
        "text = '오늘 날씨는 구름이 많아요.'\n",
        "\n",
        "# 명사만 추출\n",
        "nouns = komoran.nouns(text)\n",
        "print(nouns)"
      ],
      "execution_count": 26,
      "outputs": [
        {
          "output_type": "stream",
          "name": "stdout",
          "text": [
            "['오늘', '날씨', '구름']\n"
          ]
        }
      ]
    },
    {
      "cell_type": "code",
      "metadata": {
        "id": "yTBvQLB2XLy5",
        "colab": {
          "base_uri": "https://localhost:8080/"
        },
        "outputId": "1ae94c2e-dd1a-4f34-e06f-9f47ec6697a5"
      },
      "source": [
        "# 단어 사전 구축 \n",
        "dics = {}\n",
        "for word in nouns:\n",
        "  if word not in dics.keys():\n",
        "    dics[word] = len(dics) # 단어별 인덱스 부여\n",
        "print(dics)"
      ],
      "execution_count": 27,
      "outputs": [
        {
          "output_type": "stream",
          "name": "stdout",
          "text": [
            "{'오늘': 0, '날씨': 1, '구름': 2}\n"
          ]
        }
      ]
    },
    {
      "cell_type": "code",
      "metadata": {
        "colab": {
          "base_uri": "https://localhost:8080/"
        },
        "id": "elzqiaKAJK0o",
        "outputId": "3cee989e-1e9b-43f5-c9c5-9cf4c00c1bb2"
      },
      "source": [
        "# 원-핫 인코딩\n",
        "nb_classes = len(dics) # 원-핫 벡터 차원의 크기 = 단어 수\n",
        "targets = list(dics.values())\n",
        "one_hot_targets = np.eye(nb_classes)[targets]\n",
        "print(one_hot_targets)"
      ],
      "execution_count": 28,
      "outputs": [
        {
          "output_type": "stream",
          "name": "stdout",
          "text": [
            "[[1. 0. 0.]\n",
            " [0. 1. 0.]\n",
            " [0. 0. 1.]]\n"
          ]
        }
      ]
    },
    {
      "cell_type": "code",
      "metadata": {
        "colab": {
          "base_uri": "https://localhost:8080/"
        },
        "id": "aiOYg8aPLrx2",
        "outputId": "0f5ac291-aa39-48d2-9a01-d74ffadcc9af"
      },
      "source": [
        "# 2. Word2Vec : 분산 표현(distributed representation) = 밀집(dense) 표현\n",
        "\n",
        "from gensim.models import Word2Vec\n",
        "from konlpy.tag import Komoran\n",
        "import time\n",
        "\n",
        "def read_review_data(filename):\n",
        "  with open(filename, 'r', encoding='UTF8') as f:\n",
        "    data = [line.split('\\t') for line in f.read().splitlines()]\n",
        "    data = data[1:] # 헤더 제외\n",
        "  return data\n",
        "\n",
        "# 학습 시간 측정 시작\n",
        "start = time.time() \n",
        "\n",
        "review_data = read_review_data('./data/ratings.txt')\n",
        "print(len(review_data)) # 리뷰 데이터 전체 개수\n",
        "print('소요 시간 : ', time.time() - start) # 초"
      ],
      "execution_count": 29,
      "outputs": [
        {
          "output_type": "stream",
          "name": "stdout",
          "text": [
            "200000\n",
            "소요 시간 :  0.5178227424621582\n"
          ]
        }
      ]
    },
    {
      "cell_type": "code",
      "metadata": {
        "id": "cpY5iE2aceBX",
        "colab": {
          "base_uri": "https://localhost:8080/"
        },
        "outputId": "284d5caf-123b-4760-bb51-197e1c305a03"
      },
      "source": [
        "komoran = Komoran()\n",
        "\n",
        "# 명사만 추출\n",
        "docs = [komoran.nouns(sentence[1]) for sentence in review_data]\n",
        "\n",
        "# 모델 학습\n",
        "model = Word2Vec(sentences=docs, # 학습에 필요한 문장 데이터, 모델의 입력값\n",
        "                 size=200,       # 벡터의 차원, 크기\n",
        "                 window=4,       # 주변 단어 크기 (-+4)\n",
        "                 hs=1,           # softmax 사용\n",
        "                 min_count=2,    # 빈도수 2이하의 단어들은 학습X\n",
        "                 sg=1)           # skip_gram 모델 <-> 0 : CBOW 모델\n",
        "\n",
        "# 모델 저장\n",
        "model.save('nvmc_model')\n",
        "\n",
        "print('학습된 전체 말뭉치 수 : ', model.corpus_count)\n",
        "print('전체 단어 수 : ', model.corpus_total_words)"
      ],
      "execution_count": 30,
      "outputs": [
        {
          "output_type": "stream",
          "name": "stdout",
          "text": [
            "학습된 전체 말뭉치 수 :  200000\n",
            "전체 단어 수 :  1076896\n"
          ]
        }
      ]
    },
    {
      "cell_type": "code",
      "metadata": {
        "id": "_ZRbB93lfa2n",
        "colab": {
          "base_uri": "https://localhost:8080/"
        },
        "outputId": "8eba1225-683b-494e-8926-a95b0fb4ec02"
      },
      "source": [
        "# model = Word2Vec.load('nvmc.model')\n",
        "print(model.corpus_total_words)"
      ],
      "execution_count": 31,
      "outputs": [
        {
          "output_type": "stream",
          "name": "stdout",
          "text": [
            "1076896\n"
          ]
        }
      ]
    },
    {
      "cell_type": "code",
      "metadata": {
        "id": "Sb3gu6N8ni2b",
        "colab": {
          "base_uri": "https://localhost:8080/"
        },
        "outputId": "ed7629a2-232d-4d00-eba0-ded20520c368"
      },
      "source": [
        "# '사랑'의 단어 임베딩 벡터\n",
        "print('사랑 : ', model.wv['사랑'])"
      ],
      "execution_count": 32,
      "outputs": [
        {
          "output_type": "stream",
          "name": "stdout",
          "text": [
            "사랑 :  [ 6.14345670e-02  2.52279639e-01  2.99800009e-01  1.80889145e-01\n",
            " -1.46754071e-01  3.01284879e-01  2.03659415e-01 -8.12775940e-02\n",
            " -1.09657668e-01 -2.12048292e-01 -3.12379926e-01  2.29303777e-01\n",
            "  9.04875547e-02 -2.63465077e-01 -1.50522575e-01 -4.72635955e-01\n",
            " -1.03590719e-01  6.44945651e-02 -8.35087299e-02  2.88091689e-01\n",
            "  1.93245471e-01  2.67339230e-01  8.45760852e-02  1.45005673e-01\n",
            " -1.29181519e-01  5.89859374e-02 -1.10271350e-02  1.64079368e-01\n",
            "  4.20050591e-01 -1.18626550e-01 -8.64606574e-02 -2.39835218e-01\n",
            " -3.33553813e-02  3.76653671e-01 -1.06529303e-01 -3.30360204e-01\n",
            " -1.82040930e-01  8.04337393e-03 -1.26872748e-01 -4.95716836e-03\n",
            " -1.78446800e-01 -1.65993571e-01 -1.66140884e-01  1.12039581e-01\n",
            "  3.10913264e-03 -2.15538770e-01  2.19391033e-01  3.67155373e-01\n",
            " -3.60003710e-01  2.55180687e-01 -1.54547796e-01 -2.19994232e-01\n",
            "  1.26030654e-01  2.06073970e-01 -1.08034149e-01  4.54661340e-01\n",
            "  1.39394850e-01  2.55178750e-01  3.89533420e-03  8.40348750e-02\n",
            " -2.43735701e-01  8.56115520e-02 -2.14951504e-02 -1.45226270e-01\n",
            " -3.69717985e-01 -6.20421357e-02  9.52981936e-05 -1.02869337e-04\n",
            "  4.92558926e-02  4.15246598e-02 -1.79117918e-02  4.19313699e-01\n",
            "  1.99310303e-01  1.29094897e-02 -8.42152536e-02  1.67934224e-02\n",
            "  2.14583293e-01 -2.00602606e-01 -1.46476746e-01 -1.24155082e-01\n",
            "  7.29327574e-02  8.15148652e-03  7.23312795e-01  2.17344999e-01\n",
            "  4.56082821e-02 -3.05724680e-01  5.88346757e-02 -1.00042902e-01\n",
            " -1.84749037e-01 -8.48930627e-02 -1.32219866e-01  2.93013930e-01\n",
            "  1.76327944e-01 -2.19096467e-01 -7.76740536e-02 -6.31658658e-02\n",
            " -1.89375300e-02  1.54571027e-01  2.23551765e-01 -2.81482905e-01\n",
            " -1.35702372e-04 -4.92424779e-02 -3.64508815e-02 -1.73609287e-01\n",
            " -5.16919315e-01 -2.15266347e-02  4.29019570e-01  2.09221646e-01\n",
            " -2.31187090e-01  2.80807726e-02  7.11077973e-02 -1.36542812e-01\n",
            " -1.53515249e-01 -2.55871303e-02 -1.11031912e-01  1.88300516e-02\n",
            "  2.64604777e-01  1.64060563e-01 -3.48761976e-02  9.82265249e-02\n",
            "  1.02075413e-01 -8.61212611e-02  2.23092064e-01 -3.31255421e-02\n",
            " -2.50943929e-01  1.44441381e-01  4.78683263e-02  1.56077683e-01\n",
            " -3.47628295e-02 -3.29403095e-02  2.82217681e-01  4.41184416e-02\n",
            "  8.35588500e-02  5.57664558e-02  1.19810306e-01  4.84215431e-02\n",
            " -2.33320482e-02 -2.91001529e-01  4.99127246e-02 -4.23582554e-01\n",
            " -1.06659457e-01 -2.12547123e-01  1.90268699e-02  2.73811430e-01\n",
            " -2.42269620e-01 -3.43605250e-01 -1.85939863e-01 -5.50344251e-02\n",
            "  1.32406712e-01  9.59230587e-02 -1.70397460e-01 -2.18944997e-01\n",
            " -6.21342175e-02 -2.25533068e-01  2.98934728e-01 -9.05303806e-02\n",
            " -3.15462495e-03 -1.92874387e-01  7.95448124e-02 -2.11226985e-01\n",
            "  2.17236862e-01 -1.09052546e-01 -9.28068459e-02  2.84841686e-01\n",
            "  4.81428802e-02  2.15326965e-01  2.87698418e-01  2.65323408e-02\n",
            " -2.77798414e-01  3.86324711e-02  2.68087804e-01 -3.33126813e-01\n",
            " -3.21951300e-01 -6.51654676e-02 -1.82116076e-01  1.75769567e-01\n",
            "  1.50945351e-01  2.46167719e-01 -3.21977772e-02  3.37167710e-01\n",
            "  3.01846489e-02  1.27855351e-03 -1.87516976e-02 -2.52334744e-01\n",
            "  5.21662831e-02  2.60453135e-01 -1.17933489e-01  1.41214235e-02\n",
            "  1.04539610e-01  7.58113936e-02 -1.71479993e-02  7.72370817e-03\n",
            " -4.91329432e-01 -1.50755672e-02 -3.09735030e-01  2.24887505e-01\n",
            " -2.21111998e-01  2.41586119e-01  3.77867728e-01 -2.04662144e-01]\n"
          ]
        }
      ]
    },
    {
      "cell_type": "code",
      "metadata": {
        "id": "wcYbyxhLnwSe",
        "colab": {
          "base_uri": "https://localhost:8080/"
        },
        "outputId": "797e0f9d-7f1e-40b3-a963-b8d144ec1002"
      },
      "source": [
        "# 단어 유사도 계산\n",
        "print('일요일 = 월요일 :', model.wv.similarity(w1='일요일', w2='월요일'))\n",
        "print('안성기 = 배우 :', model.wv.similarity(w1='안성기', w2='배우'))\n",
        "print('대기업 = 삼성 :', model.wv.similarity(w1='대기업', w2='삼성'))\n",
        "print('일요일 = 삼성 :', model.wv.similarity(w1='일요일', w2='삼성'))\n",
        "print('히어로 = 삼성 :', model.wv.similarity(w1='히어로', w2='삼성'))"
      ],
      "execution_count": 33,
      "outputs": [
        {
          "output_type": "stream",
          "name": "stdout",
          "text": [
            "일요일 = 월요일 : 0.6527798\n",
            "안성기 = 배우 : 0.5747531\n",
            "대기업 = 삼성 : 0.6002355\n",
            "일요일 = 삼성 : 0.27493793\n",
            "히어로 = 삼성 : 0.18756816\n"
          ]
        }
      ]
    },
    {
      "cell_type": "code",
      "metadata": {
        "id": "Was8P1pSpliw",
        "colab": {
          "base_uri": "https://localhost:8080/"
        },
        "outputId": "4301e716-979c-4373-da91-d7e489169b34"
      },
      "source": [
        "# 가장 유사한 단어 추출\n",
        "print(model.wv.most_similar('안성기', topn=5))\n",
        "print(model.wv.most_similar('시리즈', topn=5))"
      ],
      "execution_count": 34,
      "outputs": [
        {
          "output_type": "stream",
          "name": "stdout",
          "text": [
            "[('씨야', 0.7425095438957214), ('장미희', 0.7280349731445312), ('정려원', 0.7247235774993896), ('지진희', 0.7102241516113281), ('김갑수', 0.7100939154624939)]\n",
            "[('캐리비안의 해적', 0.6526104211807251), ('X맨', 0.6381583213806152), ('러시아워', 0.6327197551727295), ('더 울버린', 0.6301442980766296), ('잭 라이언', 0.6222367286682129)]\n"
          ]
        }
      ]
    }
  ]
}