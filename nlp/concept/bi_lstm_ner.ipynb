{
  "nbformat": 4,
  "nbformat_minor": 0,
  "metadata": {
    "colab": {
      "name": "bi_lstm_ner.ipynb",
      "provenance": [],
      "collapsed_sections": [],
      "authorship_tag": "ABX9TyNFW2adgNuEPxnES4rHFlpI"
    },
    "kernelspec": {
      "name": "python3",
      "display_name": "Python 3"
    },
    "language_info": {
      "name": "python"
    }
  },
  "cells": [
    {
      "cell_type": "code",
      "metadata": {
        "id": "pmKz9kKFpgSo",
        "colab": {
          "base_uri": "https://localhost:8080/"
        },
        "outputId": "686294bb-b9df-401f-e25e-c9573c68f029"
      },
      "source": [
        "# 개체명 인식(NER, Named Entity Recognition)\n",
        "# - BIO(Beginning, Inside, Outside) \n",
        "#     B-개체명 : 개체명이 시작되는 단어\n",
        "#     I-개체명 : B-개체명과 연결되는 단어\n",
        "#     O-개체명 : 개체명 이외의 모든 것\n",
        "\n",
        "\n",
        "# To Do! 양방향 LSTM을 이용한 개체명 인식기(NER)\n",
        "import matplotlib.pyplot as plt\n",
        "import tensorflow as tf\n",
        "from tensorflow.keras import preprocessing\n",
        "from sklearn.model_selection import train_test_split\n",
        "import numpy as np\n",
        "\n",
        "# train.txt 데이터 설명\n",
        "# ; => 원본 문장\n",
        "# $ => NER 처리 결과\n",
        "# 총 4열 => 토큰 번호/단어 토큰/품사 태그/BIO 태그\n",
        "\n",
        "def read_file(file_name):\n",
        "  sents = []\n",
        "  with open(file_name, 'r', encoding='utf-8') as f:\n",
        "    lines = f.readlines()\n",
        "    \n",
        "    for idx, l in enumerate(lines):\n",
        "      if l[0] == ';' and lines[idx + 1][0] == '$':\n",
        "        this_sent = []\n",
        "      elif l[0] == '$' and lines[idx - 1][0] == ';':\n",
        "        continue\n",
        "      elif l[0] == '\\n':\n",
        "        sents.append(this_sent)\n",
        "      else:\n",
        "        this_sent.append(tuple(l.split()))\n",
        "\n",
        "  return sents\n",
        "\n",
        "corpus = read_file('./data/train.txt')\n",
        "\n",
        "# 단어, BIO 태그 열만 불러와 학습용 데이터셋 생성\n",
        "sentences, tags = [], []\n",
        "for t in corpus:\n",
        "  tagged_sentence = []\n",
        "  sentence, bio_tag = [], []\n",
        "  for w in t:\n",
        "    tagged_sentence.append((w[1], w[3]))\n",
        "    sentence.append(w[1])\n",
        "    bio_tag.append(w[3])\n",
        "\n",
        "  sentences.append(sentence)\n",
        "  tags.append(bio_tag)\n",
        "\n",
        "print('샘플 크기 :', len(sentences))"
      ],
      "execution_count": 3,
      "outputs": [
        {
          "output_type": "stream",
          "name": "stdout",
          "text": [
            "샘플 크기 : 3555\n"
          ]
        }
      ]
    },
    {
      "cell_type": "code",
      "metadata": {
        "id": "aR7LJnM9T6cU",
        "colab": {
          "base_uri": "https://localhost:8080/"
        },
        "outputId": "9aba8f05-a9e3-4261-8bfd-85c1a9913a4c"
      },
      "source": [
        "print(sentences[0]) # 단어"
      ],
      "execution_count": 4,
      "outputs": [
        {
          "output_type": "stream",
          "name": "stdout",
          "text": [
            "['한편', ',', 'AFC', '챔피언스', '리그', 'E', '조', '에', '속하', 'ㄴ', '포항', '역시', '대회', '8강', '진출', '이', '불투명', '하', '다', '.']\n"
          ]
        }
      ]
    },
    {
      "cell_type": "code",
      "metadata": {
        "id": "AbqYjp4IT-Pd",
        "colab": {
          "base_uri": "https://localhost:8080/"
        },
        "outputId": "fb181552-bf3f-4ba1-f349-89e2e012aa05"
      },
      "source": [
        "print(tags[0]) # BIO 태그"
      ],
      "execution_count": 5,
      "outputs": [
        {
          "output_type": "stream",
          "name": "stdout",
          "text": [
            "['O', 'O', 'O', 'O', 'O', 'B_OG', 'I', 'O', 'O', 'O', 'O', 'O', 'O', 'O', 'O', 'O', 'O', 'O', 'O', 'O']\n"
          ]
        }
      ]
    },
    {
      "cell_type": "code",
      "metadata": {
        "id": "DWr0g4GUUBJr",
        "colab": {
          "base_uri": "https://localhost:8080/"
        },
        "outputId": "9cd18076-039f-4123-e39e-5bd062cbdec4"
      },
      "source": [
        "print('샘플 문장 시퀀스 최대 길이 :', max(len(l) for l in sentences))\n",
        "print('샘플 문장 시퀀스 평균 길이 :', (sum(map(len, sentences))/len(sentences))) # -> 시퀀스 패딩 크기 결정"
      ],
      "execution_count": 6,
      "outputs": [
        {
          "output_type": "stream",
          "name": "stdout",
          "text": [
            "샘플 문장 시퀀스 최대 길이 : 168\n",
            "샘플 문장 시퀀스 평균 길이 : 34.03909985935302\n"
          ]
        }
      ]
    },
    {
      "cell_type": "code",
      "metadata": {
        "id": "mL9G0I_wUann",
        "colab": {
          "base_uri": "https://localhost:8080/"
        },
        "outputId": "8e6266d2-770d-457a-8f02-cc07cbae774b"
      },
      "source": [
        "# 토크나이저 정의\n",
        "sent_tokenizer = preprocessing.text.Tokenizer(oov_token='00V') # out of vocabulary : 단어 사전에 포함되지 않은 단어\n",
        "sent_tokenizer.fit_on_texts(sentences)\n",
        "\n",
        "tag_tokenizer = preprocessing.text.Tokenizer(lower=False) # 소문자 X\n",
        "tag_tokenizer.fit_on_texts(tags)\n",
        "\n",
        "\n",
        "vocab_size = len(sent_tokenizer.word_index) + 1\n",
        "tag_size = len(tag_tokenizer.word_index) + 1\n",
        "\n",
        "print('단어 사전 크기 :', vocab_size)\n",
        "print('BIO 태그 사전 크기 :', tag_size)"
      ],
      "execution_count": 7,
      "outputs": [
        {
          "output_type": "stream",
          "name": "stdout",
          "text": [
            "단어 사전 크기 : 13834\n",
            "BIO 태그 사전 크기 : 8\n"
          ]
        }
      ]
    },
    {
      "cell_type": "code",
      "metadata": {
        "id": "RriTuW6OXK_t",
        "colab": {
          "base_uri": "https://localhost:8080/"
        },
        "outputId": "5fe4a76f-3d58-4b65-bff0-c63d814e4dbf"
      },
      "source": [
        "# 학습용 시퀀스 생성\n",
        "x_train = sent_tokenizer.texts_to_sequences(sentences)\n",
        "y_train = tag_tokenizer.texts_to_sequences(tags)\n",
        "\n",
        "print(x_train[0])\n",
        "print(y_train[0])"
      ],
      "execution_count": 8,
      "outputs": [
        {
          "output_type": "stream",
          "name": "stdout",
          "text": [
            "[183, 11, 4276, 884, 162, 931, 402, 10, 2608, 7, 1516, 608, 145, 1361, 414, 4, 6347, 2, 8, 3]\n",
            "[1, 1, 1, 1, 1, 3, 2, 1, 1, 1, 1, 1, 1, 1, 1, 1, 1, 1, 1, 1]\n"
          ]
        }
      ]
    },
    {
      "cell_type": "code",
      "metadata": {
        "id": "uhlCBERGZktH",
        "colab": {
          "base_uri": "https://localhost:8080/"
        },
        "outputId": "62c2bdf2-9af6-4149-efa9-d7ee6fe058b1"
      },
      "source": [
        "index_to_word = sent_tokenizer.index_word # 시퀀스 인덱스 -> 단어 변환\n",
        "index_to_ner = tag_tokenizer.index_word   # 시퀀스 인덱스 -> NER 변환\n",
        "\n",
        "print(index_to_word[2])\n",
        "print(index_to_ner)"
      ],
      "execution_count": 9,
      "outputs": [
        {
          "output_type": "stream",
          "name": "stdout",
          "text": [
            "하\n",
            "{1: 'O', 2: 'I', 3: 'B_OG', 4: 'B_PS', 5: 'B_DT', 6: 'B_LC', 7: 'B_TI'}\n"
          ]
        }
      ]
    },
    {
      "cell_type": "code",
      "metadata": {
        "id": "b2TrAv-8bwxi",
        "colab": {
          "base_uri": "https://localhost:8080/"
        },
        "outputId": "9eb5633d-11eb-4b0e-f9aa-490565b392b2"
      },
      "source": [
        "index_to_ner[0] = 'PAD'\n",
        "print(index_to_ner)"
      ],
      "execution_count": 10,
      "outputs": [
        {
          "output_type": "stream",
          "name": "stdout",
          "text": [
            "{1: 'O', 2: 'I', 3: 'B_OG', 4: 'B_PS', 5: 'B_DT', 6: 'B_LC', 7: 'B_TI', 0: 'PAD'}\n"
          ]
        }
      ]
    },
    {
      "cell_type": "code",
      "metadata": {
        "id": "Wk8OfkMudFFC",
        "colab": {
          "base_uri": "https://localhost:8080/"
        },
        "outputId": "883f9b6d-b772-44c1-8359-d9a40809d6d4"
      },
      "source": [
        "# 시퀀스 패딩 처리 : 입출력 벡터 크기를 동일하게 맞추기 위해\n",
        "\n",
        "max_len = 40 # 단어 시퀀스 평균 길이보다 넉넉하게 정의\n",
        "x_train = preprocessing.sequence.pad_sequences(x_train, padding='post', maxlen=max_len)\n",
        "y_train = preprocessing.sequence.pad_sequences(y_train, padding='post', maxlen=max_len)\n",
        "\n",
        "print(x_train[0])\n",
        "print(y_train[0])"
      ],
      "execution_count": 11,
      "outputs": [
        {
          "output_type": "stream",
          "name": "stdout",
          "text": [
            "[ 183   11 4276  884  162  931  402   10 2608    7 1516  608  145 1361\n",
            "  414    4 6347    2    8    3    0    0    0    0    0    0    0    0\n",
            "    0    0    0    0    0    0    0    0    0    0    0    0]\n",
            "[1 1 1 1 1 3 2 1 1 1 1 1 1 1 1 1 1 1 1 1 0 0 0 0 0 0 0 0 0 0 0 0 0 0 0 0 0\n",
            " 0 0 0]\n"
          ]
        }
      ]
    },
    {
      "cell_type": "code",
      "metadata": {
        "id": "BlLwDKftibgU",
        "colab": {
          "base_uri": "https://localhost:8080/"
        },
        "outputId": "9f09d2e3-3415-42c9-d110-a7c993f9e7ac"
      },
      "source": [
        "# train:test = 8:2\n",
        "x_train, x_test, y_train, y_test = train_test_split(x_train, y_train, \n",
        "                                                    test_size=.2, random_state=0)\n",
        "\n",
        "# 출력 데이터를 원-핫 인코딩\n",
        "y_train = tf.keras.utils.to_categorical(y_train, num_classes=tag_size)\n",
        "y_test = tf.keras.utils.to_categorical(y_test, num_classes=tag_size)\n",
        "\n",
        "print('x_train.shape :', x_train.shape)\n",
        "print('y_train.shape :', y_train.shape)\n",
        "print('x_test.shape :', x_test.shape)\n",
        "print('y_test.shape :', y_test.shape)"
      ],
      "execution_count": 12,
      "outputs": [
        {
          "output_type": "stream",
          "name": "stdout",
          "text": [
            "x_train.shape : (2844, 40)\n",
            "y_train.shape : (2844, 40, 8)\n",
            "x_test.shape : (711, 40)\n",
            "y_test.shape : (711, 40, 8)\n"
          ]
        }
      ]
    },
    {
      "cell_type": "code",
      "metadata": {
        "id": "TTxIDgx6hEBL",
        "colab": {
          "base_uri": "https://localhost:8080/"
        },
        "outputId": "568d9fb8-64c6-46f0-ae75-797b0849f674"
      },
      "source": [
        "from tensorflow.keras.models import Sequential\n",
        "from tensorflow.keras.layers import LSTM, Embedding, Dense, TimeDistributed, Dropout, Bidirectional\n",
        "from tensorflow.keras.optimizers import Adam\n",
        "\n",
        "model = Sequential() # 순차 모델\n",
        "model.add(Embedding(input_dim=vocab_size, output_dim=30, input_length=max_len, mask_zero=True))\n",
        "model.add(Bidirectional(LSTM(200, return_sequences=True, dropout=0.50, recurrent_dropout=0.25)))\n",
        "model.add(TimeDistributed(Dense(tag_size, activation='softmax'))) # tag_size의 출력 뉴런에서 제일 확률 높은 출력값 1개를 선택하기 때문에 활성화 함수로 softmax 사용.\n",
        "model.compile(loss='categorical_crossentropy', optimizer=Adam(0.01), metrics=['accuracy'])\n",
        "model.fit(x_train, y_train, batch_size=128, epochs=10)"
      ],
      "execution_count": 13,
      "outputs": [
        {
          "output_type": "stream",
          "name": "stdout",
          "text": [
            "Epoch 1/10\n",
            "23/23 [==============================] - 28s 889ms/step - loss: 0.5160 - accuracy: 0.8362\n",
            "Epoch 2/10\n",
            "23/23 [==============================] - 21s 894ms/step - loss: 0.2344 - accuracy: 0.8957\n",
            "Epoch 3/10\n",
            "23/23 [==============================] - 20s 888ms/step - loss: 0.1581 - accuracy: 0.9237\n",
            "Epoch 4/10\n",
            "23/23 [==============================] - 20s 887ms/step - loss: 0.1159 - accuracy: 0.9439\n",
            "Epoch 5/10\n",
            "23/23 [==============================] - 20s 884ms/step - loss: 0.0825 - accuracy: 0.9625\n",
            "Epoch 6/10\n",
            "23/23 [==============================] - 21s 891ms/step - loss: 0.0580 - accuracy: 0.9747\n",
            "Epoch 7/10\n",
            "23/23 [==============================] - 21s 894ms/step - loss: 0.0416 - accuracy: 0.9815\n",
            "Epoch 8/10\n",
            "23/23 [==============================] - 20s 889ms/step - loss: 0.0331 - accuracy: 0.9848\n",
            "Epoch 9/10\n",
            "23/23 [==============================] - 20s 881ms/step - loss: 0.0269 - accuracy: 0.9878\n",
            "Epoch 10/10\n",
            "23/23 [==============================] - 21s 891ms/step - loss: 0.0225 - accuracy: 0.9896\n"
          ]
        },
        {
          "output_type": "execute_result",
          "data": {
            "text/plain": [
              "<keras.callbacks.History at 0x7fc3497657d0>"
            ]
          },
          "metadata": {},
          "execution_count": 13
        }
      ]
    },
    {
      "cell_type": "code",
      "metadata": {
        "colab": {
          "base_uri": "https://localhost:8080/"
        },
        "id": "t07TxCkGvo9H",
        "outputId": "47020ea0-bf6e-4a15-f52b-6e9d1907ead3"
      },
      "source": [
        "print('평과 결과 :', model.evaluate(x_test, y_test)[1])"
      ],
      "execution_count": 14,
      "outputs": [
        {
          "output_type": "stream",
          "name": "stdout",
          "text": [
            "23/23 [==============================] - 2s 55ms/step - loss: 0.2269 - accuracy: 0.9399\n",
            "평과 결과 : 0.9399349689483643\n"
          ]
        }
      ]
    },
    {
      "cell_type": "code",
      "metadata": {
        "colab": {
          "base_uri": "https://localhost:8080/"
        },
        "id": "svC6homcvz1y",
        "outputId": "afa2bfcd-0b8d-41c8-afc9-dd0d53b2d30d"
      },
      "source": [
        "def sequences_to_tag(sequences):\n",
        "  result = []\n",
        "  for sequence in sequences:\n",
        "    temp = []\n",
        "    for pred in sequence:\n",
        "      pred_index = np.argmax(pred)\n",
        "      temp.append(index_to_ner[pred_index].replace('PAD', 'O'))\n",
        "    result.append(temp)\n",
        "\n",
        "  return result\n",
        "\n",
        "y_predicted = model.predict(x_test) \n",
        "\n",
        "# 예측 NER\n",
        "pred_tags = sequences_to_tag(y_predicted)\n",
        "print(pred_tags[0])"
      ],
      "execution_count": 15,
      "outputs": [
        {
          "output_type": "stream",
          "name": "stdout",
          "text": [
            "['B_DT', 'I', 'I', 'I', 'O', 'O', 'O', 'O', 'O', 'O', 'O', 'O', 'O', 'O', 'O', 'O', 'O', 'O', 'O', 'O', 'O', 'O', 'O', 'O', 'O', 'O', 'O', 'O', 'O', 'O', 'O', 'O', 'O', 'O', 'O', 'O', 'O', 'O', 'O', 'O']\n"
          ]
        }
      ]
    },
    {
      "cell_type": "code",
      "metadata": {
        "colab": {
          "base_uri": "https://localhost:8080/"
        },
        "id": "mQLvu3ux3uqd",
        "outputId": "05cbd00e-2bf4-4228-8c84-beae3d8834d7"
      },
      "source": [
        "# 실제 NER\n",
        "test_tags = sequences_to_tag(y_test)\n",
        "print(test_tags[0])"
      ],
      "execution_count": 16,
      "outputs": [
        {
          "output_type": "stream",
          "name": "stdout",
          "text": [
            "['B_DT', 'I', 'I', 'I', 'O', 'O', 'O', 'O', 'O', 'O', 'O', 'O', 'O', 'O', 'O', 'O', 'O', 'O', 'O', 'O', 'O', 'O', 'O', 'O', 'O', 'O', 'O', 'O', 'O', 'O', 'O', 'O', 'O', 'O', 'O', 'O', 'O', 'O', 'O', 'O']\n"
          ]
        }
      ]
    },
    {
      "cell_type": "code",
      "metadata": {
        "colab": {
          "base_uri": "https://localhost:8080/"
        },
        "id": "RasAtyHB38YU",
        "outputId": "20b30307-3eb9-46c7-e45c-a1f61c7d2ccf"
      },
      "source": [
        "# pip install seqeval\n",
        "from seqeval.metrics import f1_score, classification_report\n",
        "print(classification_report(test_tags, pred_tags)) # 정밀도(precision), 재현율(recall), F1-score 출력 "
      ],
      "execution_count": 19,
      "outputs": [
        {
          "output_type": "stream",
          "name": "stderr",
          "text": [
            "/usr/local/lib/python3.7/dist-packages/seqeval/metrics/sequence_labeling.py:171: UserWarning: B_DT seems not to be NE tag.\n",
            "  warnings.warn('{} seems not to be NE tag.'.format(chunk))\n",
            "/usr/local/lib/python3.7/dist-packages/seqeval/metrics/sequence_labeling.py:171: UserWarning: B_PS seems not to be NE tag.\n",
            "  warnings.warn('{} seems not to be NE tag.'.format(chunk))\n",
            "/usr/local/lib/python3.7/dist-packages/seqeval/metrics/sequence_labeling.py:171: UserWarning: B_OG seems not to be NE tag.\n",
            "  warnings.warn('{} seems not to be NE tag.'.format(chunk))\n",
            "/usr/local/lib/python3.7/dist-packages/seqeval/metrics/sequence_labeling.py:171: UserWarning: B_TI seems not to be NE tag.\n",
            "  warnings.warn('{} seems not to be NE tag.'.format(chunk))\n",
            "/usr/local/lib/python3.7/dist-packages/seqeval/metrics/sequence_labeling.py:171: UserWarning: B_LC seems not to be NE tag.\n",
            "  warnings.warn('{} seems not to be NE tag.'.format(chunk))\n"
          ]
        },
        {
          "output_type": "stream",
          "name": "stdout",
          "text": [
            "              precision    recall  f1-score   support\n",
            "\n",
            "           _       0.70      0.51      0.59       657\n",
            "         _DT       0.92      0.90      0.91       335\n",
            "         _LC       0.75      0.55      0.64       312\n",
            "         _OG       0.81      0.50      0.62       481\n",
            "         _PS       0.76      0.44      0.55       374\n",
            "         _TI       0.88      0.79      0.83        66\n",
            "\n",
            "   micro avg       0.79      0.57      0.66      2225\n",
            "   macro avg       0.80      0.62      0.69      2225\n",
            "weighted avg       0.78      0.57      0.65      2225\n",
            "\n"
          ]
        }
      ]
    },
    {
      "cell_type": "code",
      "metadata": {
        "colab": {
          "base_uri": "https://localhost:8080/"
        },
        "id": "NVMWKFB058re",
        "outputId": "d11db88e-0351-4ac9-ba46-ba91bf288c38"
      },
      "source": [
        "print('F1-score: {:.1%}'.format(f1_score(test_tags, pred_tags)) # 예측 결과의 평균 F1-score"
      ],
      "execution_count": 21,
      "outputs": [
        {
          "output_type": "stream",
          "name": "stdout",
          "text": [
            "F1-score: 66.1%\n"
          ]
        },
        {
          "output_type": "stream",
          "name": "stderr",
          "text": [
            "/usr/local/lib/python3.7/dist-packages/seqeval/metrics/sequence_labeling.py:171: UserWarning: B_DT seems not to be NE tag.\n",
            "  warnings.warn('{} seems not to be NE tag.'.format(chunk))\n",
            "/usr/local/lib/python3.7/dist-packages/seqeval/metrics/sequence_labeling.py:171: UserWarning: B_PS seems not to be NE tag.\n",
            "  warnings.warn('{} seems not to be NE tag.'.format(chunk))\n",
            "/usr/local/lib/python3.7/dist-packages/seqeval/metrics/sequence_labeling.py:171: UserWarning: B_OG seems not to be NE tag.\n",
            "  warnings.warn('{} seems not to be NE tag.'.format(chunk))\n",
            "/usr/local/lib/python3.7/dist-packages/seqeval/metrics/sequence_labeling.py:171: UserWarning: B_TI seems not to be NE tag.\n",
            "  warnings.warn('{} seems not to be NE tag.'.format(chunk))\n",
            "/usr/local/lib/python3.7/dist-packages/seqeval/metrics/sequence_labeling.py:171: UserWarning: B_LC seems not to be NE tag.\n",
            "  warnings.warn('{} seems not to be NE tag.'.format(chunk))\n"
          ]
        }
      ]
    },
    {
      "cell_type": "code",
      "metadata": {
        "colab": {
          "base_uri": "https://localhost:8080/"
        },
        "id": "CDZzcyRV6LW6",
        "outputId": "0bae88a8-8938-4704-adbe-5bef5d8a6e5b"
      },
      "source": [
        "# 학습이 완료된 모델에 학습되지 않은 새로운 유형의 문장의 개체명 예측\n",
        "word_to_index = sent_tokenizer.word_index\n",
        "new_sentence = '삼성전자 출시 스마트폰 오늘 애플 도전장 내밀다.'.split()\n",
        "new_x = []\n",
        "for w in new_sentence:\n",
        "  try:\n",
        "    new_x.append(word_to_index.get(w, 1))\n",
        "  except KeyError:\n",
        "    new_x.append(word_to_index['OOV'])\n",
        "\n",
        "print('새로운 유형의 시퀀스 :', new_x)"
      ],
      "execution_count": 22,
      "outputs": [
        {
          "output_type": "stream",
          "name": "stdout",
          "text": [
            "새로운 유형의 시퀀스 : [531, 307, 1476, 286, 1507, 6766, 1]\n"
          ]
        }
      ]
    },
    {
      "cell_type": "code",
      "metadata": {
        "colab": {
          "base_uri": "https://localhost:8080/"
        },
        "id": "ZQLKgITD7Uem",
        "outputId": "4b6e6591-c425-4b33-d7ff-96456180abd9"
      },
      "source": [
        "new_padded_seqs = preprocessing.sequence.pad_sequences([new_x], padding='post',\n",
        "                                                       value=0, maxlen=max_len)\n",
        "p = model.predict(np.array([new_padded_seqs[0]]))                                                      \n",
        "p = np.argmax(p, axis=-1)\n",
        "\n",
        "print('{:10} {:5}'.format('단어', '예측 NER'))\n",
        "print('-' * 50)\n",
        "for w, pred in zip(new_sentence, p[0]):\n",
        "  print('{:10} {:5}'.format(w, index_to_ner[pred]))"
      ],
      "execution_count": 23,
      "outputs": [
        {
          "output_type": "stream",
          "name": "stdout",
          "text": [
            "단어         예측 NER\n",
            "--------------------------------------------------\n",
            "삼성전자       B_OG \n",
            "출시         O    \n",
            "스마트폰       O    \n",
            "오늘         B_DT \n",
            "애플         B_OG \n",
            "도전장        I    \n",
            "내밀다.       I    \n"
          ]
        }
      ]
    }
  ]
}