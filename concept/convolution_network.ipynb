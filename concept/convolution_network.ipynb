{
  "nbformat": 4,
  "nbformat_minor": 0,
  "metadata": {
    "colab": {
      "name": "convolution_network.ipynb",
      "provenance": [],
      "collapsed_sections": [],
      "authorship_tag": "ABX9TyPfmggXzbYi23xen3pQocZC"
    },
    "kernelspec": {
      "name": "python3",
      "display_name": "Python 3"
    }
  },
  "cells": [
    {
      "cell_type": "code",
      "metadata": {
        "id": "h-TfSgxInKT6"
      },
      "source": [
        "import numpy as np\r\n",
        "import tensorflow as tf\r\n",
        "import matplotlib.pyplot as plt\r\n",
        "\r\n",
        "from scipy.signal import convolve, correlate, correlate2d\r\n",
        "from sklearn.model_selection import train_test_split"
      ],
      "execution_count": null,
      "outputs": []
    },
    {
      "cell_type": "code",
      "metadata": {
        "id": "YmfHb6mVoBxA"
      },
      "source": [
        "# 1. 합성곱(convolution) 연산\r\n",
        "\r\n",
        "# 1차원 배열\r\n",
        "w = np.array([2, 1, 5, 3])\r\n",
        "x = np.array([2, 8, 3, 7, 1, 2, 0, 4, 5])"
      ],
      "execution_count": null,
      "outputs": []
    },
    {
      "cell_type": "code",
      "metadata": {
        "colab": {
          "base_uri": "https://localhost:8080/"
        },
        "id": "E8YJpS6nota3",
        "outputId": "64a395c6-4307-4bee-fba1-e4e59ed3fb79"
      },
      "source": [
        "# 배열 뒤집기\r\n",
        "\r\n",
        "# 방법 1.\r\n",
        "w_r = np.flip(w)\r\n",
        "print(w_r)"
      ],
      "execution_count": null,
      "outputs": [
        {
          "output_type": "stream",
          "text": [
            "[3 5 1 2]\n"
          ],
          "name": "stdout"
        }
      ]
    },
    {
      "cell_type": "code",
      "metadata": {
        "colab": {
          "base_uri": "https://localhost:8080/"
        },
        "id": "zMI5iW9ypGqy",
        "outputId": "8d5a886a-5701-4b4a-f8f6-47e0eb3fb4c5"
      },
      "source": [
        "# 방법 2.\r\n",
        "w_r = w[::-1]\r\n",
        "print(w_r)"
      ],
      "execution_count": null,
      "outputs": [
        {
          "output_type": "stream",
          "text": [
            "[3 5 1 2]\n"
          ],
          "name": "stdout"
        }
      ]
    },
    {
      "cell_type": "code",
      "metadata": {
        "colab": {
          "base_uri": "https://localhost:8080/"
        },
        "id": "IghlR5QspMnH",
        "outputId": "d9db704b-55cd-4f56-b6b9-4c41ee7000df"
      },
      "source": [
        "#  합성곱 수행하기\r\n",
        "\r\n",
        "# 방법 1.\r\n",
        "for i in range(6):\r\n",
        "  print(np.dot(x[i:i+4], w_r))"
      ],
      "execution_count": null,
      "outputs": [
        {
          "output_type": "stream",
          "text": [
            "63\n",
            "48\n",
            "49\n",
            "28\n",
            "21\n",
            "20\n"
          ],
          "name": "stdout"
        }
      ]
    },
    {
      "cell_type": "code",
      "metadata": {
        "colab": {
          "base_uri": "https://localhost:8080/"
        },
        "id": "YbGWUJpXqCL3",
        "outputId": "3f55899f-7014-4f89-bcc6-e07c9be447db"
      },
      "source": [
        "# 방법 2.\r\n",
        "convolve(x, w, mode='valid')"
      ],
      "execution_count": null,
      "outputs": [
        {
          "output_type": "execute_result",
          "data": {
            "text/plain": [
              "array([63, 48, 49, 28, 21, 20])"
            ]
          },
          "metadata": {
            "tags": []
          },
          "execution_count": 67
        }
      ]
    },
    {
      "cell_type": "code",
      "metadata": {
        "colab": {
          "base_uri": "https://localhost:8080/"
        },
        "id": "Ea-m9MQuq_AA",
        "outputId": "fb43085a-7b89-4e7b-8e35-94bd49ba3565"
      },
      "source": [
        "# 2. 교차 상관(cross-correlation) 연산 - 미끄러지는 배열을 뒤집지 않는다.\r\n",
        "\r\n",
        "# 밸리드 패딩 - 원본 배열의 각 원소의 합성곱 연산 참여도가 다르다.\r\n",
        "correlate(x, w, mode='valid')"
      ],
      "execution_count": null,
      "outputs": [
        {
          "output_type": "execute_result",
          "data": {
            "text/plain": [
              "array([48, 57, 24, 25, 16, 39])"
            ]
          },
          "metadata": {
            "tags": []
          },
          "execution_count": 68
        }
      ]
    },
    {
      "cell_type": "code",
      "metadata": {
        "colab": {
          "base_uri": "https://localhost:8080/"
        },
        "id": "N71CBjvnsgCg",
        "outputId": "5fee9ccf-6015-4e07-9262-8467bec2a05b"
      },
      "source": [
        "# 풀 패딩    - 원본 배열의 각 원소의 합성곱 연산 참여도가 동일.\r\n",
        "correlate(x, w, mode='full')"
      ],
      "execution_count": null,
      "outputs": [
        {
          "output_type": "execute_result",
          "data": {
            "text/plain": [
              "array([ 6, 34, 51, 48, 57, 24, 25, 16, 39, 29, 13, 10])"
            ]
          },
          "metadata": {
            "tags": []
          },
          "execution_count": 69
        }
      ]
    },
    {
      "cell_type": "code",
      "metadata": {
        "colab": {
          "base_uri": "https://localhost:8080/"
        },
        "id": "ux8ej2e11Ayw",
        "outputId": "e9cf8afd-bd9f-4b21-da8b-1c403d4ce215"
      },
      "source": [
        "# 세임 패딩 - 원본 배열의 길이 = 출력 배열의 길이 / 주로 사용 \r\n",
        "correlate(x, w, mode='same')"
      ],
      "execution_count": null,
      "outputs": [
        {
          "output_type": "execute_result",
          "data": {
            "text/plain": [
              "array([34, 51, 48, 57, 24, 25, 16, 39, 29])"
            ]
          },
          "metadata": {
            "tags": []
          },
          "execution_count": 70
        }
      ]
    },
    {
      "cell_type": "code",
      "metadata": {
        "colab": {
          "base_uri": "https://localhost:8080/"
        },
        "id": "BW7HyWRU1iWN",
        "outputId": "9d5f0ed8-3f48-40aa-c549-962b9582c5e3"
      },
      "source": [
        "# 2차원 배열\r\n",
        "x = np.array([[1, 2, 3],\r\n",
        "              [4, 5, 6],\r\n",
        "              [7, 8, 9]])\r\n",
        "w = np.array([[2, 0],\r\n",
        "              [0, 0]])\r\n",
        "\r\n",
        "correlate2d(x, w, mode='valid')"
      ],
      "execution_count": null,
      "outputs": [
        {
          "output_type": "execute_result",
          "data": {
            "text/plain": [
              "array([[ 2,  4],\n",
              "       [ 8, 10]])"
            ]
          },
          "metadata": {
            "tags": []
          },
          "execution_count": 71
        }
      ]
    },
    {
      "cell_type": "code",
      "metadata": {
        "colab": {
          "base_uri": "https://localhost:8080/"
        },
        "id": "oNyYpc8U45c0",
        "outputId": "626bd760-5e7b-4aee-a6ab-590250587f1d"
      },
      "source": [
        "correlate2d(x, w, mode='same')"
      ],
      "execution_count": null,
      "outputs": [
        {
          "output_type": "execute_result",
          "data": {
            "text/plain": [
              "array([[ 2,  4,  6],\n",
              "       [ 8, 10, 12],\n",
              "       [14, 16, 18]])"
            ]
          },
          "metadata": {
            "tags": []
          },
          "execution_count": 72
        }
      ]
    },
    {
      "cell_type": "code",
      "metadata": {
        "colab": {
          "base_uri": "https://localhost:8080/"
        },
        "id": "I2aE9-mY7INV",
        "outputId": "6f46036f-5dbc-4767-947b-0b3aae28cb38"
      },
      "source": [
        "# 텐서플로를 이용한 합성곱 연산\r\n",
        "\r\n",
        "# 2차원 배열 -> 4차원 배열 \r\n",
        "x_4d = x.astype(np.float).reshape(1, 3, 3, 1) # 입력(배치, 높이, 너비, 컬러 채널) - 텐서플로는 실수형의 입력\r\n",
        "w_4d = w.reshape(2, 2, 1, 1) # 가중치(높이, 너비, 채널, 가중치 개수)\r\n",
        "\r\n",
        "c_out = tf.nn.conv2d(x_4d, w_4d, strides=1, padding='SAME')\r\n",
        "c_out.numpy().reshape(3, 3)"
      ],
      "execution_count": null,
      "outputs": [
        {
          "output_type": "execute_result",
          "data": {
            "text/plain": [
              "array([[ 2.,  4.,  6.],\n",
              "       [ 8., 10., 12.],\n",
              "       [14., 16., 18.]])"
            ]
          },
          "metadata": {
            "tags": []
          },
          "execution_count": 73
        }
      ]
    },
    {
      "cell_type": "code",
      "metadata": {
        "id": "DG439FLgCs1G",
        "colab": {
          "base_uri": "https://localhost:8080/"
        },
        "outputId": "4e05f6d6-64c6-4a12-c749-8d6bbe078de2"
      },
      "source": [
        "# 최대 풀링\r\n",
        "\r\n",
        "x = np.array([[1, 2, 3, 4],\r\n",
        "              [5, 6, 7, 8],\r\n",
        "              [9, 10, 11, 12],\r\n",
        "              [13, 14, 15, 16]])\r\n",
        "x = x.reshape(1, 4, 4, 1)\r\n",
        "\r\n",
        "p_out = tf.nn.max_pool2d(x, ksize=2, strides=2, padding='VALID') # cf. 평균 풀링 avg_pool2d()\r\n",
        "p_out.numpy().reshape(2, 2)"
      ],
      "execution_count": null,
      "outputs": [
        {
          "output_type": "execute_result",
          "data": {
            "text/plain": [
              "array([[ 6.,  8.],\n",
              "       [14., 16.]], dtype=float32)"
            ]
          },
          "metadata": {
            "tags": []
          },
          "execution_count": 74
        }
      ]
    },
    {
      "cell_type": "code",
      "metadata": {
        "colab": {
          "base_uri": "https://localhost:8080/"
        },
        "id": "y3eNp3RCRZPD",
        "outputId": "fd9ced35-d78c-45ad-f0e1-6316a3ec01bd"
      },
      "source": [
        "# 렐루 함수\r\n",
        "\r\n",
        "def relu(x):\r\n",
        "  return np.maximum(x, 0)\r\n",
        "\r\n",
        "x = np.array([-1, 2, -3, 4, -5])\r\n",
        "relu(x)"
      ],
      "execution_count": null,
      "outputs": [
        {
          "output_type": "execute_result",
          "data": {
            "text/plain": [
              "array([0, 2, 0, 4, 0])"
            ]
          },
          "metadata": {
            "tags": []
          },
          "execution_count": 75
        }
      ]
    },
    {
      "cell_type": "code",
      "metadata": {
        "colab": {
          "base_uri": "https://localhost:8080/"
        },
        "id": "H75v9TTfhlor",
        "outputId": "2b9245a4-cc44-4e46-d34a-60c7349e0b40"
      },
      "source": [
        "r_out = tf.nn.relu(x)\r\n",
        "r_out.numpy()"
      ],
      "execution_count": null,
      "outputs": [
        {
          "output_type": "execute_result",
          "data": {
            "text/plain": [
              "array([0, 2, 0, 4, 0])"
            ]
          },
          "metadata": {
            "tags": []
          },
          "execution_count": 76
        }
      ]
    },
    {
      "cell_type": "code",
      "metadata": {
        "id": "bphVxjRjQy7r"
      },
      "source": [
        "class ConvolutionNetwork:\r\n",
        "  \r\n",
        "  def __init__(self, n_kernels=10, units=10, batch_size=32, learning_rate=0.1):\r\n",
        "    self.n_kernels = n_kernels # 커널 개수 - 합성곱\r\n",
        "    self.kernel_size = 3 \r\n",
        "    self.optimizer = None\r\n",
        "    self.conv_w = None         # 가중치    - 합성곱층\r\n",
        "    self.conv_b = None         # 절편      - 합성곱층\r\n",
        "    self.units = units         # 뉴런 개수 - 은닉층\r\n",
        "    self.batch_size = batch_size\r\n",
        "    self.w1 = None             # 가중치    - 은닉층\r\n",
        "    self.b1 = None             # 절편      - 은닉층\r\n",
        "    self.w2 = None             # 가중치    - 출력층\r\n",
        "    self.b2 = None             # 절편      - 출력층\r\n",
        "    self.a1 = None             # 활성화    - 은닉층\r\n",
        "    self.losses = []\r\n",
        "    self.val_losses = []\r\n",
        "    self.lr = learning_rate\r\n",
        "\r\n",
        "  # 정방향 계산\r\n",
        "  def forpass(self, x):\r\n",
        "    c_out = tf.nn.conv2d(x, self.conv_w, strides=1, padding='SAME') + self.conv_b # 합성곱 \r\n",
        "    r_out = tf.nn.relu(c_out) # 렐루 함수\r\n",
        "    p_out = tf.nn.max_pool2d(r_out, ksize=2, strides=2, padding='VALID') # 2x2 최대 풀링\r\n",
        "    f_out = tf.reshape(p_out, [x.shape[0], -1]) # 첫 번째 배치 자원을 제외하고, 일렬로 펼침\r\n",
        "    \r\n",
        "    # 완전 연결층\r\n",
        "    z1 = tf.matmul(f_out, self.w1) + self.b1 # 첫 번째 층의 선형식 계산\r\n",
        "    a1 = tf.nn.relu(z1) # 활성화 함수 적용\r\n",
        "    z2 = tf.matmul(a1, self.w2) + self.b2    # 두 번째 층의 선형식 계산\r\n",
        "    return z2\r\n",
        "\r\n",
        "  # 가중치 초기화\r\n",
        "  def init_weights(self, input_shape, n_classes):\r\n",
        "    g = tf.initializers.glorot_uniform()\r\n",
        "    self.conv_w = tf.Variable(g((3, 3, 1, self.n_kernels)))\r\n",
        "    self.conv_b = tf.Variable(np.zeros(self.n_kernels), dtype=float)\r\n",
        "    n_features = 14 * 14 * self.n_kernels\r\n",
        "    self.w1 =  tf.Variable(g((n_features, self.units)))\r\n",
        "    self.b1 = tf.Variable(np.zeros(self.units), dtype=float)\r\n",
        "    self.w2 =  tf.Variable(g((self.units, n_classes)))\r\n",
        "    self.b2 = tf.Variable(np.zeros(n_classes), dtype=float)\r\n",
        "\r\n",
        "  def fit(self, x, y, epochs=100, x_val=None, y_val=None):\r\n",
        "    self.init_weights(x.shape, y.shape[1])\r\n",
        "    self.optimizer = tf.optimizers.SGD(learning_rate=self.lr)\r\n",
        "    \r\n",
        "    for i in range(epochs):\r\n",
        "      print('에포크', i, end=' ')\r\n",
        "      batch_losses = []\r\n",
        "      for x_batch, y_batch in self.gen_batch(x, y):\r\n",
        "        print('.', end='') \r\n",
        "        self.training(x_batch, y_batch)\r\n",
        "        batch_losses.append(self.get_loss(x_batch, y_batch))\r\n",
        "      print()\r\n",
        "      self.losses.append(np.mean(batch_losses))\r\n",
        "      self.val_losses.append(self.get_loss(x_val, y_val))\r\n",
        "\r\n",
        "  # 미니 배치 제너레이터 함수\r\n",
        "  def gen_batch(self, x, y):\r\n",
        "    bins = len(x) // self.batch_size # 미니 배치 횟수\r\n",
        "    indexes = np.random.permutation(np.arange(len(x))) # 인덱스 섞기\r\n",
        "    x = x[indexes]\r\n",
        "    y = y[indexes]\r\n",
        "    for i in range(bins):\r\n",
        "      start = self.batch_size * i\r\n",
        "      end = self.batch_size * (i + 1)\r\n",
        "      yield x[start:end], y[start:end]\r\n",
        "\r\n",
        "  # 역방향 계산\r\n",
        "  def training(self, x, y):\r\n",
        "    m = len(x)\r\n",
        "\r\n",
        "    # 자동 미분 기능\r\n",
        "    with tf.GradientTape() as tape: \r\n",
        "      z = self.forpass(x)\r\n",
        "      loss = tf.nn.softmax_cross_entropy_with_logits(y, z)\r\n",
        "      loss = tf.reduce_mean(loss)\r\n",
        "\r\n",
        "    weights_list = [self.conv_w, self.conv_b, self.w1, self.b1, self.w2, self.b2]\r\n",
        "    grads = tape.gradient(loss, weights_list)\r\n",
        "    self.optimizer.apply_gradients(zip(grads, weights_list)) # 가중치 업데이트\r\n",
        "\r\n",
        "  def predict(self, x):\r\n",
        "    z = self.forpass(x)\r\n",
        "    return np.argmax(z.numpy(), axis=1) # 가장 큰 값의 인덱스 반환\r\n",
        "\r\n",
        "  def score(self, x, y):\r\n",
        "    return np.mean(self.predict(x) == np.argmax(y, axis=1))\r\n",
        "  \r\n",
        "  def get_loss(self, x, y):\r\n",
        "    z = self.forpass(x)\r\n",
        "    loss = tf.reduce_mean(tf.nn.softmax_cross_entropy_with_logits(y, z))\r\n",
        "    return loss.numpy()"
      ],
      "execution_count": null,
      "outputs": []
    },
    {
      "cell_type": "code",
      "metadata": {
        "id": "IT_R4Vv1cSGD"
      },
      "source": [
        "(x_train_all, y_train_all), (x_test, y_test) = tf.keras.datasets.fashion_mnist.load_data()\r\n",
        "x_train, x_val, y_train, y_val = train_test_split(x_train_all, y_train_all, stratify=y_train_all, test_size=0.2, random_state=42) \r\n",
        "\r\n",
        "# 원-핫 인코딩으로 변환\r\n",
        "y_train_encoded = tf.keras.utils.to_categorical(y_train)\r\n",
        "y_val_encoded = tf.keras.utils.to_categorical(y_val)\r\n",
        "\r\n",
        "# 입력 데이터\r\n",
        "x_train = x_train.reshape(-1, 28, 28, 1)\r\n",
        "x_val = x_val.reshape(-1, 28, 28, 1)"
      ],
      "execution_count": null,
      "outputs": []
    },
    {
      "cell_type": "code",
      "metadata": {
        "colab": {
          "base_uri": "https://localhost:8080/"
        },
        "id": "rzMmFYwTe4kb",
        "outputId": "f0623023-f9dc-4bed-cd09-6453660b2659"
      },
      "source": [
        "x_train.shape"
      ],
      "execution_count": null,
      "outputs": [
        {
          "output_type": "execute_result",
          "data": {
            "text/plain": [
              "(48000, 28, 28, 1)"
            ]
          },
          "metadata": {
            "tags": []
          },
          "execution_count": 79
        }
      ]
    },
    {
      "cell_type": "code",
      "metadata": {
        "id": "UmEYuQZEfEex"
      },
      "source": [
        "x_train = x_train / 255\r\n",
        "x_val = x_val / 255"
      ],
      "execution_count": null,
      "outputs": []
    },
    {
      "cell_type": "code",
      "metadata": {
        "colab": {
          "base_uri": "https://localhost:8080/"
        },
        "id": "MdNtlz5lffc5",
        "outputId": "48f75991-6ac3-48db-b99d-006c13636f61"
      },
      "source": [
        "cn = ConvolutionNetwork(n_kernels=10, units=100, batch_size=128, learning_rate=0.01)\r\n",
        "cn.fit(x_train, y_train_encoded, x_val=x_val, y_val=y_val_encoded, epochs=20)"
      ],
      "execution_count": null,
      "outputs": [
        {
          "output_type": "stream",
          "text": [
            "에포크 0 .......................................................................................................................................................................................................................................................................................................................................................................................\n",
            "에포크 1 .......................................................................................................................................................................................................................................................................................................................................................................................\n",
            "에포크 2 .......................................................................................................................................................................................................................................................................................................................................................................................\n",
            "에포크 3 .......................................................................................................................................................................................................................................................................................................................................................................................\n",
            "에포크 4 .......................................................................................................................................................................................................................................................................................................................................................................................\n",
            "에포크 5 .......................................................................................................................................................................................................................................................................................................................................................................................\n",
            "에포크 6 .......................................................................................................................................................................................................................................................................................................................................................................................\n",
            "에포크 7 .......................................................................................................................................................................................................................................................................................................................................................................................\n",
            "에포크 8 .......................................................................................................................................................................................................................................................................................................................................................................................\n",
            "에포크 9 .......................................................................................................................................................................................................................................................................................................................................................................................\n",
            "에포크 10 .......................................................................................................................................................................................................................................................................................................................................................................................\n",
            "에포크 11 .......................................................................................................................................................................................................................................................................................................................................................................................\n",
            "에포크 12 .......................................................................................................................................................................................................................................................................................................................................................................................\n",
            "에포크 13 .......................................................................................................................................................................................................................................................................................................................................................................................\n",
            "에포크 14 .......................................................................................................................................................................................................................................................................................................................................................................................\n",
            "에포크 15 .......................................................................................................................................................................................................................................................................................................................................................................................\n",
            "에포크 16 .......................................................................................................................................................................................................................................................................................................................................................................................\n",
            "에포크 17 .......................................................................................................................................................................................................................................................................................................................................................................................\n",
            "에포크 18 .......................................................................................................................................................................................................................................................................................................................................................................................\n",
            "에포크 19 .......................................................................................................................................................................................................................................................................................................................................................................................\n"
          ],
          "name": "stdout"
        }
      ]
    },
    {
      "cell_type": "code",
      "metadata": {
        "colab": {
          "base_uri": "https://localhost:8080/",
          "height": 279
        },
        "id": "O7NXJ6Mnow51",
        "outputId": "dd0d92d0-5abc-48b4-e04f-245eb268f005"
      },
      "source": [
        "plt.plot(cn.losses)\r\n",
        "plt.plot(cn.val_losses)\r\n",
        "plt.ylabel('loss')\r\n",
        "plt.xlabel('iteration')\r\n",
        "plt.legend(['train_loss', 'val_loss'])\r\n",
        "plt.show()"
      ],
      "execution_count": null,
      "outputs": [
        {
          "output_type": "display_data",
          "data": {
            "image/png": "[encoded data removed]",
            "text/plain": [
              "<Figure size 432x288 with 1 Axes>"
            ]
          },
          "metadata": {
            "tags": [],
            "needs_background": "light"
          }
        }
      ]
    },
    {
      "cell_type": "code",
      "metadata": {
        "colab": {
          "base_uri": "https://localhost:8080/"
        },
        "id": "3dkjzEG6pnwS",
        "outputId": "ebd2dca4-cb22-4625-9fd0-ddb10080ad93"
      },
      "source": [
        "cn.score(x_val, y_val_encoded) "
      ],
      "execution_count": null,
      "outputs": [
        {
          "output_type": "execute_result",
          "data": {
            "text/plain": [
              "0.8773333333333333"
            ]
          },
          "metadata": {
            "tags": []
          },
          "execution_count": 101
        }
      ]
    },
    {
      "cell_type": "code",
      "metadata": {
        "id": "bEU7LDbpCw0H"
      },
      "source": [
        "# 케라스로 합성곱 신경망 구현\r\n",
        "\r\n",
        "from tensorflow.keras.layers import Conv2D, MaxPooling2D, Flatten, Dropout, Dense"
      ],
      "execution_count": null,
      "outputs": []
    },
    {
      "cell_type": "code",
      "metadata": {
        "colab": {
          "base_uri": "https://localhost:8080/"
        },
        "id": "9RMlO5I20oxe",
        "outputId": "5a8c66d5-3fce-4808-cddb-c38ce8b94aa8"
      },
      "source": [
        "conv1 = tf.keras.Sequential()\r\n",
        "conv1.add(Conv2D(10, (3, 3), activation='relu', padding='same', input_shape=(28, 28, 1))) # 합성곱층\r\n",
        "conv1.add(MaxPooling2D((2, 2))) # 풀링층\r\n",
        "conv1.add(Flatten()) # 완전 연결층에 주입할 수 있도록 특성맵을 일렬로 펼치기\r\n",
        "conv1.add(Dropout(0.5))\r\n",
        "conv1.add(Dense(100, activation='relu')) # 완전 연결층\r\n",
        "conv1.add(Dense(10, activation='softmax')) # 완전 연결층\r\n",
        "\r\n",
        "conv1.summary()"
      ],
      "execution_count": null,
      "outputs": [
        {
          "output_type": "stream",
          "text": [
            "Model: \"sequential_3\"\n",
            "_________________________________________________________________\n",
            "Layer (type)                 Output Shape              Param #   \n",
            "=================================================================\n",
            "conv2d_3 (Conv2D)            (None, 28, 28, 10)        100       \n",
            "_________________________________________________________________\n",
            "max_pooling2d_3 (MaxPooling2 (None, 14, 14, 10)        0         \n",
            "_________________________________________________________________\n",
            "flatten_3 (Flatten)          (None, 1960)              0         \n",
            "_________________________________________________________________\n",
            "dropout_1 (Dropout)          (None, 1960)              0         \n",
            "_________________________________________________________________\n",
            "dense_6 (Dense)              (None, 100)               196100    \n",
            "_________________________________________________________________\n",
            "dense_7 (Dense)              (None, 10)                1010      \n",
            "=================================================================\n",
            "Total params: 197,210\n",
            "Trainable params: 197,210\n",
            "Non-trainable params: 0\n",
            "_________________________________________________________________\n"
          ],
          "name": "stdout"
        }
      ]
    },
    {
      "cell_type": "code",
      "metadata": {
        "colab": {
          "base_uri": "https://localhost:8080/"
        },
        "id": "oF0hKtuB42Fn",
        "outputId": "9f1e6f7b-42e5-4560-f7c6-c6f16359468f"
      },
      "source": [
        "conv1.compile(optimizer='adam', loss='categorical_crossentropy', metrics=['accuracy'])\r\n",
        "history = conv1.fit(x_train, y_train_encoded, epochs=20, validation_data=(x_val, y_val_encoded))"
      ],
      "execution_count": null,
      "outputs": [
        {
          "output_type": "stream",
          "text": [
            "Epoch 1/20\n",
            "1500/1500 [==============================] - 22s 15ms/step - loss: 0.6939 - accuracy: 0.7528 - val_loss: 0.3504 - val_accuracy: 0.8740\n",
            "Epoch 2/20\n",
            "1500/1500 [==============================] - 21s 14ms/step - loss: 0.3925 - accuracy: 0.8539 - val_loss: 0.3236 - val_accuracy: 0.8819\n",
            "Epoch 3/20\n",
            "1500/1500 [==============================] - 22s 14ms/step - loss: 0.3451 - accuracy: 0.8721 - val_loss: 0.2898 - val_accuracy: 0.8966\n",
            "Epoch 4/20\n",
            "1500/1500 [==============================] - 22s 14ms/step - loss: 0.3076 - accuracy: 0.8869 - val_loss: 0.2685 - val_accuracy: 0.9043\n",
            "Epoch 5/20\n",
            "1500/1500 [==============================] - 22s 14ms/step - loss: 0.2908 - accuracy: 0.8925 - val_loss: 0.2588 - val_accuracy: 0.9062\n",
            "Epoch 6/20\n",
            "1500/1500 [==============================] - 21s 14ms/step - loss: 0.2753 - accuracy: 0.8978 - val_loss: 0.2497 - val_accuracy: 0.9107\n",
            "Epoch 7/20\n",
            "1500/1500 [==============================] - 22s 15ms/step - loss: 0.2635 - accuracy: 0.8986 - val_loss: 0.2521 - val_accuracy: 0.9108\n",
            "Epoch 8/20\n",
            "1500/1500 [==============================] - 22s 14ms/step - loss: 0.2473 - accuracy: 0.9085 - val_loss: 0.2444 - val_accuracy: 0.9121\n",
            "Epoch 9/20\n",
            "1500/1500 [==============================] - 22s 15ms/step - loss: 0.2373 - accuracy: 0.9113 - val_loss: 0.2331 - val_accuracy: 0.9158\n",
            "Epoch 10/20\n",
            "1500/1500 [==============================] - 22s 14ms/step - loss: 0.2260 - accuracy: 0.9143 - val_loss: 0.2375 - val_accuracy: 0.9130\n",
            "Epoch 11/20\n",
            "1500/1500 [==============================] - 22s 14ms/step - loss: 0.2252 - accuracy: 0.9164 - val_loss: 0.2383 - val_accuracy: 0.9148\n",
            "Epoch 12/20\n",
            "1500/1500 [==============================] - 22s 14ms/step - loss: 0.2187 - accuracy: 0.9181 - val_loss: 0.2334 - val_accuracy: 0.9179\n",
            "Epoch 13/20\n",
            "1500/1500 [==============================] - 22s 15ms/step - loss: 0.2131 - accuracy: 0.9188 - val_loss: 0.2291 - val_accuracy: 0.9188\n",
            "Epoch 14/20\n",
            "1500/1500 [==============================] - 22s 15ms/step - loss: 0.1984 - accuracy: 0.9255 - val_loss: 0.2324 - val_accuracy: 0.9183\n",
            "Epoch 15/20\n",
            "1500/1500 [==============================] - 22s 14ms/step - loss: 0.1986 - accuracy: 0.9229 - val_loss: 0.2348 - val_accuracy: 0.9175\n",
            "Epoch 16/20\n",
            "1500/1500 [==============================] - 22s 14ms/step - loss: 0.1925 - accuracy: 0.9267 - val_loss: 0.2329 - val_accuracy: 0.9143\n",
            "Epoch 17/20\n",
            "1500/1500 [==============================] - 22s 15ms/step - loss: 0.1898 - accuracy: 0.9288 - val_loss: 0.2332 - val_accuracy: 0.9172\n",
            "Epoch 18/20\n",
            "1500/1500 [==============================] - 22s 15ms/step - loss: 0.1885 - accuracy: 0.9278 - val_loss: 0.2324 - val_accuracy: 0.9198\n",
            "Epoch 19/20\n",
            "1500/1500 [==============================] - 22s 14ms/step - loss: 0.1795 - accuracy: 0.9314 - val_loss: 0.2299 - val_accuracy: 0.9206\n",
            "Epoch 20/20\n",
            "1500/1500 [==============================] - 22s 15ms/step - loss: 0.1793 - accuracy: 0.9319 - val_loss: 0.2256 - val_accuracy: 0.9220\n"
          ],
          "name": "stdout"
        }
      ]
    },
    {
      "cell_type": "code",
      "metadata": {
        "colab": {
          "base_uri": "https://localhost:8080/",
          "height": 279
        },
        "id": "MFzx2U8R8DlX",
        "outputId": "f5657901-16d9-4f5b-a972-aaa2221055f0"
      },
      "source": [
        "plt.plot(history.history['loss'])\r\n",
        "plt.plot(history.history['val_loss'])\r\n",
        "plt.ylabel('loss')\r\n",
        "plt.xlabel('epoch')\r\n",
        "plt.legend(['train_loss', 'val_loss'])\r\n",
        "plt.show()"
      ],
      "execution_count": null,
      "outputs": [
        {
          "output_type": "display_data",
          "data": {
            "image/png": "[encoded data removed]",
            "text/plain": [
              "<Figure size 432x288 with 1 Axes>"
            ]
          },
          "metadata": {
            "tags": [],
            "needs_background": "light"
          }
        }
      ]
    },
    {
      "cell_type": "code",
      "metadata": {
        "colab": {
          "base_uri": "https://localhost:8080/",
          "height": 279
        },
        "id": "IOZB-0Vl8eZQ",
        "outputId": "1e21e48a-f4d3-4b83-b698-1c6bd68e5175"
      },
      "source": [
        "plt.plot(history.history['accuracy'])\r\n",
        "plt.plot(history.history['val_accuracy'])\r\n",
        "plt.ylabel('loss')\r\n",
        "plt.xlabel('epoch')\r\n",
        "plt.legend(['train_accuracy', 'val_accuracy'])\r\n",
        "plt.show()"
      ],
      "execution_count": null,
      "outputs": [
        {
          "output_type": "display_data",
          "data": {
            "image/png": "[encoded data removed]",
            "text/plain": [
              "<Figure size 432x288 with 1 Axes>"
            ]
          },
          "metadata": {
            "tags": [],
            "needs_background": "light"
          }
        }
      ]
    }
  ]
}