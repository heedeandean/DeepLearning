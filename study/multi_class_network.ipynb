{
  "nbformat": 4,
  "nbformat_minor": 0,
  "metadata": {
    "colab": {
      "name": "multi_class_network.ipynb",
      "provenance": [],
      "collapsed_sections": [],
      "authorship_tag": "ABX9TyOTwkbwL7jPjW9+V3kVjR1G"
    },
    "kernelspec": {
      "name": "python3",
      "display_name": "Python 3"
    }
  },
  "cells": [
    {
      "cell_type": "code",
      "metadata": {
        "id": "VOpKy6jQtinG"
      },
      "source": [
        "import tensorflow as tf\r\n",
        "import matplotlib.pyplot as plt\r\n",
        "import numpy as np\r\n",
        "from sklearn.model_selection import train_test_split"
      ],
      "execution_count": 1,
      "outputs": []
    },
    {
      "cell_type": "code",
      "metadata": {
        "id": "oLvgLXvyNqbc"
      },
      "source": [
        "# 다중 분류 신경망\r\n",
        "\r\n",
        "class MultiClassNetwork:\r\n",
        "\r\n",
        "  def __init__(self, units=10, batch_size=32, learning_rate=0.1, l1=0, l2=0):\r\n",
        "    self.units = units # 뉴런 개수    - 은닉층\r\n",
        "    self.batch_size = batch_size\r\n",
        "    self.w1 = None     # 가중치       - 은닉층\r\n",
        "    self.b1 = None     # 절편         - 은닉층\r\n",
        "    self.w2 = None     # 가중치       - 출력층\r\n",
        "    self.b2 = None     # 절편         - 출력층\r\n",
        "    self.a1 = None     # 활성화 출력  - 은닉층   \r\n",
        "    self.losses = []\r\n",
        "    self.val_losses = []\r\n",
        "    self.lr = learning_rate\r\n",
        "    self.l1 = l1\r\n",
        "    self.l2 = l2\r\n",
        "  \r\n",
        "  def forpass(self, x):\r\n",
        "    z1 = np.dot(x, self.w1) + self.b1\r\n",
        "    self.a1 = self.sigmoid(z1)\r\n",
        "    z2 = np.dot(self.a1, self.w2) + self.b2\r\n",
        "    return z2\r\n",
        "\r\n",
        "  def backprop(self, x, err):\r\n",
        "    m = len(x)\r\n",
        "    w2_grad = np.dot(self.a1.T, err) / m\r\n",
        "    b2_grad = np.sum(err) / m\r\n",
        "    err_to_hidden = np.dot(err, self.w2.T) * self.a1 * (1 - self.a1)\r\n",
        "    w1_grad = np.dot(x.T, err_to_hidden) / m\r\n",
        "    b1_grad = np.sum(err_to_hidden, axis=0) / m\r\n",
        "    return w1_grad, b1_grad, w2_grad, b2_grad\r\n",
        "\r\n",
        "  def sigmoid(self, z):\r\n",
        "    a = 1 / (1 + np.exp(-z))\r\n",
        "    return a\r\n",
        "\r\n",
        "  def softmax(self, z):\r\n",
        "    exp_z = np.exp(z)\r\n",
        "    return exp_z / np.sum(exp_z, axis=1).reshape(-1, 1)\r\n",
        "\r\n",
        "  def init_weights(self, n_features, n_classes):\r\n",
        "    self.w1 = np.random.normal(0, 1, (n_features, self.units))\r\n",
        "    self.b1 = np.zeros(self.units)\r\n",
        "    self.w2 = np.random.normal(0, 1, (self.units, n_classes))\r\n",
        "    self.b2 = np.zeros(n_classes)\r\n",
        "  \r\n",
        "  def fit(self, x, y, epochs=100, x_val=None, y_val=None):\r\n",
        "    np.random.seed(42)\r\n",
        "    self.init_weights(x.shape[1], y.shape[1])\r\n",
        "\r\n",
        "    for i in range(epochs):\r\n",
        "      loss = 0\r\n",
        "      print('.', end='')\r\n",
        "      for x_batch, y_batch in self.gen_batch(x, y):\r\n",
        "        a = self.training(x_batch, y_batch)\r\n",
        "        a = np.clip(a, 1e-10, 1-1e-10)\r\n",
        "        loss += np.sum(-y_batch*np.log(a))\r\n",
        "      self.losses.append((loss + self.reg_loss()) / len(x))\r\n",
        "      self.update_val_loss(x_val, y_val)\r\n",
        "\r\n",
        "  def gen_batch(self, x, y):\r\n",
        "    length = len(x)\r\n",
        "    bins = length // self.batch_size # 미니 배치 횟수\r\n",
        "    \r\n",
        "    if length % self.batch_size:\r\n",
        "      bins += 1\r\n",
        "    \r\n",
        "    indexes = np.random.permutation(np.arange(len(x))) # 인덱스 섞기\r\n",
        "    x = x[indexes]\r\n",
        "    y = y[indexes]\r\n",
        "\r\n",
        "    for i in range(bins):\r\n",
        "      start = self.batch_size * i\r\n",
        "      end = self.batch_size * (i + 1)\r\n",
        "      yield x[start:end], y[start:end]\r\n",
        "\r\n",
        "  def training(self, x, y):\r\n",
        "    m = len(x)\r\n",
        "    z = self.forpass(x)\r\n",
        "    a = self.softmax(z)\r\n",
        "    err = -(y - a)\r\n",
        "    w1_grad, b1_grad, w2_grad, b2_grad = self.backprop(x, err)\r\n",
        "    \r\n",
        "    w1_grad += (self.l1 * np.sign(self.w1) + self.l2 * self.w1) / m\r\n",
        "    w2_grad += (self.l1 * np.sign(self.w2) + self.l2 * self.w2) / m\r\n",
        "\r\n",
        "    self.w1 -= self.lr * w1_grad\r\n",
        "    self.b1 -= self.lr * b1_grad\r\n",
        "    self.w2 -= self.lr * w2_grad\r\n",
        "    self.b2 -= self.lr * b2_grad\r\n",
        "    \r\n",
        "    return a\r\n",
        "\r\n",
        "  def predict(self, x):\r\n",
        "    z = self.forpass(x)\r\n",
        "    return np.argmax(z, axis=1)\r\n",
        "\r\n",
        "  def score(self, x, y):\r\n",
        "    return np.mean(self.predict(x) == np.argmax(y, axis=1))\r\n",
        "\r\n",
        "  def reg_loss(self):\r\n",
        "    return self.l1 * (np.sum(np.abs(self.w1)) + np.sum(np.abs(self.w2))) + \\\r\n",
        "           self.l2 / 2 * (np.sum(self.w1**2) + np.sum(self.w2**2))\r\n",
        "\r\n",
        "  def update_val_loss(self, x_val, y_val):\r\n",
        "    z = self.forpass(x_val)\r\n",
        "    a = self.softmax(z)\r\n",
        "    a = np.clip(a, 1e-10, 1-1e-10)\r\n",
        "    val_loss = np.sum(-y_val*np.log(a))\r\n",
        "    self.val_losses.append((val_loss + self.reg_loss()) / len(y_val))"
      ],
      "execution_count": 2,
      "outputs": []
    },
    {
      "cell_type": "code",
      "metadata": {
        "colab": {
          "base_uri": "https://localhost:8080/",
          "height": 35
        },
        "id": "JMAjOtKRtrFm",
        "outputId": "019c4fbf-684a-4bd1-d02e-b3d3785cabee"
      },
      "source": [
        "tf.__version__"
      ],
      "execution_count": 3,
      "outputs": [
        {
          "output_type": "execute_result",
          "data": {
            "application/vnd.google.colaboratory.intrinsic+json": {
              "type": "string"
            },
            "text/plain": [
              "'2.4.0'"
            ]
          },
          "metadata": {
            "tags": []
          },
          "execution_count": 3
        }
      ]
    },
    {
      "cell_type": "code",
      "metadata": {
        "colab": {
          "base_uri": "https://localhost:8080/"
        },
        "id": "XE9Q91nUtt-E",
        "outputId": "f3c9a6d8-cf31-4f14-8cd7-5e267e096e1c"
      },
      "source": [
        "(x_train_all, y_train_all), (x_test, y_test) = tf.keras.datasets.fashion_mnist.load_data()"
      ],
      "execution_count": 4,
      "outputs": [
        {
          "output_type": "stream",
          "text": [
            "Downloading data from https://storage.googleapis.com/tensorflow/tf-keras-datasets/train-labels-idx1-ubyte.gz\n",
            "32768/29515 [=================================] - 0s 0us/step\n",
            "Downloading data from https://storage.googleapis.com/tensorflow/tf-keras-datasets/train-images-idx3-ubyte.gz\n",
            "26427392/26421880 [==============================] - 0s 0us/step\n",
            "Downloading data from https://storage.googleapis.com/tensorflow/tf-keras-datasets/t10k-labels-idx1-ubyte.gz\n",
            "8192/5148 [===============================================] - 0s 0us/step\n",
            "Downloading data from https://storage.googleapis.com/tensorflow/tf-keras-datasets/t10k-images-idx3-ubyte.gz\n",
            "4423680/4422102 [==============================] - 0s 0us/step\n"
          ],
          "name": "stdout"
        }
      ]
    },
    {
      "cell_type": "code",
      "metadata": {
        "id": "UzAR6L9CuWl0",
        "colab": {
          "base_uri": "https://localhost:8080/"
        },
        "outputId": "f091a92f-4e35-41c5-b0b5-200a35af6c8c"
      },
      "source": [
        "print(x_train_all.shape, y_train_all.shape)"
      ],
      "execution_count": 5,
      "outputs": [
        {
          "output_type": "stream",
          "text": [
            "(60000, 28, 28) (60000,)\n"
          ],
          "name": "stdout"
        }
      ]
    },
    {
      "cell_type": "code",
      "metadata": {
        "colab": {
          "base_uri": "https://localhost:8080/",
          "height": 265
        },
        "id": "ZBNWHmFFtwlH",
        "outputId": "0c011136-2c17-45a9-d3af-4dfa6201e09f"
      },
      "source": [
        "plt.imshow(x_train_all[0], cmap='gray')\r\n",
        "plt.show()"
      ],
      "execution_count": 6,
      "outputs": [
        {
          "output_type": "display_data",
          "data": {
            "image/png": "[encoded data removed]",
            "text/plain": [
              "<Figure size 432x288 with 1 Axes>"
            ]
          },
          "metadata": {
            "tags": [],
            "needs_background": "light"
          }
        }
      ]
    },
    {
      "cell_type": "code",
      "metadata": {
        "colab": {
          "base_uri": "https://localhost:8080/"
        },
        "id": "BFGTZ2cVvc0t",
        "outputId": "d3bdb7b2-42a0-493b-b2d4-6c2e761dc524"
      },
      "source": [
        "print(y_train_all[:10])"
      ],
      "execution_count": 7,
      "outputs": [
        {
          "output_type": "stream",
          "text": [
            "[9 0 0 3 0 2 7 2 5 5]\n"
          ],
          "name": "stdout"
        }
      ]
    },
    {
      "cell_type": "code",
      "metadata": {
        "colab": {
          "base_uri": "https://localhost:8080/"
        },
        "id": "_XmFZK4OvQ-9",
        "outputId": "1d96f849-6ddd-4699-b48f-6faeea1f113e"
      },
      "source": [
        "class_names = ['티셔츠/윗도리', '바지', '스웨터', '드레스', '코트', '샌들', '셔츠', '스니커즈', '가방', '앵클부츠']\r\n",
        "print(class_names[y_train_all[0]])"
      ],
      "execution_count": 8,
      "outputs": [
        {
          "output_type": "stream",
          "text": [
            "앵클부츠\n"
          ],
          "name": "stdout"
        }
      ]
    },
    {
      "cell_type": "code",
      "metadata": {
        "colab": {
          "base_uri": "https://localhost:8080/"
        },
        "id": "N4kRV_DmweIk",
        "outputId": "ee941d14-fe07-42ef-f981-369adfa8ca93"
      },
      "source": [
        "np.bincount(y_train_all)"
      ],
      "execution_count": 9,
      "outputs": [
        {
          "output_type": "execute_result",
          "data": {
            "text/plain": [
              "array([6000, 6000, 6000, 6000, 6000, 6000, 6000, 6000, 6000, 6000])"
            ]
          },
          "metadata": {
            "tags": []
          },
          "execution_count": 9
        }
      ]
    },
    {
      "cell_type": "code",
      "metadata": {
        "id": "l9lpA08nxi50"
      },
      "source": [
        "# 훈련세트 / 검증세트 고르게 나누기\r\n",
        "x_train, x_val, y_train, y_val = train_test_split(x_train_all, y_train_all, stratify=y_train_all, test_size=0.2, random_state=42)"
      ],
      "execution_count": 10,
      "outputs": []
    },
    {
      "cell_type": "code",
      "metadata": {
        "colab": {
          "base_uri": "https://localhost:8080/"
        },
        "id": "rGLpRXwXy1dI",
        "outputId": "89d2afa6-3285-49ed-efb7-99676c0e0473"
      },
      "source": [
        "np.bincount(y_train)"
      ],
      "execution_count": 11,
      "outputs": [
        {
          "output_type": "execute_result",
          "data": {
            "text/plain": [
              "array([4800, 4800, 4800, 4800, 4800, 4800, 4800, 4800, 4800, 4800])"
            ]
          },
          "metadata": {
            "tags": []
          },
          "execution_count": 11
        }
      ]
    },
    {
      "cell_type": "code",
      "metadata": {
        "colab": {
          "base_uri": "https://localhost:8080/"
        },
        "id": "mmPnEVEWzKhC",
        "outputId": "d60ad498-b07c-4e69-aea1-8621c29ebbf5"
      },
      "source": [
        "np.bincount(y_val)"
      ],
      "execution_count": 12,
      "outputs": [
        {
          "output_type": "execute_result",
          "data": {
            "text/plain": [
              "array([1200, 1200, 1200, 1200, 1200, 1200, 1200, 1200, 1200, 1200])"
            ]
          },
          "metadata": {
            "tags": []
          },
          "execution_count": 12
        }
      ]
    },
    {
      "cell_type": "code",
      "metadata": {
        "id": "JoCGeIFEzNPj"
      },
      "source": [
        "# 입력 데이터 정규화하기\r\n",
        "x_train = x_train / 255\r\n",
        "x_val = x_val / 255"
      ],
      "execution_count": 13,
      "outputs": []
    },
    {
      "cell_type": "code",
      "metadata": {
        "colab": {
          "base_uri": "https://localhost:8080/"
        },
        "id": "7KZFpOgP0SAs",
        "outputId": "dd6176b9-9a0a-4191-bf8b-65e094669b79"
      },
      "source": [
        "# 훈련세트 / 검증세트 차원 변경하기\r\n",
        "x_train = x_train.reshape(-1, 784)\r\n",
        "x_val = x_val.reshape(-1, 784)\r\n",
        "print(x_train.shape, x_val.shape)"
      ],
      "execution_count": 14,
      "outputs": [
        {
          "output_type": "stream",
          "text": [
            "(48000, 784) (12000, 784)\n"
          ],
          "name": "stdout"
        }
      ]
    },
    {
      "cell_type": "code",
      "metadata": {
        "colab": {
          "base_uri": "https://localhost:8080/"
        },
        "id": "NEOcuC9m1FtL",
        "outputId": "e2a8b5c9-a236-4809-f039-4242b1ae1ff6"
      },
      "source": [
        "tf.keras.utils.to_categorical([0, 1, 3])"
      ],
      "execution_count": 15,
      "outputs": [
        {
          "output_type": "execute_result",
          "data": {
            "text/plain": [
              "array([[1., 0., 0., 0.],\n",
              "       [0., 1., 0., 0.],\n",
              "       [0., 0., 0., 1.]], dtype=float32)"
            ]
          },
          "metadata": {
            "tags": []
          },
          "execution_count": 15
        }
      ]
    },
    {
      "cell_type": "code",
      "metadata": {
        "colab": {
          "base_uri": "https://localhost:8080/"
        },
        "id": "jetvVe4g8782",
        "outputId": "62808210-02d8-4a07-840e-d89ea4c1b941"
      },
      "source": [
        "y_train_encoded = tf.keras.utils.to_categorical(y_train)\r\n",
        "y_val_encoded = tf.keras.utils.to_categorical(y_val)\r\n",
        "print(y_train_encoded.shape, y_val_encoded.shape, y_train.shape, y_val.shape)"
      ],
      "execution_count": 16,
      "outputs": [
        {
          "output_type": "stream",
          "text": [
            "(48000, 10) (12000, 10) (48000,) (12000,)\n"
          ],
          "name": "stdout"
        }
      ]
    },
    {
      "cell_type": "code",
      "metadata": {
        "colab": {
          "base_uri": "https://localhost:8080/"
        },
        "id": "quna29N79naD",
        "outputId": "1b028edf-7c1b-40fa-e654-6d560fb4ab52"
      },
      "source": [
        "print(y_train[0], y_train_encoded[0])"
      ],
      "execution_count": 17,
      "outputs": [
        {
          "output_type": "stream",
          "text": [
            "6 [0. 0. 0. 0. 0. 0. 1. 0. 0. 0.]\n"
          ],
          "name": "stdout"
        }
      ]
    },
    {
      "cell_type": "code",
      "metadata": {
        "colab": {
          "base_uri": "https://localhost:8080/"
        },
        "id": "3iy84eSd-CQK",
        "outputId": "5bac736f-5898-49cb-9831-2d2e3745d381"
      },
      "source": [
        "fc = MultiClassNetwork(units=100, batch_size=256)\r\n",
        "fc.fit(x_train, y_train_encoded, x_val=x_val, y_val=y_val_encoded, epochs=40)"
      ],
      "execution_count": 18,
      "outputs": [
        {
          "output_type": "stream",
          "text": [
            "........................................"
          ],
          "name": "stdout"
        }
      ]
    },
    {
      "cell_type": "code",
      "metadata": {
        "colab": {
          "base_uri": "https://localhost:8080/",
          "height": 279
        },
        "id": "NRtCWOva-qj9",
        "outputId": "36d1fc41-6eec-4068-d943-17fc6bc904c2"
      },
      "source": [
        "plt.plot(fc.losses)\r\n",
        "plt.plot(fc.val_losses)\r\n",
        "plt.ylabel('loss')\r\n",
        "plt.xlabel('iteration')\r\n",
        "plt.legend(['train_loss', 'val_loss'])\r\n",
        "plt.show()"
      ],
      "execution_count": 19,
      "outputs": [
        {
          "output_type": "display_data",
          "data": {
            "image/png": "[encoded data removed]",
            "text/plain": [
              "<Figure size 432x288 with 1 Axes>"
            ]
          },
          "metadata": {
            "tags": [],
            "needs_background": "light"
          }
        }
      ]
    },
    {
      "cell_type": "code",
      "metadata": {
        "colab": {
          "base_uri": "https://localhost:8080/"
        },
        "id": "sUUiBwoR-_0K",
        "outputId": "cbc5ebdb-54d2-4b53-d313-398a365cc9df"
      },
      "source": [
        "fc.score(x_val, y_val_encoded)"
      ],
      "execution_count": 20,
      "outputs": [
        {
          "output_type": "execute_result",
          "data": {
            "text/plain": [
              "0.8150833333333334"
            ]
          },
          "metadata": {
            "tags": []
          },
          "execution_count": 20
        }
      ]
    },
    {
      "cell_type": "code",
      "metadata": {
        "id": "tuL4blRMF48K",
        "colab": {
          "base_uri": "https://localhost:8080/"
        },
        "outputId": "485e2f42-52a2-447a-8c20-d8fd23a1cc25"
      },
      "source": [
        "# 케라스로 다중 분류 신경망 구현\r\n",
        "\r\n",
        "from tensorflow.keras import Sequential\r\n",
        "from tensorflow.keras.layers import Dense\r\n",
        "\r\n",
        "# 모델 생성\r\n",
        "model = Sequential()\r\n",
        "\r\n",
        "model.add(Dense(100, activation='sigmoid', input_shape=(784,))) # 은닉층\r\n",
        "model.add(Dense(10, activation='softmax')) # 출력층\r\n",
        "\r\n",
        "model.compile(optimizer='sgd', loss='categorical_crossentropy', metrics=['accuracy'])\r\n",
        "\r\n",
        "# 모델 훈련\r\n",
        "history = model.fit(x_train, y_train_encoded, epochs=40, validation_data=(x_val, y_val_encoded))"
      ],
      "execution_count": 22,
      "outputs": [
        {
          "output_type": "stream",
          "text": [
            "Epoch 1/40\n",
            "1500/1500 [==============================] - 4s 2ms/step - loss: 1.7607 - accuracy: 0.5168 - val_loss: 0.9858 - val_accuracy: 0.7317\n",
            "Epoch 2/40\n",
            "1500/1500 [==============================] - 3s 2ms/step - loss: 0.9154 - accuracy: 0.7389 - val_loss: 0.7608 - val_accuracy: 0.7592\n",
            "Epoch 3/40\n",
            "1500/1500 [==============================] - 3s 2ms/step - loss: 0.7406 - accuracy: 0.7603 - val_loss: 0.6677 - val_accuracy: 0.7805\n",
            "Epoch 4/40\n",
            "1500/1500 [==============================] - 3s 2ms/step - loss: 0.6621 - accuracy: 0.7774 - val_loss: 0.6137 - val_accuracy: 0.7913\n",
            "Epoch 5/40\n",
            "1500/1500 [==============================] - 3s 2ms/step - loss: 0.6174 - accuracy: 0.7880 - val_loss: 0.5778 - val_accuracy: 0.8016\n",
            "Epoch 6/40\n",
            "1500/1500 [==============================] - 3s 2ms/step - loss: 0.5815 - accuracy: 0.7995 - val_loss: 0.5517 - val_accuracy: 0.8090\n",
            "Epoch 7/40\n",
            "1500/1500 [==============================] - 3s 2ms/step - loss: 0.5564 - accuracy: 0.8081 - val_loss: 0.5319 - val_accuracy: 0.8144\n",
            "Epoch 8/40\n",
            "1500/1500 [==============================] - 3s 2ms/step - loss: 0.5351 - accuracy: 0.8166 - val_loss: 0.5161 - val_accuracy: 0.8199\n",
            "Epoch 9/40\n",
            "1500/1500 [==============================] - 3s 2ms/step - loss: 0.5209 - accuracy: 0.8206 - val_loss: 0.5014 - val_accuracy: 0.8256\n",
            "Epoch 10/40\n",
            "1500/1500 [==============================] - 3s 2ms/step - loss: 0.5105 - accuracy: 0.8257 - val_loss: 0.4913 - val_accuracy: 0.8292\n",
            "Epoch 11/40\n",
            "1500/1500 [==============================] - 3s 2ms/step - loss: 0.4964 - accuracy: 0.8290 - val_loss: 0.4808 - val_accuracy: 0.8315\n",
            "Epoch 12/40\n",
            "1500/1500 [==============================] - 3s 2ms/step - loss: 0.4832 - accuracy: 0.8340 - val_loss: 0.4719 - val_accuracy: 0.8350\n",
            "Epoch 13/40\n",
            "1500/1500 [==============================] - 3s 2ms/step - loss: 0.4760 - accuracy: 0.8355 - val_loss: 0.4664 - val_accuracy: 0.8357\n",
            "Epoch 14/40\n",
            "1500/1500 [==============================] - 3s 2ms/step - loss: 0.4774 - accuracy: 0.8360 - val_loss: 0.4594 - val_accuracy: 0.8385\n",
            "Epoch 15/40\n",
            "1500/1500 [==============================] - 3s 2ms/step - loss: 0.4673 - accuracy: 0.8365 - val_loss: 0.4553 - val_accuracy: 0.8388\n",
            "Epoch 16/40\n",
            "1500/1500 [==============================] - 3s 2ms/step - loss: 0.4637 - accuracy: 0.8403 - val_loss: 0.4481 - val_accuracy: 0.8422\n",
            "Epoch 17/40\n",
            "1500/1500 [==============================] - 3s 2ms/step - loss: 0.4591 - accuracy: 0.8393 - val_loss: 0.4421 - val_accuracy: 0.8430\n",
            "Epoch 18/40\n",
            "1500/1500 [==============================] - 3s 2ms/step - loss: 0.4506 - accuracy: 0.8436 - val_loss: 0.4429 - val_accuracy: 0.8421\n",
            "Epoch 19/40\n",
            "1500/1500 [==============================] - 3s 2ms/step - loss: 0.4496 - accuracy: 0.8442 - val_loss: 0.4349 - val_accuracy: 0.8469\n",
            "Epoch 20/40\n",
            "1500/1500 [==============================] - 3s 2ms/step - loss: 0.4333 - accuracy: 0.8489 - val_loss: 0.4299 - val_accuracy: 0.8488\n",
            "Epoch 21/40\n",
            "1500/1500 [==============================] - 3s 2ms/step - loss: 0.4406 - accuracy: 0.8472 - val_loss: 0.4267 - val_accuracy: 0.8496\n",
            "Epoch 22/40\n",
            "1500/1500 [==============================] - 3s 2ms/step - loss: 0.4306 - accuracy: 0.8499 - val_loss: 0.4243 - val_accuracy: 0.8512\n",
            "Epoch 23/40\n",
            "1500/1500 [==============================] - 3s 2ms/step - loss: 0.4360 - accuracy: 0.8467 - val_loss: 0.4213 - val_accuracy: 0.8514\n",
            "Epoch 24/40\n",
            "1500/1500 [==============================] - 3s 2ms/step - loss: 0.4268 - accuracy: 0.8496 - val_loss: 0.4173 - val_accuracy: 0.8528\n",
            "Epoch 25/40\n",
            "1500/1500 [==============================] - 3s 2ms/step - loss: 0.4245 - accuracy: 0.8504 - val_loss: 0.4147 - val_accuracy: 0.8543\n",
            "Epoch 26/40\n",
            "1500/1500 [==============================] - 3s 2ms/step - loss: 0.4222 - accuracy: 0.8533 - val_loss: 0.4127 - val_accuracy: 0.8543\n",
            "Epoch 27/40\n",
            "1500/1500 [==============================] - 3s 2ms/step - loss: 0.4204 - accuracy: 0.8535 - val_loss: 0.4091 - val_accuracy: 0.8570\n",
            "Epoch 28/40\n",
            "1500/1500 [==============================] - 3s 2ms/step - loss: 0.4120 - accuracy: 0.8546 - val_loss: 0.4069 - val_accuracy: 0.8580\n",
            "Epoch 29/40\n",
            "1500/1500 [==============================] - 3s 2ms/step - loss: 0.4059 - accuracy: 0.8551 - val_loss: 0.4059 - val_accuracy: 0.8568\n",
            "Epoch 30/40\n",
            "1500/1500 [==============================] - 3s 2ms/step - loss: 0.4088 - accuracy: 0.8562 - val_loss: 0.4031 - val_accuracy: 0.8602\n",
            "Epoch 31/40\n",
            "1500/1500 [==============================] - 3s 2ms/step - loss: 0.4084 - accuracy: 0.8555 - val_loss: 0.4012 - val_accuracy: 0.8612\n",
            "Epoch 32/40\n",
            "1500/1500 [==============================] - 3s 2ms/step - loss: 0.4051 - accuracy: 0.8593 - val_loss: 0.4011 - val_accuracy: 0.8574\n",
            "Epoch 33/40\n",
            "1500/1500 [==============================] - 3s 2ms/step - loss: 0.4111 - accuracy: 0.8559 - val_loss: 0.3976 - val_accuracy: 0.8617\n",
            "Epoch 34/40\n",
            "1500/1500 [==============================] - 3s 2ms/step - loss: 0.3991 - accuracy: 0.8590 - val_loss: 0.3968 - val_accuracy: 0.8598\n",
            "Epoch 35/40\n",
            "1500/1500 [==============================] - 3s 2ms/step - loss: 0.3952 - accuracy: 0.8612 - val_loss: 0.3950 - val_accuracy: 0.8601\n",
            "Epoch 36/40\n",
            "1500/1500 [==============================] - 3s 2ms/step - loss: 0.3997 - accuracy: 0.8590 - val_loss: 0.3921 - val_accuracy: 0.8609\n",
            "Epoch 37/40\n",
            "1500/1500 [==============================] - 3s 2ms/step - loss: 0.3890 - accuracy: 0.8619 - val_loss: 0.3910 - val_accuracy: 0.8624\n",
            "Epoch 38/40\n",
            "1500/1500 [==============================] - 3s 2ms/step - loss: 0.3978 - accuracy: 0.8592 - val_loss: 0.3902 - val_accuracy: 0.8630\n",
            "Epoch 39/40\n",
            "1500/1500 [==============================] - 3s 2ms/step - loss: 0.3916 - accuracy: 0.8625 - val_loss: 0.3888 - val_accuracy: 0.8619\n",
            "Epoch 40/40\n",
            "1500/1500 [==============================] - 3s 2ms/step - loss: 0.3937 - accuracy: 0.8601 - val_loss: 0.3863 - val_accuracy: 0.8652\n"
          ],
          "name": "stdout"
        }
      ]
    },
    {
      "cell_type": "code",
      "metadata": {
        "colab": {
          "base_uri": "https://localhost:8080/"
        },
        "id": "7fUM1bkeYL0j",
        "outputId": "37b35efa-b955-4d83-af6c-4739243dd060"
      },
      "source": [
        "# 여러 측정 지표\r\n",
        "print(history.history.keys())"
      ],
      "execution_count": 23,
      "outputs": [
        {
          "output_type": "stream",
          "text": [
            "dict_keys(['loss', 'accuracy', 'val_loss', 'val_accuracy'])\n"
          ],
          "name": "stdout"
        }
      ]
    },
    {
      "cell_type": "code",
      "metadata": {
        "colab": {
          "base_uri": "https://localhost:8080/",
          "height": 279
        },
        "id": "m-9cg2oIY95Z",
        "outputId": "29756ece-3ef5-4e58-9f82-7a5946d1edbd"
      },
      "source": [
        "plt.plot(history.history['loss'])\r\n",
        "plt.plot(history.history['val_loss'])\r\n",
        "plt.ylabel('loss')\r\n",
        "plt.xlabel('epoch')\r\n",
        "plt.legend(['train_loss', 'val_loss'])\r\n",
        "plt.show()"
      ],
      "execution_count": 24,
      "outputs": [
        {
          "output_type": "display_data",
          "data": {
            "image/png": "[encoded data removed]",
            "text/plain": [
              "<Figure size 432x288 with 1 Axes>"
            ]
          },
          "metadata": {
            "tags": [],
            "needs_background": "light"
          }
        }
      ]
    },
    {
      "cell_type": "code",
      "metadata": {
        "colab": {
          "base_uri": "https://localhost:8080/",
          "height": 279
        },
        "id": "pUrooe8kZ4iZ",
        "outputId": "d6817d99-83d4-43da-9d03-4718d10bce68"
      },
      "source": [
        "plt.plot(history.history['accuracy'])\r\n",
        "plt.plot(history.history['val_accuracy'])\r\n",
        "plt.ylabel('accuracy')\r\n",
        "plt.xlabel('epoch')\r\n",
        "plt.legend(['train_accuracy', 'val_accuracy'])\r\n",
        "plt.show()"
      ],
      "execution_count": 25,
      "outputs": [
        {
          "output_type": "display_data",
          "data": {
            "image/png": "[encoded data removed]",
            "text/plain": [
              "<Figure size 432x288 with 1 Axes>"
            ]
          },
          "metadata": {
            "tags": [],
            "needs_background": "light"
          }
        }
      ]
    }
  ]
}