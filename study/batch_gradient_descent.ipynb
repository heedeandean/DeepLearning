{
  "nbformat": 4,
  "nbformat_minor": 0,
  "metadata": {
    "colab": {
      "name": "batch_gradient_descent.ipynb",
      "provenance": [],
      "collapsed_sections": [],
      "authorship_tag": "ABX9TyNT6CeiwMXut8pYBbg78o1O"
    },
    "kernelspec": {
      "name": "python3",
      "display_name": "Python 3"
    }
  },
  "cells": [
    {
      "cell_type": "code",
      "metadata": {
        "id": "wdl2UIZRvPFi"
      },
      "source": [
        "import numpy as np\r\n",
        "import matplotlib.pyplot as plt\r\n",
        "\r\n",
        "from sklearn.datasets import load_breast_cancer\r\n",
        "from sklearn.model_selection import train_test_split\r\n",
        "from sklearn.preprocessing import StandardScaler"
      ],
      "execution_count": 1,
      "outputs": []
    },
    {
      "cell_type": "code",
      "metadata": {
        "id": "CueZetS0xBR5"
      },
      "source": [
        "# 위스콘신 유방암 데이터 세트를 훈련, 검증, 테스트 세트로 나누기.\r\n",
        "\r\n",
        "cancer = load_breast_cancer()\r\n",
        "x = cancer.data\r\n",
        "y = cancer.target\r\n",
        "x_train_all, x_test, y_train_all, y_test = train_test_split(x, y, stratify=y, test_size=0.2, random_state=42)\r\n",
        "x_train, x_val, y_train, y_val = train_test_split(x_train_all, y_train_all, stratify=y_train_all, test_size=0.2, random_state=42)"
      ],
      "execution_count": 2,
      "outputs": []
    },
    {
      "cell_type": "code",
      "metadata": {
        "colab": {
          "base_uri": "https://localhost:8080/"
        },
        "id": "j0QYaAPJyDdk",
        "outputId": "d39df45f-6dff-4552-c99a-b739cb793478"
      },
      "source": [
        "print(x_train.shape, x_val.shape)"
      ],
      "execution_count": 3,
      "outputs": [
        {
          "output_type": "stream",
          "text": [
            "(364, 30) (91, 30)\n"
          ],
          "name": "stdout"
        }
      ]
    },
    {
      "cell_type": "code",
      "metadata": {
        "id": "mjs2d8TxvhKR"
      },
      "source": [
        "# 배치 경사 하강법\r\n",
        "\r\n",
        "class SingleLayer:\r\n",
        "\r\n",
        "  def __init__(self, learning_rate=0.1, l1=0, l2=0):\r\n",
        "    self.w = None\r\n",
        "    self.b = None\r\n",
        "    self.losses = []\r\n",
        "    self.val_losses = []\r\n",
        "    self.w_history = []\r\n",
        "    self.lr = learning_rate\r\n",
        "    self.l1 = l1\r\n",
        "    self.l2 = l2\r\n",
        "\r\n",
        "  def forpass(self, x):\r\n",
        "    z = np.dot(x, self.w) + self.b\r\n",
        "    return z\r\n",
        "\r\n",
        "  def backprop(self, x, err):\r\n",
        "    m = len(x)\r\n",
        "    w_grad = np.dot(x.T, err) / m         # 가중치에 대한 평균 그레이디언트 계산\r\n",
        "    b_grad = np.sum(err) / m              # 절편에   대한 평균 그레이디언트 계산\r\n",
        "    return w_grad, b_grad\r\n",
        "\r\n",
        "  def activation(self, z):\r\n",
        "    a = 1 / (1 + np.exp(-z))              # 시그모이드 계산\r\n",
        "    return a\r\n",
        "  \r\n",
        "  def fit(self, x, y, epochs=100, x_val=None, y_val=None):\r\n",
        "    y = y.reshape(-1, 1)\r\n",
        "    y_val = y_val.reshape(-1, 1)\r\n",
        "    m = len(x)\r\n",
        "    self.w = np.ones((x.shape[1], 1))    # 가중치 초기화\r\n",
        "    self.b = 0                           # 절편 초기화\r\n",
        "    self.w_history.append(self.w.copy()) # 가중치 기록\r\n",
        "\r\n",
        "    for i in range(epochs):\r\n",
        "      z = self.forpass(x)                # 정방향 계산\r\n",
        "      a = self.activation(z)             # 활성화 함수 적용\r\n",
        "      err = -(y - a)                     # 오차 계산\r\n",
        "      w_grad, b_grad = self.backprop(x, err) # 역방향 계산\r\n",
        "      w_grad += (self.l1 * np.sign(self.w) + self.l2 * self.w) / m\r\n",
        "      self.w -= self.lr * w_grad\r\n",
        "      self.b -= self.lr * b_grad\r\n",
        "      self.w_history.append(self.w.copy()) # 가중치 기록\r\n",
        "      a = np.clip(a, 1e-10, 1-1e-10)\r\n",
        "      loss = np.sum(-(y*np.log(a) + (1-y)*np.log(1-a)))\r\n",
        "      self.losses.append((loss + self.reg_loss()) / m)\r\n",
        "      self.update_val_loss(x_val, y_val)\r\n",
        "\r\n",
        "  def predict(self, x):\r\n",
        "    z = self.forpass(x)                 # 정방향 계산\r\n",
        "    return z > 0                        # 계단(스텝) 함수\r\n",
        "\r\n",
        "  def score(self, x, y):\r\n",
        "    return np.mean(self.predict(x) == y.reshape(-1, 1))\r\n",
        "\r\n",
        "  def reg_loss(self):\r\n",
        "    return self.l1 * np.sum(np.abs(self.w)) + self.l2 / 2 * np.sum(self.w**2)\r\n",
        "\r\n",
        "  def update_val_loss(self, x_val, y_val):\r\n",
        "    z = self.forpass(x_val)\r\n",
        "    a = self.activation(z)\r\n",
        "    a = np.clip(a, 1e-10, 1-1e-10)\r\n",
        "    val_loss = np.sum(-(y_val*np.log(a) + (1-y_val)*np.log(1-a)))\r\n",
        "    self.val_losses.append((val_loss + self.reg_loss()) / len(y_val))"
      ],
      "execution_count": 4,
      "outputs": []
    },
    {
      "cell_type": "code",
      "metadata": {
        "id": "BisAjnQ-6aRs"
      },
      "source": [
        "scaler = StandardScaler()\r\n",
        "scaler.fit(x_train)\r\n",
        "x_train_scaled = scaler.transform(x_train)\r\n",
        "x_val_scaled = scaler.transform(x_val)"
      ],
      "execution_count": 5,
      "outputs": []
    },
    {
      "cell_type": "code",
      "metadata": {
        "colab": {
          "base_uri": "https://localhost:8080/"
        },
        "id": "LIm9XaSh7uyI",
        "outputId": "ffc14aaf-2794-4f1a-8a78-c6ecf8b459cc"
      },
      "source": [
        "single_layer = SingleLayer(l2=0.01)\r\n",
        "single_layer.fit(x_train_scaled, y_train, x_val=x_val_scaled, y_val=y_val, epochs=10000)\r\n",
        "single_layer.score(x_val_scaled, y_val)"
      ],
      "execution_count": 6,
      "outputs": [
        {
          "output_type": "execute_result",
          "data": {
            "text/plain": [
              "0.978021978021978"
            ]
          },
          "metadata": {
            "tags": []
          },
          "execution_count": 6
        }
      ]
    },
    {
      "cell_type": "code",
      "metadata": {
        "colab": {
          "base_uri": "https://localhost:8080/",
          "height": 283
        },
        "id": "NFr3FcR58DZZ",
        "outputId": "a0afd155-f59b-42ac-8f3d-fb2899fbcf1b"
      },
      "source": [
        "plt.ylim(0, 0.3)\r\n",
        "plt.plot(single_layer.losses)\r\n",
        "plt.plot(single_layer.val_losses)\r\n",
        "plt.ylabel('loss')\r\n",
        "plt.xlabel('epoch')\r\n",
        "plt.legend(['train_loss', 'val_loss'])\r\n",
        "plt.show()"
      ],
      "execution_count": 7,
      "outputs": [
        {
          "output_type": "display_data",
          "data": {
            "image/png": "[encoded data removed]",
            "text/plain": [
              "<Figure size 432x288 with 1 Axes>"
            ]
          },
          "metadata": {
            "tags": [],
            "needs_background": "light"
          }
        }
      ]
    },
    {
      "cell_type": "code",
      "metadata": {
        "colab": {
          "base_uri": "https://localhost:8080/",
          "height": 279
        },
        "id": "wz-0ROgYLruB",
        "outputId": "4b1cb0e0-2025-4922-b9eb-6857f83aa7fe"
      },
      "source": [
        "w2 = []\r\n",
        "w3 = []\r\n",
        "for w in single_layer.w_history:\r\n",
        "  w2.append(w[2])\r\n",
        "  w3.append(w[3])\r\n",
        "plt.plot(w2, w3)\r\n",
        "plt.plot(w2[-1], w3[-1], 'ro')\r\n",
        "plt.xlabel('w[2]')\r\n",
        "plt.ylabel('w[3]')\r\n",
        "plt.show()"
      ],
      "execution_count": 8,
      "outputs": [
        {
          "output_type": "display_data",
          "data": {
            "image/png": "[encoded data removed]",
            "text/plain": [
              "<Figure size 432x288 with 1 Axes>"
            ]
          },
          "metadata": {
            "tags": [],
            "needs_background": "light"
          }
        }
      ]
    },
    {
      "cell_type": "code",
      "metadata": {
        "id": "jYzxID5JRbkn"
      },
      "source": [
        "class DualLayer(SingleLayer):\r\n",
        "\r\n",
        "  def __init__(self, units=10, learning_rate=0.1, l1=0, l2=0):\r\n",
        "    self.units = units # 뉴런 개수    - 은닉층\r\n",
        "    self.w1 = None     # 가중치       - 은닉층\r\n",
        "    self.b1 = None     # 절편         - 은닉층\r\n",
        "    self.w2 = None     # 가중치       - 출력층\r\n",
        "    self.b2 = None     # 절편         - 출력층\r\n",
        "    self.a1 = None     # 활성화 출력  - 은닉층 \r\n",
        "    self.losses = []\r\n",
        "    self.val_losses = []\r\n",
        "    self.lr = learning_rate\r\n",
        "    self.l1 = l1\r\n",
        "    self.l2 = l2\r\n",
        "\r\n",
        "  def forpass(self, x):\r\n",
        "    z1 = np.dot(x, self.w1) + self.b1         # 첫 번째 층 선형식 계산\r\n",
        "    self.a1 = self.activation(z1)             # 활성화 함수 적용\r\n",
        "    z2 = np.dot(self.a1, self.w2) + self.b2   # 두 번째 층 선형식 계산\r\n",
        "    return z2\r\n",
        "\r\n",
        "  def backprop(self, x, err):\r\n",
        "    m = len(x)\r\n",
        "    \r\n",
        "    # 출력층의 가중치와 절편에 대한 그레이디언트를 계산\r\n",
        "    w2_grad = np.dot(self.a1.T, err) / m\r\n",
        "    b2_grad = np.sum(err) / m\r\n",
        "\r\n",
        "    # 시그모이드 함수까지 그레이디언트 계산\r\n",
        "    err_to_hidden = np.dot(err, self.w2.T) * self.a1 * (1 - self.a1)\r\n",
        "\r\n",
        "    # 은닉층의 가중치와 절편에 대한 그레이디언트를 계산\r\n",
        "    w1_grad = np.dot(x.T, err_to_hidden) / m\r\n",
        "    b1_grad = np.sum(err_to_hidden, axis=0) / m\r\n",
        "    return w1_grad, b1_grad, w2_grad, b2_grad\r\n",
        "\r\n",
        "  # 가중치 초기화\r\n",
        "  def init_weights(self, n_features):\r\n",
        "    self.w1 = np.ones((n_features, self.units)) # (특성 개수, 은닉층의 크기)\r\n",
        "    self.b1 = np.zeros(self.units) \r\n",
        "    self.w2 = np.ones((self.units, 1))\r\n",
        "    self.b2 = 0\r\n",
        "\r\n",
        "  def fit(self, x, y, epochs=100, x_val=None, y_val=None):\r\n",
        "    y = y.reshape(-1, 1)\r\n",
        "    y_val = y_val.reshape(-1, 1)\r\n",
        "    m = len(x)\r\n",
        "    self.init_weights(x.shape[1])\r\n",
        "    for i in range(epochs):\r\n",
        "      a = self.training(x, y, m)\r\n",
        "      a = np.clip(a, 1e-10, 1-1e-10)\r\n",
        "      loss = np.sum(-(y*np.log(a) + (1-y)*np.log(1-a)))\r\n",
        "      self.losses.append((loss + self.reg_loss()) / m)\r\n",
        "      self.update_val_loss(x_val, y_val)\r\n",
        "\r\n",
        "  def training(self, x, y, m):\r\n",
        "    z = self.forpass(x)\r\n",
        "    a = self.activation(z)\r\n",
        "    err = -(y - a)\r\n",
        "    w1_grad, b1_grad, w2_grad, b2_grad = self.backprop(x, err)\r\n",
        "    \r\n",
        "    w1_grad += (self.l1 * np.sign(self.w1) + self.l2 * self.w1) / m\r\n",
        "    w2_grad += (self.l1 * np.sign(self.w2) + self.l2 * self.w2) / m\r\n",
        "\r\n",
        "    self.w1 -= self.lr * w1_grad\r\n",
        "    self.b1 -= self.lr * b1_grad\r\n",
        "    self.w2 -= self.lr * w2_grad\r\n",
        "    self.b2 -= self.lr * b2_grad\r\n",
        "    \r\n",
        "    return a\r\n",
        "\r\n",
        "  def reg_loss(self):\r\n",
        "    return self.l1 * (np.sum(np.abs(self.w1)) + np.sum(np.abs(self.w2))) + \\\r\n",
        "           self.l2 / 2 * (np.sum(self.w1**2) + np.sum(self.w2**2))"
      ],
      "execution_count": 10,
      "outputs": []
    },
    {
      "cell_type": "code",
      "metadata": {
        "colab": {
          "base_uri": "https://localhost:8080/"
        },
        "id": "vQFxBMNGbc2X",
        "outputId": "871587ae-c0d9-42e7-fe96-f6027da96f89"
      },
      "source": [
        "dual_layer = DualLayer(l2=0.01)\r\n",
        "dual_layer.fit(x_train_scaled, y_train, x_val=x_val_scaled, y_val=y_val, epochs=20000)\r\n",
        "dual_layer.score(x_val_scaled, y_val)"
      ],
      "execution_count": 11,
      "outputs": [
        {
          "output_type": "execute_result",
          "data": {
            "text/plain": [
              "0.978021978021978"
            ]
          },
          "metadata": {
            "tags": []
          },
          "execution_count": 11
        }
      ]
    },
    {
      "cell_type": "code",
      "metadata": {
        "colab": {
          "base_uri": "https://localhost:8080/",
          "height": 283
        },
        "id": "AzhHWPWhcZXy",
        "outputId": "acf7b68a-8246-402e-be26-0086bf301dd7"
      },
      "source": [
        "plt.ylim(0, 0.3)\r\n",
        "plt.plot(dual_layer.losses)\r\n",
        "plt.plot(dual_layer.val_losses)\r\n",
        "plt.ylabel('loss')\r\n",
        "plt.xlabel('epoch')\r\n",
        "plt.legend(['train_loss', 'val_loss'])\r\n",
        "plt.show()"
      ],
      "execution_count": 12,
      "outputs": [
        {
          "output_type": "display_data",
          "data": {
            "image/png": "[encoded data removed]",
            "text/plain": [
              "<Figure size 432x288 with 1 Axes>"
            ]
          },
          "metadata": {
            "tags": [],
            "needs_background": "light"
          }
        }
      ]
    },
    {
      "cell_type": "code",
      "metadata": {
        "id": "yPIO7Hc_c3Xt"
      },
      "source": [
        "# 가중치 초기화 개선하기\r\n",
        "\r\n",
        "class RandomInitNetwork(DualLayer):\r\n",
        "\r\n",
        "  def init_weights(self, n_features):\r\n",
        "    np.random.seed(42) # 값 고정 (실전엔 필요 X)\r\n",
        "    self.w1 = np.random.normal(0, 1, (n_features, self.units)) # 랜덤수로 가중치 초기화 (평균, 표준편차, 배열크기)\r\n",
        "    self.b1 = np.zeros(self.units)\r\n",
        "    self.w2 = np.random.normal(0, 1, (self.units, 1))\r\n",
        "    self.b2 = 0"
      ],
      "execution_count": 19,
      "outputs": []
    },
    {
      "cell_type": "code",
      "metadata": {
        "colab": {
          "base_uri": "https://localhost:8080/",
          "height": 279
        },
        "id": "9733euWlgTFw",
        "outputId": "af7d2b60-1550-4fac-f531-2809dac2ca7b"
      },
      "source": [
        "random_init_net = RandomInitNetwork(l2=0.01)\r\n",
        "random_init_net.fit(x_train_scaled, y_train, x_val=x_val_scaled, y_val=y_val, epochs=500)\r\n",
        "\r\n",
        "plt.plot(random_init_net.losses)\r\n",
        "plt.plot(random_init_net.val_losses)\r\n",
        "plt.ylabel('loss')\r\n",
        "plt.xlabel('epoch')\r\n",
        "plt.legend(['train_loss', 'val_loss'])\r\n",
        "plt.show()"
      ],
      "execution_count": 22,
      "outputs": [
        {
          "output_type": "display_data",
          "data": {
            "image/png": "[encoded data removed]",
            "text/plain": [
              "<Figure size 432x288 with 1 Axes>"
            ]
          },
          "metadata": {
            "tags": [],
            "needs_background": "light"
          }
        }
      ]
    }
  ]
}