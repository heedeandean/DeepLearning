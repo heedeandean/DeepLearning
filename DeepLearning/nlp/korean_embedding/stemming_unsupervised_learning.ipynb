{
  "nbformat": 4,
  "nbformat_minor": 0,
  "metadata": {
    "colab": {
      "name": "stemming_unsupervised_learning.ipynb",
      "provenance": [],
      "collapsed_sections": [],
      "authorship_tag": "ABX9TyO12PGW0hfbt3tEjiIpu5D7"
    },
    "kernelspec": {
      "name": "python3",
      "display_name": "Python 3"
    },
    "language_info": {
      "name": "python"
    }
  },
  "cells": [
    {
      "cell_type": "markdown",
      "source": [
        "# 비지도 학습(unsupervised learning) 기반 형태소 분석\n",
        "\n",
        "\n",
        "> 데이터의 패턴을 모델 스스로 학습 \n",
        "\n",
        "> 자주 등장하는 단어들을 형태소로 인식\n",
        "\n",
        "\n",
        "\n"
      ],
      "metadata": {
        "id": "po_nkicm5aR1"
      }
    },
    {
      "cell_type": "markdown",
      "source": [
        "### ✾ soynlp : 데이터 통계량 기반 단어 점수표로 형태소 분석\n",
        "> ✎ 단어 점수 : 지도 학습과 달리 별도의 학습 과정을 거쳐서 만들어야 함.\n",
        "1. 응집 확률(Cohesion Probability) : 함께 자주 나타나는 경우\n",
        "2. Branching Entropy : 단어 앞뒤로 다양한 조사 or 어미 or 다른 단어가 등장하는 경우. 즉, 앞뒤로 패턴이 다양한 경우\n",
        "\n",
        "> -> 응집 확률, Branching Entropy 둘 다 높을 때 형태소로 취급.\n",
        "\n",
        "\n",
        "\n",
        "\n"
      ],
      "metadata": {
        "id": "oalyyr9QGWF0"
      }
    },
    {
      "cell_type": "code",
      "source": [
        "!pip install soynlp"
      ],
      "metadata": {
        "colab": {
          "base_uri": "https://localhost:8080/"
        },
        "id": "Tizxbr2t5y--",
        "outputId": "1d1a9210-57bf-45e3-9e69-ac0b90de2e34"
      },
      "execution_count": 7,
      "outputs": [
        {
          "output_type": "stream",
          "name": "stdout",
          "text": [
            "Looking in indexes: https://pypi.org/simple, https://us-python.pkg.dev/colab-wheels/public/simple/\n",
            "Collecting soynlp\n",
            "  Downloading soynlp-0.0.493-py3-none-any.whl (416 kB)\n",
            "\u001b[K     |████████████████████████████████| 416 kB 4.2 MB/s \n",
            "\u001b[?25hRequirement already satisfied: scikit-learn>=0.20.0 in /usr/local/lib/python3.7/dist-packages (from soynlp) (1.0.2)\n",
            "Requirement already satisfied: psutil>=5.0.1 in /usr/local/lib/python3.7/dist-packages (from soynlp) (5.4.8)\n",
            "Requirement already satisfied: scipy>=1.1.0 in /usr/local/lib/python3.7/dist-packages (from soynlp) (1.7.3)\n",
            "Requirement already satisfied: numpy>=1.12.1 in /usr/local/lib/python3.7/dist-packages (from soynlp) (1.21.6)\n",
            "Requirement already satisfied: threadpoolctl>=2.0.0 in /usr/local/lib/python3.7/dist-packages (from scikit-learn>=0.20.0->soynlp) (3.1.0)\n",
            "Requirement already satisfied: joblib>=0.11 in /usr/local/lib/python3.7/dist-packages (from scikit-learn>=0.20.0->soynlp) (1.1.0)\n",
            "Installing collected packages: soynlp\n",
            "Successfully installed soynlp-0.0.493\n"
          ]
        }
      ]
    },
    {
      "cell_type": "code",
      "source": [
        "from soynlp.word import WordExtractor\n",
        "\n",
        "corpus_fname = './processed_ratings.txt' # 네이버 영화 리뷰\n",
        "model_fname = './soyword.model' # 단어 점수표\n",
        "\n",
        "sentences = [sent.strip() for sent in open(corpus_fname, 'r').readlines()]\n",
        "word_extractor = WordExtractor(min_frequency=100,\n",
        "                               min_cohesion_forward=0.05,\n",
        "                               min_right_branching_entropy=0.0)\n",
        "word_extractor.train(sentences)                     \n",
        "word_extractor.save(model_fname)"
      ],
      "metadata": {
        "colab": {
          "base_uri": "https://localhost:8080/"
        },
        "id": "7HnoLz8G8DIB",
        "outputId": "ae7bcffe-f5f1-4378-d59f-220bd36aaec4"
      },
      "execution_count": 8,
      "outputs": [
        {
          "output_type": "stream",
          "name": "stdout",
          "text": [
            "training was done. used memory 1.042 Gb\n"
          ]
        }
      ]
    },
    {
      "cell_type": "code",
      "source": [
        "import math\n",
        "from soynlp.tokenizer import LTokenizer\n",
        "\n",
        "model_fname = './soyword.model'\n",
        "word_extractor.load(model_fname)\n",
        "\n",
        "scores = word_extractor.word_scores()\n",
        "scores = {key:(scores[key].cohesion_forward * math.exp(scores[key].right_branching_entropy)) for key in scores.keys()}\n",
        "tokenizer = LTokenizer(scores=scores)\n",
        "tokens = tokenizer.tokenize('애비는 종이었다')\n",
        "print(tokens)"
      ],
      "metadata": {
        "colab": {
          "base_uri": "https://localhost:8080/"
        },
        "id": "f22WOOcnAkfD",
        "outputId": "8b935250-7c56-4e08-d876-d256c4661063"
      },
      "execution_count": 10,
      "outputs": [
        {
          "output_type": "stream",
          "name": "stdout",
          "text": [
            "all cohesion probabilities was computed. # words = 6130\n",
            "all branching entropies was computed # words = 123575\n",
            "all accessor variety was computed # words = 123575\n",
            "['애비는', '종이었다']\n"
          ]
        }
      ]
    },
    {
      "cell_type": "code",
      "source": [
        "# 띄어쓰기 교정 모듈 설치\n",
        "!pip install soyspacing"
      ],
      "metadata": {
        "colab": {
          "base_uri": "https://localhost:8080/"
        },
        "id": "b5r9RdoEBQ8c",
        "outputId": "79a0d3f0-0fda-4955-e490-6df1a3519d13"
      },
      "execution_count": 12,
      "outputs": [
        {
          "output_type": "stream",
          "name": "stdout",
          "text": [
            "Looking in indexes: https://pypi.org/simple, https://us-python.pkg.dev/colab-wheels/public/simple/\n",
            "Collecting soyspacing\n",
            "  Downloading soyspacing-1.0.17-py3-none-any.whl (10 kB)\n",
            "Requirement already satisfied: numpy>=1.12.0 in /usr/local/lib/python3.7/dist-packages (from soyspacing) (1.21.6)\n",
            "Installing collected packages: soyspacing\n",
            "Successfully installed soyspacing-1.0.17\n"
          ]
        }
      ]
    },
    {
      "cell_type": "code",
      "source": [
        "# 말뭉치에서 띄어쓰기 패턴을 학습\n",
        "from soyspacing.countbase import CountSpace\n",
        "\n",
        "model_fname = './space-correct.model'\n",
        "model = CountSpace()\n",
        "model.train(corpus_fname)\n",
        "model.save_model(model_fname, json_format=False)"
      ],
      "metadata": {
        "colab": {
          "base_uri": "https://localhost:8080/"
        },
        "id": "qz5ZdBu59qfA",
        "outputId": "4d61987b-fe3c-4114-8cf3-44f6e3cb8283"
      },
      "execution_count": 14,
      "outputs": [
        {
          "output_type": "stream",
          "name": "stdout",
          "text": [
            "all tags length = 1166880 --> 165338, (num_doc = 199991)"
          ]
        }
      ]
    },
    {
      "cell_type": "code",
      "source": [
        "# 띄어쓰기 교정\n",
        "model.load_model(model_fname, json_format=False)\n",
        "model.correct('어릴때보고 지금다시봐도 재밌어요')"
      ],
      "metadata": {
        "colab": {
          "base_uri": "https://localhost:8080/"
        },
        "id": "48h8Vdy5CdoI",
        "outputId": "53887d93-55e5-4f7a-a5f0-72019b0b7f68"
      },
      "execution_count": 15,
      "outputs": [
        {
          "output_type": "execute_result",
          "data": {
            "text/plain": [
              "('어릴때 보고 지금 다시봐도 재밌어요', [0, 0, 1, 0, 1, 0, 1, 0, None, 0, 1, 0, 0, 0, 1])"
            ]
          },
          "metadata": {},
          "execution_count": 15
        }
      ]
    },
    {
      "cell_type": "markdown",
      "source": [
        "### ✾ sentencepiece : BPE 활용/구글\n",
        "> ✎ BPE(Byte Pair Encoding) : 반복적으로 고빈도 문자열들을 병합해 어휘 집합에 추가. \n",
        "- 어휘 집합(vocabulary)에 있으면 subword, 없으면 미등록 단어(unknown word)로 취급.\n"
      ],
      "metadata": {
        "id": "RoStA8GiJ6FW"
      }
    },
    {
      "cell_type": "code",
      "source": [
        "!pip install sentencepiece"
      ],
      "metadata": {
        "id": "LUZIi3eR847M"
      },
      "execution_count": null,
      "outputs": []
    }
  ]
}