{
  "nbformat": 4,
  "nbformat_minor": 0,
  "metadata": {
    "colab": {
      "name": "recurrent_network.ipynb",
      "provenance": [],
      "collapsed_sections": [],
      "authorship_tag": "ABX9TyPrSnzXAm4E3XdZBg3OyvCx"
    },
    "kernelspec": {
      "name": "python3",
      "display_name": "Python 3"
    }
  },
  "cells": [
    {
      "cell_type": "code",
      "metadata": {
        "id": "rNgv981XYKN3"
      },
      "source": [
        "import numpy as np\r\n",
        "import tensorflow as tf\r\n",
        "import matplotlib.pyplot as plt\r\n",
        "from tensorflow.keras.datasets import imdb # 텍스트 데이터\r\n",
        "from tensorflow.keras.preprocessing import sequence \r\n",
        "from tensorflow.keras.utils import to_categorical"
      ],
      "execution_count": 23,
      "outputs": []
    },
    {
      "cell_type": "code",
      "metadata": {
        "colab": {
          "base_uri": "https://localhost:8080/"
        },
        "id": "aDB21qZIYldY",
        "outputId": "cc6554ee-e156-447d-8fbb-6155d30ed7e0"
      },
      "source": [
        "(x_train_all, y_train_all), (x_test, y_test) = imdb.load_data(skip_top=20, num_words=100)"
      ],
      "execution_count": 2,
      "outputs": [
        {
          "output_type": "stream",
          "text": [
            "Downloading data from https://storage.googleapis.com/tensorflow/tf-keras-datasets/imdb.npz\n",
            "17465344/17464789 [==============================] - 1s 0us/step\n"
          ],
          "name": "stdout"
        },
        {
          "output_type": "stream",
          "text": [
            "<string>:6: VisibleDeprecationWarning: Creating an ndarray from ragged nested sequences (which is a list-or-tuple of lists-or-tuples-or ndarrays with different lengths or shapes) is deprecated. If you meant to do this, you must specify 'dtype=object' when creating the ndarray\n",
            "/usr/local/lib/python3.6/dist-packages/tensorflow/python/keras/datasets/imdb.py:159: VisibleDeprecationWarning: Creating an ndarray from ragged nested sequences (which is a list-or-tuple of lists-or-tuples-or ndarrays with different lengths or shapes) is deprecated. If you meant to do this, you must specify 'dtype=object' when creating the ndarray\n",
            "  x_train, y_train = np.array(xs[:idx]), np.array(labels[:idx])\n",
            "/usr/local/lib/python3.6/dist-packages/tensorflow/python/keras/datasets/imdb.py:160: VisibleDeprecationWarning: Creating an ndarray from ragged nested sequences (which is a list-or-tuple of lists-or-tuples-or ndarrays with different lengths or shapes) is deprecated. If you meant to do this, you must specify 'dtype=object' when creating the ndarray\n",
            "  x_test, y_test = np.array(xs[idx:]), np.array(labels[idx:])\n"
          ],
          "name": "stderr"
        }
      ]
    },
    {
      "cell_type": "code",
      "metadata": {
        "colab": {
          "base_uri": "https://localhost:8080/"
        },
        "id": "FL8zKNMHY5xx",
        "outputId": "0766c616-444d-41f5-b6eb-98dae127d303"
      },
      "source": [
        "print(x_train_all.shape, y_train_all.shape)"
      ],
      "execution_count": 3,
      "outputs": [
        {
          "output_type": "stream",
          "text": [
            "(25000,) (25000,)\n"
          ],
          "name": "stdout"
        }
      ]
    },
    {
      "cell_type": "code",
      "metadata": {
        "colab": {
          "base_uri": "https://localhost:8080/"
        },
        "id": "2oJl1QO9ZK6o",
        "outputId": "0f4f45d9-eabe-4ff3-9bfd-6692101597b8"
      },
      "source": [
        "print(x_train_all[0])"
      ],
      "execution_count": 4,
      "outputs": [
        {
          "output_type": "stream",
          "text": [
            "[2, 2, 22, 2, 43, 2, 2, 2, 2, 65, 2, 2, 66, 2, 2, 2, 36, 2, 2, 25, 2, 43, 2, 2, 50, 2, 2, 2, 35, 2, 2, 2, 2, 2, 2, 2, 2, 2, 2, 2, 39, 2, 2, 2, 2, 2, 2, 38, 2, 2, 2, 2, 50, 2, 2, 2, 2, 2, 2, 22, 2, 2, 2, 2, 2, 22, 71, 87, 2, 2, 43, 2, 38, 76, 2, 2, 2, 2, 22, 2, 2, 2, 2, 2, 2, 2, 2, 2, 62, 2, 2, 2, 2, 2, 2, 2, 2, 2, 2, 2, 2, 66, 2, 33, 2, 2, 2, 2, 38, 2, 2, 25, 2, 51, 36, 2, 48, 25, 2, 33, 2, 22, 2, 2, 28, 77, 52, 2, 2, 2, 2, 82, 2, 2, 2, 2, 2, 2, 2, 2, 2, 2, 2, 2, 2, 2, 36, 71, 43, 2, 2, 26, 2, 2, 46, 2, 2, 2, 2, 2, 2, 88, 2, 2, 2, 2, 98, 32, 2, 56, 26, 2, 2, 2, 2, 2, 2, 2, 22, 21, 2, 2, 26, 2, 2, 2, 30, 2, 2, 51, 36, 28, 2, 92, 25, 2, 2, 2, 65, 2, 38, 2, 88, 2, 2, 2, 2, 2, 2, 2, 2, 32, 2, 2, 2, 2, 2, 32]\n"
          ],
          "name": "stdout"
        }
      ]
    },
    {
      "cell_type": "code",
      "metadata": {
        "colab": {
          "base_uri": "https://localhost:8080/"
        },
        "id": "vdQlWVu_ZnEp",
        "outputId": "637bac86-9f39-47bb-b1dc-579a4bc13e5f"
      },
      "source": [
        "for i in range(len(x_train_all)):\r\n",
        "  x_train_all[i] = [w for w in x_train_all[i] if w > 2]\r\n",
        "\r\n",
        "print(x_train_all[0])"
      ],
      "execution_count": 5,
      "outputs": [
        {
          "output_type": "stream",
          "text": [
            "[22, 43, 65, 66, 36, 25, 43, 50, 35, 39, 38, 50, 22, 22, 71, 87, 43, 38, 76, 22, 62, 66, 33, 38, 25, 51, 36, 48, 25, 33, 22, 28, 77, 52, 82, 36, 71, 43, 26, 46, 88, 98, 32, 56, 26, 22, 21, 26, 30, 51, 36, 28, 92, 25, 65, 38, 88, 32, 32]\n"
          ],
          "name": "stdout"
        }
      ]
    },
    {
      "cell_type": "code",
      "metadata": {
        "id": "8_Wg7i3NaVV4",
        "colab": {
          "base_uri": "https://localhost:8080/"
        },
        "outputId": "ee23a695-7200-43b0-c62c-27b86aa9af2a"
      },
      "source": [
        "word_to_index = imdb.get_word_index() # 어휘 사전 내려받기"
      ],
      "execution_count": 6,
      "outputs": [
        {
          "output_type": "stream",
          "text": [
            "Downloading data from https://storage.googleapis.com/tensorflow/tf-keras-datasets/imdb_word_index.json\n",
            "1646592/1641221 [==============================] - 0s 0us/step\n"
          ],
          "name": "stdout"
        }
      ]
    },
    {
      "cell_type": "code",
      "metadata": {
        "colab": {
          "base_uri": "https://localhost:8080/"
        },
        "id": "LiUTuPsIbAtQ",
        "outputId": "ce2a13aa-174c-49e1-eb06-8f24663d4cbe"
      },
      "source": [
        "word_to_index['film']"
      ],
      "execution_count": 7,
      "outputs": [
        {
          "output_type": "execute_result",
          "data": {
            "text/plain": [
              "19"
            ]
          },
          "metadata": {
            "tags": []
          },
          "execution_count": 7
        }
      ]
    },
    {
      "cell_type": "code",
      "metadata": {
        "colab": {
          "base_uri": "https://localhost:8080/"
        },
        "id": "NXoOKQ71bIA4",
        "outputId": "2bb86b71-f89d-4d2c-de57-d825a23d0899"
      },
      "source": [
        "index_to_word = {word_to_index[k]: k for k in word_to_index}\r\n",
        "\r\n",
        "for w in x_train_all[0]:\r\n",
        "  print(index_to_word[w - 3], end=' ')"
      ],
      "execution_count": 8,
      "outputs": [
        {
          "output_type": "stream",
          "text": [
            "film just story really they you just there an from so there film film were great just so much film would really at so you what they if you at film have been good also they were just are out because them all up are film but are be what they have don't you story so because all all "
          ],
          "name": "stdout"
        }
      ]
    },
    {
      "cell_type": "code",
      "metadata": {
        "colab": {
          "base_uri": "https://localhost:8080/"
        },
        "id": "OmrTdQ8BdZxf",
        "outputId": "32ff64f9-4ca7-4a15-929e-9557119fad92"
      },
      "source": [
        "print(len(x_train_all[0]), len(x_train_all[1]))"
      ],
      "execution_count": 9,
      "outputs": [
        {
          "output_type": "stream",
          "text": [
            "59 32\n"
          ],
          "name": "stdout"
        }
      ]
    },
    {
      "cell_type": "code",
      "metadata": {
        "colab": {
          "base_uri": "https://localhost:8080/"
        },
        "id": "qR6l3CkRfFx3",
        "outputId": "5a299c2a-e7a0-4869-f97f-691bd1e26d2f"
      },
      "source": [
        "print(y_train_all[:10])"
      ],
      "execution_count": 10,
      "outputs": [
        {
          "output_type": "stream",
          "text": [
            "[1 0 0 1 0 0 1 0 1 0]\n"
          ],
          "name": "stdout"
        }
      ]
    },
    {
      "cell_type": "code",
      "metadata": {
        "colab": {
          "base_uri": "https://localhost:8080/"
        },
        "id": "uTMYGIM2fWtI",
        "outputId": "fa6eed62-150e-43a5-ca92-755d5a914fb2"
      },
      "source": [
        "np.random.seed(42)\r\n",
        "random_index = np.random.permutation(25000) # 인덱스 섞기\r\n",
        "\r\n",
        "x_train = x_train_all[random_index[:20000]]\r\n",
        "y_train = y_train_all[random_index[:20000]]\r\n",
        "x_val = x_train_all[random_index[20000:]]\r\n",
        "y_val = y_train_all[random_index[20000:]]\r\n",
        "\r\n",
        "# 샘플 길이 맞추기\r\n",
        "maxlen=100\r\n",
        "x_train_seq = sequence.pad_sequences(x_train, maxlen=maxlen)\r\n",
        "x_val_seq = sequence.pad_sequences(x_val, maxlen=maxlen)\r\n",
        "\r\n",
        "print(x_train_seq.shape, x_val_seq.shape)"
      ],
      "execution_count": 11,
      "outputs": [
        {
          "output_type": "stream",
          "text": [
            "(20000, 100) (5000, 100)\n"
          ],
          "name": "stdout"
        }
      ]
    },
    {
      "cell_type": "code",
      "metadata": {
        "colab": {
          "base_uri": "https://localhost:8080/"
        },
        "id": "MQifjIthhmGH",
        "outputId": "c3a4241e-9178-4260-a8bc-339956cdecde"
      },
      "source": [
        "print(x_train_seq[0])"
      ],
      "execution_count": 12,
      "outputs": [
        {
          "output_type": "stream",
          "text": [
            "[ 0  0  0  0  0  0  0  0  0  0  0  0  0  0  0  0  0  0  0  0  0  0  0  0\n",
            "  0  0  0  0  0  0  0  0  0  0  0  0  0  0  0  0  0  0  0  0  0  0  0  0\n",
            "  0  0  0  0  0  0  0  0  0  0  0  0  0  0 35 40 27 28 40 22 83 31 85 45\n",
            " 24 23 31 70 31 76 30 98 32 22 28 51 75 56 30 33 97 53 38 46 53 74 31 35\n",
            " 23 34 22 58]\n"
          ],
          "name": "stdout"
        }
      ]
    },
    {
      "cell_type": "code",
      "metadata": {
        "colab": {
          "base_uri": "https://localhost:8080/"
        },
        "id": "ZpWj_KnUiPA_",
        "outputId": "13ec07f1-bb5c-4429-e467-72eb9c559465"
      },
      "source": [
        "# 원-핫 인코딩\r\n",
        "x_train_onehot = to_categorical(x_train_seq)\r\n",
        "x_val_onehot = to_categorical(x_val_seq)\r\n",
        "\r\n",
        "print(x_train_onehot.shape)"
      ],
      "execution_count": 13,
      "outputs": [
        {
          "output_type": "stream",
          "text": [
            "(20000, 100, 100)\n"
          ],
          "name": "stdout"
        }
      ]
    },
    {
      "cell_type": "code",
      "metadata": {
        "colab": {
          "base_uri": "https://localhost:8080/"
        },
        "id": "tTwozeYMiGBI",
        "outputId": "20bef249-7009-4f84-fe8c-77083475388e"
      },
      "source": [
        "print(x_train_onehot.nbytes)"
      ],
      "execution_count": 14,
      "outputs": [
        {
          "output_type": "stream",
          "text": [
            "800000000\n"
          ],
          "name": "stdout"
        }
      ]
    },
    {
      "cell_type": "code",
      "metadata": {
        "id": "wlRz-FkmGtOA"
      },
      "source": [
        "# 순환 신경망\r\n",
        "\r\n",
        "class  RecurrentNetwork:\r\n",
        "\r\n",
        "  def __init__(self, n_cells=10, batch_size=32, learning_rate=0.1):\r\n",
        "    self.n_cells = n_cells # 셀 개수\r\n",
        "    self.batch_size = batch_size\r\n",
        "    self.w1h = None # 은닉 상태의 가중치\r\n",
        "    self.w1x = None # 입력의 가중치\r\n",
        "    self.b1 = None  # 절편        - 순환층\r\n",
        "    self.w2 = None  # 가중치      - 출력층\r\n",
        "    self.b2 = None  # 절편        - 출력층 \r\n",
        "    self.h = None   # 활성화 출력 - 순환층\r\n",
        "    self.losses = []\r\n",
        "    self.val_losses = []\r\n",
        "    self.lr = learning_rate\r\n",
        "\r\n",
        "  # 정방향 계산\r\n",
        "  def forpass(self, x):\r\n",
        "    self.h = [np.zeros((x.shape[0], self.n_cells))] # 은닉 상태 초기화\r\n",
        "    seq = np.swapaxes(x, 0, 1)\r\n",
        "\r\n",
        "    # 순환층 선형식 계산\r\n",
        "    for x in seq:\r\n",
        "      z1 = np.dot(x, self.w1x) + np.dot(self.h[-1], self.w1h) + self.b1\r\n",
        "      h = np.tanh(z1) # 활성화 함수 적용\r\n",
        "      self.h.append(h) # 은닉 상태 저장 - 역전파에서 사용\r\n",
        "      z2 = np.dot(h, self.w2) + self.b2 # 출력층 선형식 계산\r\n",
        "    return z2\r\n",
        "\r\n",
        "  # 역방향 계산 \r\n",
        "  def backprop(self, x, err):\r\n",
        "    m = len(x)\r\n",
        "\r\n",
        "    w2_grad = np.dot(self.h[-1].T, err) / m\r\n",
        "    b2_grad = np.sum(err) / m\r\n",
        "    seq = np.swapaxes(x, 0, 1)\r\n",
        "\r\n",
        "    w1h_grad = w1x_grad = b1_grad = 0\r\n",
        "    err_to_cell = np.dot(err, self.w2.T) * (1 - self.h[-1] ** 2) \r\n",
        "    for x, h in zip(seq[::-1][:10], self.h[:-1][::-1][:10]):\r\n",
        "      w1h_grad += np.dot(h.T, err_to_cell)\r\n",
        "      w1x_grad += np.dot(x.T, err_to_cell)\r\n",
        "      b1_grad += np.sum(err_to_cell, axis=0)\r\n",
        "      err_to_cell = np.dot(err_to_cell, self.w1h) * (1 - h ** 2)\r\n",
        "\r\n",
        "    w1h_grad /= m\r\n",
        "    w1x_grad /= m\r\n",
        "    b1_grad /= m\r\n",
        "\r\n",
        "    return w1h_grad, w1x_grad, b1_grad, w2_grad, b2_grad\r\n",
        "\r\n",
        "  def sigmoid(self, z):\r\n",
        "    a = 1 / (1 + np.exp(-z))\r\n",
        "    return a\r\n",
        "\r\n",
        "  # 가중치 초기화\r\n",
        "  def init_weights(self, n_features, n_classes):\r\n",
        "    orth_init = tf.initializers.Orthogonal() # 직교 행렬 초기화\r\n",
        "    glorot_init = tf.initializers.GlorotUniform() # 글로럿 초기화 \r\n",
        "\r\n",
        "    self.w1h = orth_init((self.n_cells, self.n_cells)).numpy()\r\n",
        "    self.w1x = glorot_init((n_features, self.n_cells)).numpy()\r\n",
        "    self.b1 = np.zeros(self.n_cells)\r\n",
        "    self.w2 = glorot_init((self.n_cells, n_classes)).numpy()\r\n",
        "    self.b2 = np.zeros(n_classes)\r\n",
        "\r\n",
        "  def fit(self, x, y, epochs=100, x_val=None, y_val=None):\r\n",
        "    y = y.reshape(-1, 1)\r\n",
        "    y_val = y_val.reshape(-1, 1)\r\n",
        "    np.random.seed(42)\r\n",
        "    self.init_weights(x.shape[2], y.shape[1])\r\n",
        "    for i in range(epochs):\r\n",
        "      print('에포크', i, end=' ')\r\n",
        "      batch_losses = []\r\n",
        "      for x_batch, y_batch in self.gen_batch(x, y):\r\n",
        "        print('.', end='')\r\n",
        "        a = self.training(x_batch, y_batch)\r\n",
        "        a = np.clip(a, 1e-10, 1-1e-10)\r\n",
        "        loss = np.mean(-(y_batch*np.log(a) + (1-y_batch)*np.log(1-a)))\r\n",
        "        batch_losses.append(loss)\r\n",
        "      print()\r\n",
        "      self.losses.append(np.mean(batch_losses))\r\n",
        "      self.update_val_loss(x_val, y_val)\r\n",
        "  \r\n",
        "  # 미니 배치 제너레이터 함수\r\n",
        "  def gen_batch(self, x, y):\r\n",
        "    length = len(x)\r\n",
        "    bins = length // self.batch_size # 미니 배치 횟수\r\n",
        "    if length % self.batch_size:\r\n",
        "      bins += 1\r\n",
        "    indexes = np.random.permutation(np.arange(len(x))) # 인덱스 섞기\r\n",
        "    x = x[indexes]\r\n",
        "    y = y[indexes]\r\n",
        "    for i in range(bins):\r\n",
        "      start = self.batch_size * i\r\n",
        "      end = self.batch_size * (i + 1)\r\n",
        "      yield x[start:end], y[start:end]\r\n",
        "      \r\n",
        "  def training(self, x, y):\r\n",
        "    m = len(x)\r\n",
        "    z = self.forpass(x)\r\n",
        "    a = self.sigmoid(z)\r\n",
        "    err = -(y - a)\r\n",
        "    w1h_grad, w1x_grad, b1_grad, w2_grad, b2_grad = self.backprop(x, err)\r\n",
        "    self.w1h -= self.lr * w1h_grad\r\n",
        "    self.b1 -= self.lr * b1_grad\r\n",
        "    return a\r\n",
        "\r\n",
        "  def predict(self, x):\r\n",
        "    z = self.forpass(x)\r\n",
        "    return z > 0 # 스텝 함수 적용\r\n",
        "\r\n",
        "  def score(self, x, y):\r\n",
        "    return np.mean(self.predict(x) == y.reshape(-1, 1))\r\n",
        "\r\n",
        "  def update_val_loss(self, x_val, y_val):\r\n",
        "    z = self.forpass(x_val)\r\n",
        "    a = self.sigmoid(z)\r\n",
        "    a = np.clip(a, 1e-10, 1-1e-10)\r\n",
        "    val_loss = np.mean(-(y_val*np.log(a) + (1-y_val)*np.log(1-a)))\r\n",
        "    self.val_losses.append(val_loss)"
      ],
      "execution_count": 21,
      "outputs": []
    },
    {
      "cell_type": "code",
      "metadata": {
        "colab": {
          "base_uri": "https://localhost:8080/"
        },
        "id": "4uYLstYzL8Eh",
        "outputId": "2dc4bf9c-40df-4600-b6f7-420b40a44f83"
      },
      "source": [
        "# 모델 훈련\r\n",
        "rn = RecurrentNetwork(n_cells=32, batch_size=32, learning_rate=0.01)\r\n",
        "rn.fit(x_train_onehot, y_train, epochs=20, x_val=x_val_onehot, y_val=y_val)"
      ],
      "execution_count": 27,
      "outputs": [
        {
          "output_type": "stream",
          "text": [
            "에포크 0 .................................................................................................................................................................................................................................................................................................................................................................................................................................................................................................................................................................................................................................................\n",
            "에포크 1 .................................................................................................................................................................................................................................................................................................................................................................................................................................................................................................................................................................................................................................................\n",
            "에포크 2 .................................................................................................................................................................................................................................................................................................................................................................................................................................................................................................................................................................................................................................................\n",
            "에포크 3 .................................................................................................................................................................................................................................................................................................................................................................................................................................................................................................................................................................................................................................................\n",
            "에포크 4 .................................................................................................................................................................................................................................................................................................................................................................................................................................................................................................................................................................................................................................................\n",
            "에포크 5 .................................................................................................................................................................................................................................................................................................................................................................................................................................................................................................................................................................................................................................................\n",
            "에포크 6 .................................................................................................................................................................................................................................................................................................................................................................................................................................................................................................................................................................................................................................................\n",
            "에포크 7 .................................................................................................................................................................................................................................................................................................................................................................................................................................................................................................................................................................................................................................................\n",
            "에포크 8 .................................................................................................................................................................................................................................................................................................................................................................................................................................................................................................................................................................................................................................................\n",
            "에포크 9 .................................................................................................................................................................................................................................................................................................................................................................................................................................................................................................................................................................................................................................................\n",
            "에포크 10 .................................................................................................................................................................................................................................................................................................................................................................................................................................................................................................................................................................................................................................................\n",
            "에포크 11 .................................................................................................................................................................................................................................................................................................................................................................................................................................................................................................................................................................................................................................................\n",
            "에포크 12 .................................................................................................................................................................................................................................................................................................................................................................................................................................................................................................................................................................................................................................................\n",
            "에포크 13 .................................................................................................................................................................................................................................................................................................................................................................................................................................................................................................................................................................................................................................................\n",
            "에포크 14 .................................................................................................................................................................................................................................................................................................................................................................................................................................................................................................................................................................................................................................................\n",
            "에포크 15 .................................................................................................................................................................................................................................................................................................................................................................................................................................................................................................................................................................................................................................................\n",
            "에포크 16 .................................................................................................................................................................................................................................................................................................................................................................................................................................................................................................................................................................................................................................................\n",
            "에포크 17 .................................................................................................................................................................................................................................................................................................................................................................................................................................................................................................................................................................................................................................................\n",
            "에포크 18 .................................................................................................................................................................................................................................................................................................................................................................................................................................................................................................................................................................................................................................................\n",
            "에포크 19 .................................................................................................................................................................................................................................................................................................................................................................................................................................................................................................................................................................................................................................................\n"
          ],
          "name": "stdout"
        }
      ]
    },
    {
      "cell_type": "code",
      "metadata": {
        "colab": {
          "base_uri": "https://localhost:8080/",
          "height": 265
        },
        "id": "V-mrDLOxeWf3",
        "outputId": "b60b9e9a-e794-4b06-d6e4-28e2cfab50e2"
      },
      "source": [
        "plt.plot(rn.losses)\r\n",
        "plt.plot(rn.val_losses)\r\n",
        "plt.show()"
      ],
      "execution_count": 28,
      "outputs": [
        {
          "output_type": "display_data",
          "data": {
            "image/png": "[encoded data removed]",
            "text/plain": [
              "<Figure size 432x288 with 1 Axes>"
            ]
          },
          "metadata": {
            "tags": [],
            "needs_background": "light"
          }
        }
      ]
    },
    {
      "cell_type": "code",
      "metadata": {
        "colab": {
          "base_uri": "https://localhost:8080/"
        },
        "id": "ghEhyVppgFMb",
        "outputId": "7d17fe7e-63e7-401f-8505-5f04f375d163"
      },
      "source": [
        "rn.score(x_val_onehot, y_val)"
      ],
      "execution_count": 30,
      "outputs": [
        {
          "output_type": "execute_result",
          "data": {
            "text/plain": [
              "0.5736"
            ]
          },
          "metadata": {
            "tags": []
          },
          "execution_count": 30
        }
      ]
    },
    {
      "cell_type": "code",
      "metadata": {
        "id": "XmgpRdIi7SmP"
      },
      "source": [
        "# 텐서플로로 순환 신경망 구현\r\n",
        "\r\n",
        "from tensorflow.keras.models import Sequential\r\n",
        "from tensorflow.keras.layers import Embedding, SimpleRNN, LSTM, Dense"
      ],
      "execution_count": 47,
      "outputs": []
    },
    {
      "cell_type": "code",
      "metadata": {
        "colab": {
          "base_uri": "https://localhost:8080/"
        },
        "id": "j6LoFgHEgPCn",
        "outputId": "51f6771f-5c34-4337-a8e5-44ec2e8eca30"
      },
      "source": [
        "# 훈련 데이터\r\n",
        "(x_train_all, y_train_all), (x_test, y_test) = imdb.load_data(skip_top=20, num_words=1000)\r\n",
        "\r\n",
        "for i in range(len(x_train_all)):\r\n",
        "  x_train_all[i] = [w for w in x_train_all[i] if w > 2]\r\n",
        "\r\n",
        "x_train = x_train_all[random_index[:20000]]\r\n",
        "y_train = y_train_all[random_index[:20000]]\r\n",
        "x_val = x_train_all[random_index[20000:]]\r\n",
        "y_val = y_train_all[random_index[20000:]]\r\n",
        "\r\n",
        "# 샘플 길이 맞추기\r\n",
        "maxlen=100\r\n",
        "x_train_seq = sequence.pad_sequences(x_train, maxlen=maxlen)\r\n",
        "x_val_seq = sequence.pad_sequences(x_val, maxlen=maxlen)"
      ],
      "execution_count": 48,
      "outputs": [
        {
          "output_type": "stream",
          "text": [
            "<string>:6: VisibleDeprecationWarning: Creating an ndarray from ragged nested sequences (which is a list-or-tuple of lists-or-tuples-or ndarrays with different lengths or shapes) is deprecated. If you meant to do this, you must specify 'dtype=object' when creating the ndarray\n",
            "/usr/local/lib/python3.6/dist-packages/tensorflow/python/keras/datasets/imdb.py:159: VisibleDeprecationWarning: Creating an ndarray from ragged nested sequences (which is a list-or-tuple of lists-or-tuples-or ndarrays with different lengths or shapes) is deprecated. If you meant to do this, you must specify 'dtype=object' when creating the ndarray\n",
            "  x_train, y_train = np.array(xs[:idx]), np.array(labels[:idx])\n",
            "/usr/local/lib/python3.6/dist-packages/tensorflow/python/keras/datasets/imdb.py:160: VisibleDeprecationWarning: Creating an ndarray from ragged nested sequences (which is a list-or-tuple of lists-or-tuples-or ndarrays with different lengths or shapes) is deprecated. If you meant to do this, you must specify 'dtype=object' when creating the ndarray\n",
            "  x_test, y_test = np.array(xs[idx:]), np.array(labels[idx:])\n"
          ],
          "name": "stderr"
        }
      ]
    },
    {
      "cell_type": "code",
      "metadata": {
        "colab": {
          "base_uri": "https://localhost:8080/"
        },
        "id": "Bds5SCFHwqb6",
        "outputId": "1a19772a-b6a7-4c21-a120-4e1216ca4c7f"
      },
      "source": [
        "# 모델 생성\r\n",
        "model = Sequential()\r\n",
        "\r\n",
        "model.add(Embedding(1000, 32))  # 임베딩층\r\n",
        "# model.add(SimpleRNN(8))\r\n",
        "model.add(LSTM(8))\r\n",
        "model.add(Dense(1, activation='sigmoid'))\r\n",
        "\r\n",
        "model.summary()"
      ],
      "execution_count": 49,
      "outputs": [
        {
          "output_type": "stream",
          "text": [
            "Model: \"sequential_4\"\n",
            "_________________________________________________________________\n",
            "Layer (type)                 Output Shape              Param #   \n",
            "=================================================================\n",
            "embedding_2 (Embedding)      (None, None, 32)          32000     \n",
            "_________________________________________________________________\n",
            "lstm (LSTM)                  (None, 8)                 1312      \n",
            "_________________________________________________________________\n",
            "dense_4 (Dense)              (None, 1)                 9         \n",
            "=================================================================\n",
            "Total params: 33,321\n",
            "Trainable params: 33,321\n",
            "Non-trainable params: 0\n",
            "_________________________________________________________________\n"
          ],
          "name": "stdout"
        }
      ]
    },
    {
      "cell_type": "code",
      "metadata": {
        "colab": {
          "base_uri": "https://localhost:8080/"
        },
        "id": "_rD7b81Wmf9o",
        "outputId": "9cfb3522-dab1-4d5f-cd62-d6a1ff62a4dd"
      },
      "source": [
        "model.compile(optimizer='adam', loss='binary_crossentropy', metrics=['accuracy'])\r\n",
        "history = model.fit(x_train_seq, y_train, epochs=10, batch_size=32, validation_data=(x_val_seq, y_val))"
      ],
      "execution_count": 50,
      "outputs": [
        {
          "output_type": "stream",
          "text": [
            "Epoch 1/10\n",
            "625/625 [==============================] - 16s 23ms/step - loss: 0.5591 - accuracy: 0.7128 - val_loss: 0.3757 - val_accuracy: 0.8380\n",
            "Epoch 2/10\n",
            "625/625 [==============================] - 15s 23ms/step - loss: 0.3363 - accuracy: 0.8626 - val_loss: 0.3610 - val_accuracy: 0.8434\n",
            "Epoch 3/10\n",
            "625/625 [==============================] - 15s 23ms/step - loss: 0.2981 - accuracy: 0.8788 - val_loss: 0.3554 - val_accuracy: 0.8414\n",
            "Epoch 4/10\n",
            "625/625 [==============================] - 15s 23ms/step - loss: 0.2910 - accuracy: 0.8790 - val_loss: 0.3630 - val_accuracy: 0.8436\n",
            "Epoch 5/10\n",
            "625/625 [==============================] - 15s 24ms/step - loss: 0.2801 - accuracy: 0.8846 - val_loss: 0.3704 - val_accuracy: 0.8422\n",
            "Epoch 6/10\n",
            "625/625 [==============================] - 15s 24ms/step - loss: 0.2660 - accuracy: 0.8900 - val_loss: 0.3721 - val_accuracy: 0.8392\n",
            "Epoch 7/10\n",
            "625/625 [==============================] - 15s 23ms/step - loss: 0.2456 - accuracy: 0.9008 - val_loss: 0.3844 - val_accuracy: 0.8378\n",
            "Epoch 8/10\n",
            "625/625 [==============================] - 15s 23ms/step - loss: 0.2409 - accuracy: 0.9025 - val_loss: 0.3808 - val_accuracy: 0.8398\n",
            "Epoch 9/10\n",
            "625/625 [==============================] - 15s 23ms/step - loss: 0.2273 - accuracy: 0.9076 - val_loss: 0.4009 - val_accuracy: 0.8384\n",
            "Epoch 10/10\n",
            "625/625 [==============================] - 15s 23ms/step - loss: 0.2187 - accuracy: 0.9077 - val_loss: 0.4199 - val_accuracy: 0.8388\n"
          ],
          "name": "stdout"
        }
      ]
    },
    {
      "cell_type": "code",
      "metadata": {
        "colab": {
          "base_uri": "https://localhost:8080/",
          "height": 265
        },
        "id": "Pvg8l7LtopzH",
        "outputId": "d7471db9-e664-49e8-dd74-7d3eb93f6c96"
      },
      "source": [
        "plt.plot(history.history['loss'])\r\n",
        "plt.plot(history.history['val_loss'])\r\n",
        "plt.legend(['train_loss', 'val_loss'])\r\n",
        "plt.show()"
      ],
      "execution_count": 52,
      "outputs": [
        {
          "output_type": "display_data",
          "data": {
            "image/png": "[encoded data removed]",
            "text/plain": [
              "<Figure size 432x288 with 1 Axes>"
            ]
          },
          "metadata": {
            "tags": [],
            "needs_background": "light"
          }
        }
      ]
    },
    {
      "cell_type": "code",
      "metadata": {
        "colab": {
          "base_uri": "https://localhost:8080/",
          "height": 265
        },
        "id": "WcD8e4IcpJRq",
        "outputId": "281e0269-3e0e-4921-8784-68c96fae5435"
      },
      "source": [
        "plt.plot(history.history['accuracy'])\r\n",
        "plt.plot(history.history['val_accuracy'])\r\n",
        "plt.legend(['train_accuracy', 'val_accuracy'])\r\n",
        "plt.show()"
      ],
      "execution_count": 54,
      "outputs": [
        {
          "output_type": "display_data",
          "data": {
            "image/png": "[encoded data removed]",
            "text/plain": [
              "<Figure size 432x288 with 1 Axes>"
            ]
          },
          "metadata": {
            "tags": [],
            "needs_background": "light"
          }
        }
      ]
    },
    {
      "cell_type": "code",
      "metadata": {
        "colab": {
          "base_uri": "https://localhost:8080/"
        },
        "id": "f7FjzCzjps-8",
        "outputId": "55587fc4-703d-42e5-ffa6-2d354999eb44"
      },
      "source": [
        "loss, accuracy = model.evaluate(x_val_seq, y_val, verbose=0)\r\n",
        "print(accuracy)"
      ],
      "execution_count": 56,
      "outputs": [
        {
          "output_type": "stream",
          "text": [
            "0.8388000130653381\n"
          ],
          "name": "stdout"
        }
      ]
    }
  ]
}