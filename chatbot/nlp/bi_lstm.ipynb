{
  "nbformat": 4,
  "nbformat_minor": 0,
  "metadata": {
    "colab": {
      "name": "bi_lstm.ipynb",
      "provenance": [],
      "collapsed_sections": [],
      "authorship_tag": "ABX9TyPEAP5N81KvoZcR1o1CFRQs"
    },
    "kernelspec": {
      "name": "python3",
      "display_name": "Python 3"
    },
    "language_info": {
      "name": "python"
    }
  },
  "cells": [
    {
      "cell_type": "code",
      "metadata": {
        "id": "0rrf9iSCB7Do"
      },
      "source": [
        "# Bidirectional(양방향) LSTM : 데이터 정방향 + 역방향 처리 => 정보 손실 X \n",
        "\n",
        "# To Do! 이항 분류 모델(0|1 예측)\n",
        "import numpy as np\n",
        "from random import random\n",
        "from tensorflow.keras.models import Sequential\n",
        "from tensorflow.keras.layers import Bidirectional, LSTM, Dense, TimeDistributed\n",
        "\n",
        "# 하이퍼파라미터\n",
        "n_units = 20\n",
        "n_timesteps = 4\n",
        "\n",
        "\n",
        "def get_sequence(n_timesteps):\n",
        "\n",
        "  # 랜덤 시퀀스(0~1, 3요소 리스트) 생성\n",
        "  X = np.array([random() for _ in range(n_timesteps)])\n",
        "\n",
        "  # 클래스 분류 기준\n",
        "  limit = n_timesteps / 4.0 # 1.0\n",
        "\n",
        "  # 클래스 분류\n",
        "  y = np.array([0 if x < limit else 1 for x in np.cumsum(X)])\n",
        "\n",
        "  # LSTM 입력을 위해 3차원 텐서 형태로 변경\n",
        "  X = X.reshape(1, n_timesteps, 1)\n",
        "  y = y.reshape(1, n_timesteps, 1)\n",
        "\n",
        "  return X, y\n",
        "\n",
        "\n",
        "model = Sequential()\n",
        "model.add(Bidirectional(LSTM(n_units, \n",
        "                             return_sequences=True, # 정/역 방향 LSTM 계층에 모든 출력값 연결 \n",
        "                             input_shape=(n_timesteps, 1))))\n",
        "model.add(TimeDistributed(Dense(1, activation='sigmoid'))) # 3차원 텐서를 입력받도록 확장                            \n",
        "model.compile(loss='binary_crossentropy', optimizer='adam', metrics=['accuracy'])\n",
        "\n",
        "# 모델 학습\n",
        "for epoch in range(1000):\n",
        "  X, y = get_sequence(n_timesteps) # 에포크마다 학습 데이터 생성\n",
        "  model.fit(X, y, epochs=1, batch_size=1, verbose=0)"
      ],
      "execution_count": 1,
      "outputs": []
    },
    {
      "cell_type": "code",
      "metadata": {
        "colab": {
          "base_uri": "https://localhost:8080/"
        },
        "id": "lCaoi0ajNSg7",
        "outputId": "23f7ce9c-1fb3-49fc-ea1d-6b2315652c5a"
      },
      "source": [
        "# 모델 평가\n",
        "X, y = get_sequence(n_timesteps)\n",
        "yhat = model.predict(X)\n",
        "\n",
        "for i in range(n_timesteps):\n",
        "  print('실젯값 :', y[0, i], '예측값 :', np.round(yhat[0, i]).astype(int))"
      ],
      "execution_count": 4,
      "outputs": [
        {
          "output_type": "stream",
          "name": "stdout",
          "text": [
            "실젯값 : [0] 예측값 : [0]\n",
            "실젯값 : [1] 예측값 : [1]\n",
            "실젯값 : [1] 예측값 : [1]\n",
            "실젯값 : [1] 예측값 : [1]\n"
          ]
        }
      ]
    }
  ]
}