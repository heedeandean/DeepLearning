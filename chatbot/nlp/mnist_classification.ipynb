{
  "nbformat": 4,
  "nbformat_minor": 0,
  "metadata": {
    "colab": {
      "name": "mnist_classification.ipynb",
      "provenance": [],
      "collapsed_sections": [],
      "authorship_tag": "ABX9TyMw8GeCMFPYRmRu6JOMCSg2"
    },
    "kernelspec": {
      "name": "python3",
      "display_name": "Python 3"
    },
    "language_info": {
      "name": "python"
    }
  },
  "cells": [
    {
      "cell_type": "code",
      "metadata": {
        "colab": {
          "base_uri": "https://localhost:8080/"
        },
        "id": "o8kpJ3E-MZBe",
        "outputId": "d7344653-a441-4687-e696-dbc049dc05b8"
      },
      "source": [
        "# To Do! 사람이 손글씨로 쓴 0~9 숫자 이미지 분류 모델\n",
        "import tensorflow as tf\n",
        "import matplotlib.pyplot as plt\n",
        "from tensorflow.keras.datasets import mnist\n",
        "from tensorflow.keras.models import Sequential\n",
        "from tensorflow.keras.layers import Flatten, Dense\n",
        "\n",
        "(x_train, y_train), (x_test, y_test) = mnist.load_data()\n",
        "x_train, x_test = x_train / 255.0, x_test / 255.0 # 데이터 정규화\n",
        "\n",
        "ds = tf.data.Dataset.from_tensor_slices((x_train, y_train)).shuffle(10000)\n",
        "train_size = int(len(x_train) * 0.7) # train:valid = 7:3\n",
        "\n",
        "# 배치 사이즈(20) : 학습 시 샘플 수 (작을수록 가중치 갱신이 자주 일어남) <= 전체 학습 데이터셋\n",
        "train_ds = ds.take(train_size).batch(20) \n",
        "val_ds = ds.skip(train_size).batch(20)\n",
        "\n",
        "# 순차 모델 : 신경망 계층을 순차적으로 더함 (cf. 함수형 모델(functional model) : 복잡한 신경망)\n",
        "model = Sequential()\n",
        "model.add(Flatten(input_shape=(28, 28))) # 입력층 : 2차원 이미지(28X28) -> 1차원으로 평탄화(Flatten)(뉴런이 28X28=784개가 됨)\n",
        "model.add(Dense(20, activation='relu')) # 은닉층1\n",
        "model.add(Dense(20, activation='relu')) # 은닉층2\n",
        "model.add(Dense(10, activation='softmax')) # 출력층 : 숫자(0~9)\n",
        "\n",
        "model.compile(loss='sparse_categorical_crossentropy', optimizer='sgd',  # loss : (실제값 - 모델의 출력값) = 오차를 계산하는 손실함수 / optimizer : 오차 보정\n",
        "              metrics=['accuracy']) # 모델 성능 평가 측정 항목\n",
        "\n",
        "# 모델 학습\n",
        "hist = model.fit(train_ds, validation_data=val_ds, epochs=10)"
      ],
      "execution_count": null,
      "outputs": [
        {
          "output_type": "stream",
          "name": "stdout",
          "text": [
            "Downloading data from https://storage.googleapis.com/tensorflow/tf-keras-datasets/mnist.npz\n",
            "11493376/11490434 [==============================] - 0s 0us/step\n",
            "11501568/11490434 [==============================] - 0s 0us/step\n",
            "Epoch 1/10\n",
            "2100/2100 [==============================] - 5s 2ms/step - loss: 1.0166 - accuracy: 0.6732 - val_loss: 0.4370 - val_accuracy: 0.8724\n",
            "Epoch 2/10\n",
            "2100/2100 [==============================] - 4s 2ms/step - loss: 0.3855 - accuracy: 0.8884 - val_loss: 0.3257 - val_accuracy: 0.9048\n",
            "Epoch 3/10\n",
            "2100/2100 [==============================] - 4s 2ms/step - loss: 0.3170 - accuracy: 0.9083 - val_loss: 0.2809 - val_accuracy: 0.9153\n",
            "Epoch 4/10\n",
            "2100/2100 [==============================] - 4s 2ms/step - loss: 0.2699 - accuracy: 0.9212 - val_loss: 0.2457 - val_accuracy: 0.9277\n",
            "Epoch 5/10\n",
            "2100/2100 [==============================] - 4s 2ms/step - loss: 0.2432 - accuracy: 0.9302 - val_loss: 0.2205 - val_accuracy: 0.9354\n",
            "Epoch 6/10\n",
            "2100/2100 [==============================] - 4s 2ms/step - loss: 0.2177 - accuracy: 0.9379 - val_loss: 0.1990 - val_accuracy: 0.9414\n",
            "Epoch 7/10\n",
            "2100/2100 [==============================] - 4s 2ms/step - loss: 0.2016 - accuracy: 0.9424 - val_loss: 0.1922 - val_accuracy: 0.9456\n",
            "Epoch 8/10\n",
            "2100/2100 [==============================] - 4s 2ms/step - loss: 0.1873 - accuracy: 0.9454 - val_loss: 0.1775 - val_accuracy: 0.9477\n",
            "Epoch 9/10\n",
            "2100/2100 [==============================] - 4s 2ms/step - loss: 0.1755 - accuracy: 0.9491 - val_loss: 0.1775 - val_accuracy: 0.9473\n",
            "Epoch 10/10\n",
            "2100/2100 [==============================] - 4s 2ms/step - loss: 0.1659 - accuracy: 0.9514 - val_loss: 0.1630 - val_accuracy: 0.9532\n"
          ]
        }
      ]
    },
    {
      "cell_type": "code",
      "metadata": {
        "colab": {
          "base_uri": "https://localhost:8080/"
        },
        "id": "VNF56m7OS5zB",
        "outputId": "77447579-8459-469c-9031-937260d1904e"
      },
      "source": [
        "model.evaluate(x_test, y_test)"
      ],
      "execution_count": null,
      "outputs": [
        {
          "output_type": "stream",
          "name": "stdout",
          "text": [
            "313/313 [==============================] - 1s 2ms/step - loss: 0.1695 - accuracy: 0.9482\n"
          ]
        },
        {
          "output_type": "execute_result",
          "data": {
            "text/plain": [
              "[0.16950832307338715, 0.948199987411499]"
            ]
          },
          "metadata": {},
          "execution_count": 2
        }
      ]
    },
    {
      "cell_type": "code",
      "metadata": {
        "colab": {
          "base_uri": "https://localhost:8080/"
        },
        "id": "TU0KVbvwTGE6",
        "outputId": "5407a140-b90f-462b-a31a-5b335f09049f"
      },
      "source": [
        "model.summary()"
      ],
      "execution_count": null,
      "outputs": [
        {
          "output_type": "stream",
          "name": "stdout",
          "text": [
            "Model: \"sequential\"\n",
            "_________________________________________________________________\n",
            "Layer (type)                 Output Shape              Param #   \n",
            "=================================================================\n",
            "flatten (Flatten)            (None, 784)               0         \n",
            "_________________________________________________________________\n",
            "dense (Dense)                (None, 20)                15700     \n",
            "_________________________________________________________________\n",
            "dense_1 (Dense)              (None, 20)                420       \n",
            "_________________________________________________________________\n",
            "dense_2 (Dense)              (None, 10)                210       \n",
            "=================================================================\n",
            "Total params: 16,330\n",
            "Trainable params: 16,330\n",
            "Non-trainable params: 0\n",
            "_________________________________________________________________\n"
          ]
        }
      ]
    },
    {
      "cell_type": "code",
      "metadata": {
        "id": "BPCLLdIETJcK"
      },
      "source": [
        "model.save('mnist_model.h5')"
      ],
      "execution_count": null,
      "outputs": []
    },
    {
      "cell_type": "code",
      "metadata": {
        "colab": {
          "base_uri": "https://localhost:8080/",
          "height": 279
        },
        "id": "mYPlHOVaTYrb",
        "outputId": "250b6c36-6f7c-4044-e95d-de4ef40716ef"
      },
      "source": [
        "# 학습 히스토리 데이터 그래프\n",
        "fig, loss_ax = plt.subplots()\n",
        "acc_ax = loss_ax.twinx()\n",
        "\n",
        "loss_ax.plot(hist.history['loss'], 'y', label='train loss')\n",
        "loss_ax.plot(hist.history['val_loss'], 'r', label='val loss')\n",
        "\n",
        "acc_ax.plot(hist.history['accuracy'], 'b', label='train acc')\n",
        "acc_ax.plot(hist.history['val_accuracy'], 'g', label='val acc')\n",
        "\n",
        "loss_ax.set_xlabel('epoch')\n",
        "loss_ax.set_ylabel('loss')\n",
        "\n",
        "acc_ax.set_ylabel('accuracy')\n",
        "\n",
        "loss_ax.legend(loc='upper left')\n",
        "acc_ax.legend(loc='lower left')\n",
        "\n",
        "plt.show()"
      ],
      "execution_count": null,
      "outputs": [
        {
          "output_type": "display_data",
          "data": {
            "image/png": "[encoded data removed]",
            "text/plain": [
              "<Figure size 432x288 with 2 Axes>"
            ]
          },
          "metadata": {
            "needs_background": "light"
          }
        }
      ]
    },
    {
      "cell_type": "code",
      "metadata": {
        "colab": {
          "base_uri": "https://localhost:8080/"
        },
        "id": "CBJsSPgRspY_",
        "outputId": "09427b24-48ab-4864-f26a-d4e3b2ca7321"
      },
      "source": [
        "from tensorflow.keras.models import load_model\n",
        "\n",
        "_, (x_test, y_test) = mnist.load_data()\n",
        "x_test = x_test / 255.0 # 데이터 정규화\n",
        "\n",
        "model = load_model('mnist_model.h5')\n",
        "model.summary()"
      ],
      "execution_count": 14,
      "outputs": [
        {
          "output_type": "stream",
          "name": "stdout",
          "text": [
            "Model: \"sequential\"\n",
            "_________________________________________________________________\n",
            "Layer (type)                 Output Shape              Param #   \n",
            "=================================================================\n",
            "flatten (Flatten)            (None, 784)               0         \n",
            "_________________________________________________________________\n",
            "dense (Dense)                (None, 20)                15700     \n",
            "_________________________________________________________________\n",
            "dense_1 (Dense)              (None, 20)                420       \n",
            "_________________________________________________________________\n",
            "dense_2 (Dense)              (None, 10)                210       \n",
            "=================================================================\n",
            "Total params: 16,330\n",
            "Trainable params: 16,330\n",
            "Non-trainable params: 0\n",
            "_________________________________________________________________\n"
          ]
        }
      ]
    },
    {
      "cell_type": "code",
      "metadata": {
        "colab": {
          "base_uri": "https://localhost:8080/"
        },
        "id": "lfo9SDX1tPv2",
        "outputId": "48cbd548-a55e-4f12-9def-ad08974511ab"
      },
      "source": [
        "model.evaluate(x_test, y_test, verbose=2)"
      ],
      "execution_count": 15,
      "outputs": [
        {
          "output_type": "stream",
          "name": "stdout",
          "text": [
            "313/313 - 0s - loss: 0.1695 - accuracy: 0.9482\n"
          ]
        },
        {
          "output_type": "execute_result",
          "data": {
            "text/plain": [
              "[0.16950832307338715, 0.948199987411499]"
            ]
          },
          "metadata": {},
          "execution_count": 15
        }
      ]
    },
    {
      "cell_type": "code",
      "metadata": {
        "colab": {
          "base_uri": "https://localhost:8080/",
          "height": 265
        },
        "id": "c99dQE-ntjCV",
        "outputId": "ede9e1a5-37ea-4af4-a343-11ee6e42f22a"
      },
      "source": [
        "# 테스트셋에서 20번째 흑백 이미지 출력\n",
        "plt.imshow(x_test[20], cmap='gray') \n",
        "plt.show()"
      ],
      "execution_count": 16,
      "outputs": [
        {
          "output_type": "display_data",
          "data": {
            "image/png": "[encoded data removed]",
            "text/plain": [
              "<Figure size 432x288 with 1 Axes>"
            ]
          },
          "metadata": {
            "needs_background": "light"
          }
        }
      ]
    },
    {
      "cell_type": "code",
      "metadata": {
        "colab": {
          "base_uri": "https://localhost:8080/"
        },
        "id": "RPtSnNwgtxJF",
        "outputId": "5a494325-bab9-4e14-d9f5-7a96aa758d08"
      },
      "source": [
        "import numpy as np\n",
        "\n",
        "picks = [20]\n",
        "predict = np.argmax(model.predict(x_test), axis=1)[picks]\n",
        "\n",
        "print('손글씨 이미지 예측값 :', predict)"
      ],
      "execution_count": 35,
      "outputs": [
        {
          "output_type": "stream",
          "name": "stdout",
          "text": [
            "손글씨 이미지 예측값 : [9]\n"
          ]
        }
      ]
    }
  ]
}