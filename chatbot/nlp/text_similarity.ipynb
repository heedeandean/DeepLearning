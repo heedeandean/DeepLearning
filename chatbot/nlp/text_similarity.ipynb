{
  "nbformat": 4,
  "nbformat_minor": 0,
  "metadata": {
    "colab": {
      "name": "text_similarity.ipynb",
      "provenance": [],
      "collapsed_sections": [],
      "authorship_tag": "ABX9TyOmi4CJ/KmQ7lKNuM77tYu9"
    },
    "kernelspec": {
      "name": "python3",
      "display_name": "Python 3"
    },
    "language_info": {
      "name": "python"
    }
  },
  "cells": [
    {
      "cell_type": "code",
      "metadata": {
        "id": "kDEqIMfBL_m9",
        "colab": {
          "base_uri": "https://localhost:8080/"
        },
        "outputId": "08722083-0455-4663-cae6-6bcb67b24ad0"
      },
      "source": [
        "# pip install konlpy\n",
        "from konlpy.tag import Komoran\n",
        "\n",
        "# 1. n-gram 유사도\n",
        "def word_ngram(bow, num_gram):\n",
        "  text = tuple(bow)\n",
        "  ngrams = [text[x:x + num_gram] for x in range(0, len(text))]\n",
        "  return tuple(ngrams)\n",
        "\n",
        "# 유사도 계산\n",
        "def similarity(doc1, doc2):\n",
        "  cnt = 0\n",
        "  for token in doc1:\n",
        "    if token in doc2:\n",
        "      cnt += 1\n",
        "  return cnt/len(doc1)\n",
        "\n",
        "\n",
        "sentence1 = '6월에 뉴턴은 선생님의 제안으로 트리니티에 입학했다.'\n",
        "sentence2 = '6월에 뉴턴은 선생님의 제안으로 대학교에 입학했다.'\n",
        "sentence3 = '나는 맛있는 밥을 뉴턴 선생님과 함께 먹었다.'\n",
        "\n",
        "# 형태소 분석기에서 명사 추출\n",
        "komoran = Komoran()\n",
        "bow1 = komoran.nouns(sentence1)\n",
        "bow2 = komoran.nouns(sentence2)\n",
        "bow3 = komoran.nouns(sentence3)\n",
        "\n",
        "# 2-gram 토큰 추출\n",
        "doc1 = word_ngram(bow1, 2)\n",
        "doc2 = word_ngram(bow2, 2)\n",
        "doc3 = word_ngram(bow3, 2)\n",
        "\n",
        "print(doc1)\n",
        "print(doc2)\n",
        "print(doc3)"
      ],
      "execution_count": 12,
      "outputs": [
        {
          "output_type": "stream",
          "name": "stdout",
          "text": [
            "(('6월', '뉴턴'), ('뉴턴', '선생님'), ('선생님', '제안'), ('제안', '트리니티'), ('트리니티', '입학'), ('입학',))\n",
            "(('6월', '뉴턴'), ('뉴턴', '선생님'), ('선생님', '제안'), ('제안', '대학교'), ('대학교', '입학'), ('입학',))\n",
            "(('밥', '뉴턴'), ('뉴턴', '선생'), ('선생', '님과 함께'), ('님과 함께',))\n"
          ]
        }
      ]
    },
    {
      "cell_type": "code",
      "metadata": {
        "id": "9c9HiFbvXIN5",
        "colab": {
          "base_uri": "https://localhost:8080/"
        },
        "outputId": "e2ce31b0-477a-43f5-c97c-7ab070d0268b"
      },
      "source": [
        "# 유사도 계산\n",
        "r1 = similarity(doc1, doc2)\n",
        "r2 = similarity(doc3, doc1)\n",
        "\n",
        "print(r1)\n",
        "print(r2)"
      ],
      "execution_count": 10,
      "outputs": [
        {
          "output_type": "stream",
          "name": "stdout",
          "text": [
            "0.6666666666666666\n",
            "0.0\n"
          ]
        }
      ]
    },
    {
      "cell_type": "code",
      "metadata": {
        "colab": {
          "base_uri": "https://localhost:8080/"
        },
        "id": "0gbDg3i6X078",
        "outputId": "8b2576da-02c3-4213-ba39-d1a2143b1691"
      },
      "source": [
        "# 2. 코사인 유사도 (n-gram 보다 성능 좋음)\n",
        "import numpy as np\n",
        "from numpy import dot\n",
        "from numpy.linalg import norm\n",
        "\n",
        "# 코사인 유사도 계산\n",
        "def cos_sim(vec1, vec2):\n",
        "  return dot(vec1, vec2) / (norm(vec1) * norm(vec2)) # 두 벡터의 내적곱 / 두 벡터의 크기 곱\n",
        "\n",
        "# 단어 문서 행렬(Term-Document Matrix, TDM)\n",
        "def make_term_doc_mat(sentence_bow, word_dics):\n",
        "  freq_mat = {}\n",
        "\n",
        "  for word in word_dics:\n",
        "    freq_mat[word] = 0\n",
        "\n",
        "  for word in word_dics:\n",
        "    if word in sentence_bow:\n",
        "      freq_mat[word] += 1\n",
        "  \n",
        "  return freq_mat\n",
        "\n",
        "# 단어 벡터 생성\n",
        "def make_vector(tdm):\n",
        "  vec = []\n",
        "  for key in tdm:\n",
        "    vec.append(tdm[key])\n",
        "\n",
        "  return vec\n",
        "\n",
        "# 단어 리스트를 하나로 합침\n",
        "bow = bow1 + bow2 + bow3\n",
        "\n",
        "# bow에서 중복을 제거해 단어 사전 구축\n",
        "word_dics = []\n",
        "for token in bow:\n",
        "  if token not in word_dics:\n",
        "    word_dics.append(token)\n",
        "\n",
        "# 문장별 TDM 계산\n",
        "freq_list1 = make_term_doc_mat(bow1, word_dics)\n",
        "freq_list2 = make_term_doc_mat(bow2, word_dics)\n",
        "freq_list3 = make_term_doc_mat(bow3, word_dics)\n",
        "print(freq_list1)\n",
        "print(freq_list2)\n",
        "print(freq_list3)"
      ],
      "execution_count": 14,
      "outputs": [
        {
          "output_type": "stream",
          "name": "stdout",
          "text": [
            "{'6월': 1, '뉴턴': 1, '선생님': 1, '제안': 1, '트리니티': 1, '입학': 1, '대학교': 0, '밥': 0, '선생': 0, '님과 함께': 0}\n",
            "{'6월': 1, '뉴턴': 1, '선생님': 1, '제안': 1, '트리니티': 0, '입학': 1, '대학교': 1, '밥': 0, '선생': 0, '님과 함께': 0}\n",
            "{'6월': 0, '뉴턴': 1, '선생님': 0, '제안': 0, '트리니티': 0, '입학': 0, '대학교': 0, '밥': 1, '선생': 1, '님과 함께': 1}\n"
          ]
        }
      ]
    },
    {
      "cell_type": "code",
      "metadata": {
        "colab": {
          "base_uri": "https://localhost:8080/"
        },
        "id": "1V4fs3FeqiCH",
        "outputId": "62ba8cbe-9af9-4eb7-a454-9f8a57fc196f"
      },
      "source": [
        "doc1 = np.array(make_vector(freq_list1))\n",
        "doc2 = np.array(make_vector(freq_list2))\n",
        "doc3 = np.array(make_vector(freq_list3))\n",
        "print(doc1)\n",
        "print(doc2)\n",
        "print(doc3)"
      ],
      "execution_count": 15,
      "outputs": [
        {
          "output_type": "stream",
          "name": "stdout",
          "text": [
            "[1 1 1 1 1 1 0 0 0 0]\n",
            "[1 1 1 1 0 1 1 0 0 0]\n",
            "[0 1 0 0 0 0 0 1 1 1]\n"
          ]
        }
      ]
    },
    {
      "cell_type": "code",
      "metadata": {
        "colab": {
          "base_uri": "https://localhost:8080/"
        },
        "id": "MwEM_5I3r0Bm",
        "outputId": "ceac668f-60c7-4999-e565-1854f10f7241"
      },
      "source": [
        "# 코사인 유사도 계산\n",
        "r1 = cos_sim(doc1, doc2)\n",
        "r2 = cos_sim(doc3, doc1)\n",
        "print(r1)\n",
        "print(r2)"
      ],
      "execution_count": 16,
      "outputs": [
        {
          "output_type": "stream",
          "name": "stdout",
          "text": [
            "0.8333333333333335\n",
            "0.20412414523193154\n"
          ]
        }
      ]
    }
  ]
}