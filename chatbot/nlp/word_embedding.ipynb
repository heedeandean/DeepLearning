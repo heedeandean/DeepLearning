{
  "nbformat": 4,
  "nbformat_minor": 0,
  "metadata": {
    "colab": {
      "name": "word_embedding.ipynb",
      "provenance": [],
      "collapsed_sections": [],
      "authorship_tag": "ABX9TyOUobuOohhic7RCpAKcozXt"
    },
    "kernelspec": {
      "name": "python3",
      "display_name": "Python 3"
    },
    "language_info": {
      "name": "python"
    }
  },
  "cells": [
    {
      "cell_type": "markdown",
      "metadata": {
        "id": "oE3xYb-_YGVj"
      },
      "source": [
        "#### 단어 임베딩 : 각 단어를 벡터로 표현. \n",
        "####             : - 동음이의어 구분X -> 동일한 벡터값으로 표현.\n",
        "####             : + 문장 임베딩에 비해 학습 방법 간단."
      ]
    },
    {
      "cell_type": "code",
      "metadata": {
        "id": "z0tPSs_HXMnX",
        "colab": {
          "base_uri": "https://localhost:8080/"
        },
        "outputId": "b3a093bd-6d70-4bed-96e2-0fd7a800ff7f"
      },
      "source": [
        "# 1. 원-핫 인코딩(one-hot encoding)\n",
        "# -> 원-핫 벡터 = 희소(sparse) 벡터 = 희소 행렬 : 전체 요소 중 단 하나의 값만 1\n",
        "\n",
        "### 과정\n",
        "# pip install konlpy\n",
        "from konlpy.tag import Komoran\n",
        "import numpy as np\n",
        "\n",
        "komoran = Komoran()\n",
        "text = '오늘 날씨는 구름이 많아요.'\n",
        "\n",
        "# 명사만 추출\n",
        "nouns = komoran.nouns(text)\n",
        "print(nouns)"
      ],
      "execution_count": null,
      "outputs": [
        {
          "output_type": "stream",
          "name": "stdout",
          "text": [
            "['오늘', '날씨', '구름']\n"
          ]
        }
      ]
    },
    {
      "cell_type": "code",
      "metadata": {
        "id": "yTBvQLB2XLy5",
        "colab": {
          "base_uri": "https://localhost:8080/"
        },
        "outputId": "837c96d6-6ef6-4fa8-cdc5-7f8e490adc98"
      },
      "source": [
        "# 단어 사전 구축 \n",
        "dics = {}\n",
        "for word in nouns:\n",
        "  if word not in dics.keys():\n",
        "    dics[word] = len(dics) # 단어별 인덱스 부여\n",
        "print(dics)"
      ],
      "execution_count": null,
      "outputs": [
        {
          "output_type": "stream",
          "name": "stdout",
          "text": [
            "{'오늘': 0, '날씨': 1, '구름': 2}\n"
          ]
        }
      ]
    },
    {
      "cell_type": "code",
      "metadata": {
        "colab": {
          "base_uri": "https://localhost:8080/"
        },
        "id": "elzqiaKAJK0o",
        "outputId": "addf099c-1fb1-41be-e965-14d0d462ced2"
      },
      "source": [
        "# 원-핫 인코딩\n",
        "nb_classes = len(dics) # 원-핫 벡터 차원의 크기 = 단어 수\n",
        "targets = list(dics.values())\n",
        "one_hot_targets = np.eye(nb_classes)[targets]\n",
        "print(one_hot_targets)"
      ],
      "execution_count": null,
      "outputs": [
        {
          "output_type": "stream",
          "name": "stdout",
          "text": [
            "[[1. 0. 0.]\n",
            " [0. 1. 0.]\n",
            " [0. 0. 1.]]\n"
          ]
        }
      ]
    },
    {
      "cell_type": "code",
      "metadata": {
        "colab": {
          "base_uri": "https://localhost:8080/"
        },
        "id": "aiOYg8aPLrx2",
        "outputId": "f7ae738f-2b0f-4e5f-be78-38ae75aa9c2f"
      },
      "source": [
        "# 2. Word2Vec : 분산 표현(distributed representation) = 밀집(dense) 표현\n",
        "\n",
        "from gensim.models import Word2Vec\n",
        "from konlpy.tag import Komoran\n",
        "import time\n",
        "\n",
        "def read_review_data(filename):\n",
        "  with open(filename, 'r') as f:\n",
        "    data = [line.split('\\t') for line in f.read().splitlines()]\n",
        "    data = data[1:] # 헤더 제외\n",
        "  return data\n",
        "\n",
        "# 학습 시간 측정 시작\n",
        "start = time.time() \n",
        "\n",
        "review_data = read_review_data('./ratings.txt')\n",
        "print(len(review_data)) # 리뷰 데이터 전체 개수\n",
        "print('소요 시간 : ', time.time() - start) # 초"
      ],
      "execution_count": 11,
      "outputs": [
        {
          "output_type": "stream",
          "name": "stdout",
          "text": [
            "200000\n",
            "소요 시간 :  0.6325592994689941\n"
          ]
        }
      ]
    },
    {
      "cell_type": "code",
      "metadata": {
        "colab": {
          "base_uri": "https://localhost:8080/"
        },
        "id": "cpY5iE2aceBX",
        "outputId": "13e02ef8-c29e-44a5-878c-7f8b92dae375"
      },
      "source": [
        "komoran = Komoran()\n",
        "\n",
        "# 명사만 추출\n",
        "docs = [komoran.nouns(sentence[1]) for sentence in review_data]\n",
        "\n",
        "# 모델 학습\n",
        "model = Word2Vec(sentences=docs, # 학습에 필요한 문장 데이터, 모델의 입력값\n",
        "                 size=200,       # 벡터의 차원, 크기\n",
        "                 window=4,       # 주변 단어 크기 (-+4)\n",
        "                 hs=1,           # softmax 사용\n",
        "                 min_count=2,    # 빈도수 2이하의 단어들은 학습X\n",
        "                 sg=1)           # skip_gram 모델 <-> 0 : CBOW 모델\n",
        "\n",
        "# 모델 저장\n",
        "model.save('nvmc_model')\n",
        "\n",
        "print('학습된 전체 말뭉치 수 : ', model.corpus_count)\n",
        "print('전체 단어 수 : ', model.corpus_total_words)\n"
      ],
      "execution_count": null,
      "outputs": [
        {
          "output_type": "stream",
          "name": "stdout",
          "text": [
            "학습된 전체 말뭉치 수 :  200000\n",
            "전체 단어 수 :  1076896\n"
          ]
        }
      ]
    },
    {
      "cell_type": "code",
      "metadata": {
        "id": "_ZRbB93lfa2n",
        "colab": {
          "base_uri": "https://localhost:8080/"
        },
        "outputId": "3cfb2197-86a1-4035-ccfe-f781f61be326"
      },
      "source": [
        "# model = Word2Vec.load('nvmc.model')\n",
        "print(model.corpus_total_words)"
      ],
      "execution_count": 12,
      "outputs": [
        {
          "output_type": "stream",
          "name": "stdout",
          "text": [
            "1076896\n"
          ]
        }
      ]
    },
    {
      "cell_type": "code",
      "metadata": {
        "colab": {
          "base_uri": "https://localhost:8080/"
        },
        "id": "Sb3gu6N8ni2b",
        "outputId": "70794b51-425f-4381-c0b7-a26bfae890bf"
      },
      "source": [
        "# '사랑'의 단어 임베딩 벡터\n",
        "print('사랑 : ', model.wv['사랑'])"
      ],
      "execution_count": 13,
      "outputs": [
        {
          "output_type": "stream",
          "name": "stdout",
          "text": [
            "사랑 :  [-2.97578931e-01  7.12058619e-02  1.59343913e-01 -1.51612595e-01\n",
            "  2.77880698e-01  5.68443686e-02  2.88528442e-01 -1.20813280e-01\n",
            "  2.98586693e-02  1.91238225e-01  8.24682415e-02 -3.96510243e-01\n",
            " -2.84748580e-02 -2.38624632e-01 -6.11718670e-02  4.86974865e-01\n",
            "  1.45292893e-01 -1.07594490e-01  3.11270297e-01  3.00044775e-01\n",
            " -2.88162798e-01 -2.40445659e-01  2.01662272e-01 -5.18656187e-02\n",
            "  1.08743057e-01  1.61261290e-01  3.37705389e-02 -3.46917212e-02\n",
            "  9.85553786e-02  2.94933736e-01  9.46900749e-04 -1.28874391e-01\n",
            "  1.01001993e-01 -2.89510228e-02  2.07849219e-01  3.48576345e-02\n",
            "  2.33263671e-01 -5.19848287e-01 -4.11301851e-02  8.38909894e-02\n",
            "  3.64438623e-01 -2.88541585e-01  1.14095636e-01  1.17198154e-02\n",
            "  2.91589409e-01 -2.97565218e-02 -3.33097190e-01 -3.95681202e-01\n",
            " -8.73521119e-02 -1.99273422e-01 -9.92501006e-02  1.18523225e-01\n",
            "  2.13210836e-01 -1.75432637e-02  1.06171139e-01 -1.52044259e-02\n",
            " -9.00473893e-02  1.08999759e-01  2.36939535e-01  1.96870845e-02\n",
            "  6.84565753e-02 -2.67035663e-01 -1.65709719e-01  1.26866415e-01\n",
            " -1.06965728e-01  1.20802060e-01  3.84314917e-02  1.93381566e-03\n",
            " -1.94771111e-01 -3.95008363e-02  2.71055903e-02 -9.61030126e-02\n",
            "  4.24643308e-01  3.08782279e-01  2.65272051e-01  2.46509179e-01\n",
            "  1.27751186e-01  2.49139145e-01 -6.04771487e-02  2.61311512e-03\n",
            " -3.51437539e-01  5.78956194e-02 -1.79501966e-01  2.11475641e-01\n",
            "  1.18094325e-01  3.86098921e-01 -1.69346541e-01  3.23220678e-02\n",
            " -1.26483753e-01  3.57061386e-01 -1.03987511e-02 -1.07361995e-01\n",
            "  1.16105758e-01 -2.19900489e-01  2.36123368e-01  1.59351245e-01\n",
            " -2.10511342e-01 -8.61962512e-02  1.21706128e-01  7.81065226e-02\n",
            " -2.13875696e-01 -5.21771982e-02  6.67051121e-04  1.98077455e-01\n",
            "  1.15751371e-01  2.14540794e-01 -2.99885452e-01  2.09993079e-01\n",
            "  2.79667497e-01 -1.06196284e-01  8.60515311e-02  8.58716071e-02\n",
            "  2.39185929e-01 -2.01114014e-01  3.11178386e-01  1.23561025e-01\n",
            " -2.87740409e-01 -1.27739727e-01 -1.32766947e-01  3.11540067e-01\n",
            "  5.23495339e-02  1.31850049e-01 -4.84694354e-02  5.50938537e-03\n",
            "  7.44885728e-02 -4.91988420e-01 -5.62491752e-02 -2.72930562e-01\n",
            " -2.55902000e-02  2.48326659e-01 -1.59977898e-01 -1.90856665e-01\n",
            " -1.49755850e-01  2.26572350e-01 -2.78825194e-01 -1.49894536e-01\n",
            "  1.87154368e-01  2.12225579e-02 -1.02686957e-01 -1.00022487e-01\n",
            " -1.02092557e-01 -4.90378514e-02  8.01914856e-02  2.65927851e-01\n",
            "  4.24035937e-01 -1.12171046e-01 -7.87860975e-02  6.00587666e-01\n",
            " -2.24853083e-01 -3.46997112e-01 -3.00111324e-02 -6.28718287e-02\n",
            " -4.54061806e-01 -7.29869911e-03  2.31741160e-01 -1.59489125e-01\n",
            " -1.57327708e-02 -4.77392375e-01  2.96987623e-01  2.61197805e-01\n",
            " -2.89482266e-01 -5.45254089e-02 -1.77837193e-01  1.25692338e-01\n",
            "  7.91951492e-02 -1.56102464e-01 -1.92132622e-01  2.72097260e-01\n",
            " -1.34397939e-01 -2.84822166e-01 -6.92506731e-02 -1.96588323e-01\n",
            "  4.72017899e-02 -1.84407935e-01 -1.85543913e-02 -8.18454623e-02\n",
            " -2.79263109e-01 -4.69833076e-01  1.72360584e-01  1.39536306e-01\n",
            " -3.05334687e-01 -1.37860343e-01  2.19982684e-01 -1.60727933e-01\n",
            " -1.36859253e-01  2.04225287e-01  2.42762342e-01 -5.89068867e-02\n",
            "  2.70834863e-01  1.64377913e-02  2.70546749e-02  1.40685160e-02\n",
            " -3.49953398e-03 -3.37459296e-02  1.00674696e-01 -1.29177030e-02\n",
            " -2.14839160e-01  1.94700316e-01  3.52996722e-04  5.63300103e-02]\n"
          ]
        }
      ]
    },
    {
      "cell_type": "code",
      "metadata": {
        "colab": {
          "base_uri": "https://localhost:8080/"
        },
        "id": "wcYbyxhLnwSe",
        "outputId": "4c2de64c-bcbc-4df9-a2da-db7f5a4d6b1f"
      },
      "source": [
        "# 단어 유사도 계산\n",
        "print('일요일 = 월요일 :', model.wv.similarity(w1='일요일', w2='월요일'))\n",
        "print('안성기 = 배우 :', model.wv.similarity(w1='안성기', w2='배우'))\n",
        "print('대기업 = 삼성 :', model.wv.similarity(w1='대기업', w2='삼성'))\n",
        "print('일요일 = 삼성 :', model.wv.similarity(w1='일요일', w2='삼성'))\n",
        "print('히어로 = 삼성 :', model.wv.similarity(w1='히어로', w2='삼성'))"
      ],
      "execution_count": 19,
      "outputs": [
        {
          "output_type": "stream",
          "name": "stdout",
          "text": [
            "일요일 = 월요일 : 0.6877318\n",
            "안성기 = 배우 : 0.5518446\n",
            "대기업 = 삼성 : 0.5976017\n",
            "일요일 = 삼성 : 0.25114098\n",
            "히어로 = 삼성 : 0.16577387\n"
          ]
        }
      ]
    },
    {
      "cell_type": "code",
      "metadata": {
        "colab": {
          "base_uri": "https://localhost:8080/"
        },
        "id": "Was8P1pSpliw",
        "outputId": "605d2d93-dd01-41d1-96e0-3a55561d8230"
      },
      "source": [
        "# 가장 유사한 단어 추출\n",
        "print(model.wv.most_similar('안성기', topn=5))\n",
        "print(model.wv.most_similar('시리즈', topn=5))"
      ],
      "execution_count": 20,
      "outputs": [
        {
          "output_type": "stream",
          "name": "stdout",
          "text": [
            "[('정려원', 0.7247748374938965), ('장미희', 0.706409215927124), ('박중훈', 0.705795168876648), ('씨야', 0.7056567668914795), ('강수연', 0.6990177035331726)]\n",
            "[('더 울버린', 0.6559002995491028), ('캐리비안의 해적', 0.6524219512939453), ('비포 선셋', 0.6483879089355469), ('데스티네이션', 0.6392425298690796), ('X맨', 0.6303446292877197)]\n"
          ]
        }
      ]
    }
  ]
}