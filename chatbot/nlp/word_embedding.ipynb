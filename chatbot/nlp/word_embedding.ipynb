{
  "nbformat": 4,
  "nbformat_minor": 0,
  "metadata": {
    "colab": {
      "name": "word_embedding.ipynb",
      "provenance": [],
      "collapsed_sections": [],
      "authorship_tag": "ABX9TyMK3YuS4RrFzS8ILpUTV5BW"
    },
    "kernelspec": {
      "name": "python3",
      "display_name": "Python 3"
    },
    "language_info": {
      "name": "python"
    }
  },
  "cells": [
    {
      "cell_type": "markdown",
      "metadata": {
        "id": "oE3xYb-_YGVj"
      },
      "source": [
        "#### 단어 임베딩 : 각 단어를 벡터로 표현. \n",
        "####             : - 동음이의어 구분X -> 동일한 벡터값으로 표현.\n",
        "####             : + 문장 임베딩에 비해 학습 방법 간단."
      ]
    },
    {
      "cell_type": "code",
      "metadata": {
        "id": "z0tPSs_HXMnX",
        "colab": {
          "base_uri": "https://localhost:8080/"
        },
        "outputId": "b3a093bd-6d70-4bed-96e2-0fd7a800ff7f"
      },
      "source": [
        "# 1. 원-핫 인코딩(one-hot encoding)\n",
        "# -> 원-핫 벡터 = 희소(sparse) 벡터 = 희소 행렬 : 전체 요소 중 단 하나의 값만 1\n",
        "\n",
        "### 과정\n",
        "# pip install konlpy\n",
        "from konlpy.tag import Komoran\n",
        "import numpy as np\n",
        "\n",
        "komoran = Komoran()\n",
        "text = '오늘 날씨는 구름이 많아요.'\n",
        "\n",
        "# 명사만 추출\n",
        "nouns = komoran.nouns(text)\n",
        "print(nouns)"
      ],
      "execution_count": null,
      "outputs": [
        {
          "output_type": "stream",
          "name": "stdout",
          "text": [
            "['오늘', '날씨', '구름']\n"
          ]
        }
      ]
    },
    {
      "cell_type": "code",
      "metadata": {
        "id": "yTBvQLB2XLy5",
        "colab": {
          "base_uri": "https://localhost:8080/"
        },
        "outputId": "837c96d6-6ef6-4fa8-cdc5-7f8e490adc98"
      },
      "source": [
        "# 단어 사전 구축 \n",
        "dics = {}\n",
        "for word in nouns:\n",
        "  if word not in dics.keys():\n",
        "    dics[word] = len(dics) # 단어별 인덱스 부여\n",
        "print(dics)"
      ],
      "execution_count": null,
      "outputs": [
        {
          "output_type": "stream",
          "name": "stdout",
          "text": [
            "{'오늘': 0, '날씨': 1, '구름': 2}\n"
          ]
        }
      ]
    },
    {
      "cell_type": "code",
      "metadata": {
        "colab": {
          "base_uri": "https://localhost:8080/"
        },
        "id": "elzqiaKAJK0o",
        "outputId": "addf099c-1fb1-41be-e965-14d0d462ced2"
      },
      "source": [
        "# 원-핫 인코딩\n",
        "nb_classes = len(dics) # 원-핫 벡터 차원의 크기 = 단어 수\n",
        "targets = list(dics.values())\n",
        "one_hot_targets = np.eye(nb_classes)[targets]\n",
        "print(one_hot_targets)"
      ],
      "execution_count": null,
      "outputs": [
        {
          "output_type": "stream",
          "name": "stdout",
          "text": [
            "[[1. 0. 0.]\n",
            " [0. 1. 0.]\n",
            " [0. 0. 1.]]\n"
          ]
        }
      ]
    },
    {
      "cell_type": "code",
      "metadata": {
        "colab": {
          "base_uri": "https://localhost:8080/"
        },
        "id": "aiOYg8aPLrx2",
        "outputId": "67ba6fbc-c2c9-452d-ddb1-bf9b2a7b5b38"
      },
      "source": [
        "# 2. Word2Vec : 분산 표현(distributed representation) = 밀집(dense) 표현\n",
        "\n",
        "from gensim.models import Word2Vec\n",
        "from konlpy.tag import Komoran\n",
        "import time\n",
        "\n",
        "def read_review_data(filename):\n",
        "  with open(filename, 'r') as f:\n",
        "    data = [line.split('\\t') for line in f.read().splitlines()]\n",
        "    data = data[1:] # 헤더 제외\n",
        "  return data\n",
        "\n",
        "# 학습 시간 측정 시작\n",
        "start = time.time() \n",
        "\n",
        "review_data = read_review_data('./ratings.txt')\n",
        "print(len(review_data)) # 리뷰 데이터 전체 개수\n",
        "print('소요 시간 :', time.time() - start) # 초"
      ],
      "execution_count": 21,
      "outputs": [
        {
          "output_type": "stream",
          "name": "stdout",
          "text": [
            "200000\n",
            "소요 시간 : 0.6388688087463379\n"
          ]
        }
      ]
    },
    {
      "cell_type": "code",
      "metadata": {
        "colab": {
          "base_uri": "https://localhost:8080/"
        },
        "id": "cpY5iE2aceBX",
        "outputId": "04fec2a6-cfb2-4859-c448-803c6509e3d3"
      },
      "source": [
        "komoran = Komoran()\n",
        "\n",
        "# 명사만 추출\n",
        "docs = [komoran.nouns(sentence[1]) for sentence in review_data]\n",
        "\n",
        "# 모델 학습\n",
        "model = Word2Vec(sentences=docs, # 학습에 필요한 문장 데이터, 모델의 입력값\n",
        "                 size=200,       # 벡터의 차원, 크기\n",
        "                 window=4,       # 주변 단어 크기 (-+4)\n",
        "                 hs=1,           # softmax 사용\n",
        "                 min_count=2,    # 빈도수 2이하의 단어들은 학습X\n",
        "                 sg=1)           # skip_gram 모델 <-> 0 : CBOW 모델\n",
        "\n",
        "# 모델 저장\n",
        "model.save('nvmc_model')\n",
        "\n",
        "print('학습된 전체 말뭉치 수 :', model.corpus_count)\n",
        "print('전체 단어 수 :', model.corpus_total_words)\n"
      ],
      "execution_count": 22,
      "outputs": [
        {
          "output_type": "stream",
          "name": "stdout",
          "text": [
            "학습된 전체 말뭉치 수 : 200000\n",
            "전체 단어 수 : 1076896\n"
          ]
        }
      ]
    },
    {
      "cell_type": "code",
      "metadata": {
        "id": "_ZRbB93lfa2n",
        "colab": {
          "base_uri": "https://localhost:8080/"
        },
        "outputId": "a742208a-e435-49f6-fcba-df7af064f15e"
      },
      "source": [
        "# model = Word2Vec.load('nvmc.model')\n",
        "print(model.corpus_total_words)"
      ],
      "execution_count": 23,
      "outputs": [
        {
          "output_type": "stream",
          "name": "stdout",
          "text": [
            "1076896\n"
          ]
        }
      ]
    },
    {
      "cell_type": "code",
      "metadata": {
        "colab": {
          "base_uri": "https://localhost:8080/"
        },
        "id": "Sb3gu6N8ni2b",
        "outputId": "957495e2-7921-4e43-8174-785a9e0e9a97"
      },
      "source": [
        "# '사랑'의 단어 임베딩 벡터\n",
        "print('사랑 :', model.wv['사랑'])"
      ],
      "execution_count": 24,
      "outputs": [
        {
          "output_type": "stream",
          "name": "stdout",
          "text": [
            "사랑 : [-3.25132996e-01  9.49239358e-02 -7.27859065e-02  3.75660732e-02\n",
            "  1.52383685e-01 -1.54868037e-01  9.90684330e-02  7.32056946e-02\n",
            "  5.43037839e-02  1.58139408e-01  1.59347922e-01 -5.50184011e-01\n",
            "  1.82143494e-01 -2.21779034e-01  9.28486437e-02  2.30329752e-01\n",
            "  8.90698507e-02 -2.83395588e-01  2.82393664e-01 -6.60710409e-02\n",
            " -3.43848675e-01  2.35406503e-01  2.15733856e-01 -2.59648144e-01\n",
            "  6.88189194e-02 -2.94554383e-01 -6.33020885e-03  1.12724416e-01\n",
            " -6.83600008e-02 -2.57834904e-02  2.23865554e-01 -2.60134898e-02\n",
            "  1.07018173e-01 -2.69229501e-01  1.64983153e-01  2.97880501e-01\n",
            "  2.04045057e-01 -2.30742767e-01 -1.96260989e-01  5.65744378e-02\n",
            "  2.28106335e-01 -1.48322344e-01  9.81271565e-02 -1.00983381e-01\n",
            "  3.92448992e-01 -1.25985697e-01 -1.09778628e-01 -3.06098133e-01\n",
            "  9.04968306e-02 -3.99273843e-01  5.41122109e-02  1.99968666e-01\n",
            " -3.78118758e-03 -2.42162757e-02  1.15088336e-01  1.05973417e-02\n",
            " -1.40424982e-01  2.24841192e-01 -7.63004273e-02  3.22514564e-01\n",
            " -2.70276755e-01 -2.06087694e-01 -2.96818435e-01  2.29152158e-01\n",
            " -1.46370932e-01 -2.03879803e-01  1.77423786e-02  2.25457624e-01\n",
            " -3.24685931e-01 -1.11652441e-01 -1.85138643e-01 -1.85791612e-01\n",
            "  2.47519165e-01  3.81477475e-01  1.56068597e-02 -8.41916353e-02\n",
            "  1.39080301e-01  2.07407791e-02 -4.91421763e-03  3.87460113e-01\n",
            " -4.63679135e-01 -2.56587356e-01  2.33392864e-01  3.28730702e-01\n",
            "  5.67553230e-02  1.66023910e-01 -2.94029891e-01  1.41463876e-01\n",
            "  8.76304880e-03  3.92566234e-01  6.47168383e-02  1.78295612e-01\n",
            " -1.35549664e-01 -7.07503501e-03  4.47944045e-01  1.26542971e-01\n",
            " -1.02851152e-01  1.39192685e-01  8.28573704e-02  3.35664392e-01\n",
            "  1.42619208e-01 -2.16552913e-01 -1.80436477e-01 -9.28832442e-02\n",
            "  2.94516504e-01  1.44678861e-01 -1.60797477e-01 -8.12501460e-03\n",
            " -2.25640565e-01  1.36914670e-01  1.36809111e-01  3.01781893e-01\n",
            "  2.08153993e-01  6.59821630e-02  2.32278302e-01  2.48383790e-01\n",
            "  1.55720606e-01 -1.06294759e-01  3.75566557e-02 -5.43931536e-02\n",
            "  5.79683594e-02 -1.07063144e-01 -1.42514497e-01  5.10189822e-03\n",
            "  1.18486382e-01 -5.95254660e-01 -1.55447006e-01 -1.20034084e-01\n",
            "  7.21990541e-02  1.03710204e-01  2.46437755e-03 -2.92564362e-01\n",
            " -9.05316323e-02  3.03519279e-01 -2.81184703e-01  1.13826752e-01\n",
            "  5.55334128e-02 -2.52897620e-01 -2.36962423e-01 -2.95930564e-01\n",
            "  3.79240513e-02 -2.41389453e-01 -5.58051690e-02  1.61057428e-01\n",
            "  2.92517960e-01 -2.27098718e-01  2.39938721e-01  4.43589598e-01\n",
            "  4.99785237e-05 -4.25656050e-01  2.08984241e-01  9.64094177e-02\n",
            " -2.16719463e-01  1.88080743e-01  1.20224268e-03 -1.99158669e-01\n",
            "  7.04546794e-02 -4.20607805e-01 -1.50980324e-01  2.37032786e-01\n",
            " -2.04236470e-02 -3.18047702e-02  1.10384770e-01 -1.05668701e-01\n",
            " -1.27666518e-01 -2.38380849e-01  1.42403869e-02 -1.06496967e-01\n",
            " -1.51733831e-01 -3.86982150e-02 -2.13730872e-01 -8.44914690e-02\n",
            "  4.82499003e-01  1.91666149e-02  2.40396485e-01  1.41801491e-01\n",
            " -1.44857004e-01 -4.68985975e-01  1.77938774e-01 -5.86363561e-02\n",
            " -7.33489450e-03 -2.26289809e-01  8.45393166e-02 -2.07840949e-01\n",
            " -1.11670107e-01 -2.23785147e-01 -1.66627795e-01 -4.53297086e-02\n",
            "  9.33900103e-03 -5.81819490e-02  1.19864009e-01  1.76267371e-01\n",
            "  1.21521704e-01 -1.88786745e-01  1.00086614e-01  2.02722803e-01\n",
            " -1.67047322e-01  9.54995304e-02 -8.28248635e-02 -4.65755723e-02]\n"
          ]
        }
      ]
    },
    {
      "cell_type": "code",
      "metadata": {
        "colab": {
          "base_uri": "https://localhost:8080/"
        },
        "id": "wcYbyxhLnwSe",
        "outputId": "8dcf6251-8586-41b9-d5da-fa9680075f88"
      },
      "source": [
        "# 단어 유사도 계산\n",
        "print('일요일 = 월요일 :', model.wv.similarity(w1='일요일', w2='월요일'))\n",
        "print('안성기 = 배우 :', model.wv.similarity(w1='안성기', w2='배우'))\n",
        "print('대기업 = 삼성 :', model.wv.similarity(w1='대기업', w2='삼성'))\n",
        "print('일요일 = 삼성 :', model.wv.similarity(w1='일요일', w2='삼성'))\n",
        "print('히어로 = 삼성 :', model.wv.similarity(w1='히어로', w2='삼성'))"
      ],
      "execution_count": 25,
      "outputs": [
        {
          "output_type": "stream",
          "name": "stdout",
          "text": [
            "일요일 = 월요일 : 0.6485686\n",
            "안성기 = 배우 : 0.53805023\n",
            "대기업 = 삼성 : 0.59950507\n",
            "일요일 = 삼성 : 0.28219217\n",
            "히어로 = 삼성 : 0.116313495\n"
          ]
        }
      ]
    },
    {
      "cell_type": "code",
      "metadata": {
        "colab": {
          "base_uri": "https://localhost:8080/"
        },
        "id": "Was8P1pSpliw",
        "outputId": "0e8fcb11-325c-4be9-b718-4cd74d97060e"
      },
      "source": [
        "# 가장 유사한 단어 추출\n",
        "print(model.wv.most_similar('안성기', topn=5))\n",
        "print(model.wv.most_similar('시리즈', topn=5))"
      ],
      "execution_count": 26,
      "outputs": [
        {
          "output_type": "stream",
          "name": "stdout",
          "text": [
            "[('장미희', 0.7327877283096313), ('강수연', 0.7213166952133179), ('씨야', 0.7197945713996887), ('김갑수', 0.705034077167511), ('정려원', 0.6993281841278076)]\n",
            "[('캐리비안의 해적', 0.6782627701759338), ('잭 라이언', 0.6648984551429749), ('더 울버린', 0.6647076606750488), ('러시아워', 0.6503764390945435), ('반지의 제왕', 0.6404792666435242)]\n"
          ]
        }
      ]
    }
  ]
}